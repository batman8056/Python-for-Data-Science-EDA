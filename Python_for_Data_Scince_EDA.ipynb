{
  "cells": [
    {
      "cell_type": "markdown",
      "id": "d648f5a6",
      "metadata": {
        "id": "d648f5a6"
      },
      "source": [
        "<table align=\"center\" width=100%>\n",
        "    <tr>\n",
        "       <td>\n",
        "            <div align=\"center\">\n",
        "                <font color=\"#21418C\" size=8px>\n",
        "                    <b> MINI PROJECT - Python for Data Science <br>\n",
        "                    </b>\n",
        "                </font>\n",
        "            </div>\n",
        "        </td>\n",
        "    </tr>\n",
        "</table>"
      ]
    },
    {
      "cell_type": "markdown",
      "source": [
        "# **Exploratory Data Analysis **"
      ],
      "metadata": {
        "id": "mghQJZNtP0nX"
      },
      "id": "mghQJZNtP0nX"
    },
    {
      "cell_type": "code",
      "execution_count": null,
      "id": "e4f54178-39b5-4672-885a-7cb1d6c7bf2e",
      "metadata": {
        "id": "e4f54178-39b5-4672-885a-7cb1d6c7bf2e"
      },
      "outputs": [],
      "source": [
        "#import libraries\n",
        "import numpy as np\n",
        "import pandas as pd\n",
        "import seaborn as sns\n",
        "import matplotlib.pyplot as plt\n",
        "import warnings\n",
        "warnings.filterwarnings(\"ignore\")"
      ]
    },
    {
      "cell_type": "markdown",
      "id": "a7aeef92-91cc-4735-8aec-73543d6f9fe1",
      "metadata": {
        "id": "a7aeef92-91cc-4735-8aec-73543d6f9fe1"
      },
      "source": [
        "1. Read the dataset 'pokemon.csv'. What do you understand from the dataset?"
      ]
    },
    {
      "cell_type": "code",
      "execution_count": null,
      "id": "6ce9b382-c739-4abf-825f-9f02357c3e0d",
      "metadata": {
        "colab": {
          "base_uri": "https://localhost:8080/",
          "height": 206
        },
        "id": "6ce9b382-c739-4abf-825f-9f02357c3e0d",
        "outputId": "5f1096f3-a139-4efb-f11f-f34dba79702d"
      },
      "outputs": [
        {
          "output_type": "execute_result",
          "data": {
            "text/plain": [
              "   #                   Name Type 1  Type 2  Total  HP  Attack  Defense  \\\n",
              "0  1              Bulbasaur  Grass  Poison    318  45      49       49   \n",
              "1  2                Ivysaur  Grass  Poison    405  60      62       63   \n",
              "2  3               Venusaur  Grass  Poison    525  80      82       83   \n",
              "3  3  VenusaurMega Venusaur  Grass  Poison    625  80     100      123   \n",
              "4  4             Charmander   Fire     NaN    309  39      52       43   \n",
              "\n",
              "   Sp. Atk  Sp. Def  Speed  Generation  Legendary  \n",
              "0       65       65     45           1      False  \n",
              "1       80       80     60           1      False  \n",
              "2      100      100     80           1      False  \n",
              "3      122      120     80           1      False  \n",
              "4       60       50     65           1      False  "
            ],
            "text/html": [
              "\n",
              "  <div id=\"df-75fb5120-e809-43be-af03-db47ca92f75a\">\n",
              "    <div class=\"colab-df-container\">\n",
              "      <div>\n",
              "<style scoped>\n",
              "    .dataframe tbody tr th:only-of-type {\n",
              "        vertical-align: middle;\n",
              "    }\n",
              "\n",
              "    .dataframe tbody tr th {\n",
              "        vertical-align: top;\n",
              "    }\n",
              "\n",
              "    .dataframe thead th {\n",
              "        text-align: right;\n",
              "    }\n",
              "</style>\n",
              "<table border=\"1\" class=\"dataframe\">\n",
              "  <thead>\n",
              "    <tr style=\"text-align: right;\">\n",
              "      <th></th>\n",
              "      <th>#</th>\n",
              "      <th>Name</th>\n",
              "      <th>Type 1</th>\n",
              "      <th>Type 2</th>\n",
              "      <th>Total</th>\n",
              "      <th>HP</th>\n",
              "      <th>Attack</th>\n",
              "      <th>Defense</th>\n",
              "      <th>Sp. Atk</th>\n",
              "      <th>Sp. Def</th>\n",
              "      <th>Speed</th>\n",
              "      <th>Generation</th>\n",
              "      <th>Legendary</th>\n",
              "    </tr>\n",
              "  </thead>\n",
              "  <tbody>\n",
              "    <tr>\n",
              "      <th>0</th>\n",
              "      <td>1</td>\n",
              "      <td>Bulbasaur</td>\n",
              "      <td>Grass</td>\n",
              "      <td>Poison</td>\n",
              "      <td>318</td>\n",
              "      <td>45</td>\n",
              "      <td>49</td>\n",
              "      <td>49</td>\n",
              "      <td>65</td>\n",
              "      <td>65</td>\n",
              "      <td>45</td>\n",
              "      <td>1</td>\n",
              "      <td>False</td>\n",
              "    </tr>\n",
              "    <tr>\n",
              "      <th>1</th>\n",
              "      <td>2</td>\n",
              "      <td>Ivysaur</td>\n",
              "      <td>Grass</td>\n",
              "      <td>Poison</td>\n",
              "      <td>405</td>\n",
              "      <td>60</td>\n",
              "      <td>62</td>\n",
              "      <td>63</td>\n",
              "      <td>80</td>\n",
              "      <td>80</td>\n",
              "      <td>60</td>\n",
              "      <td>1</td>\n",
              "      <td>False</td>\n",
              "    </tr>\n",
              "    <tr>\n",
              "      <th>2</th>\n",
              "      <td>3</td>\n",
              "      <td>Venusaur</td>\n",
              "      <td>Grass</td>\n",
              "      <td>Poison</td>\n",
              "      <td>525</td>\n",
              "      <td>80</td>\n",
              "      <td>82</td>\n",
              "      <td>83</td>\n",
              "      <td>100</td>\n",
              "      <td>100</td>\n",
              "      <td>80</td>\n",
              "      <td>1</td>\n",
              "      <td>False</td>\n",
              "    </tr>\n",
              "    <tr>\n",
              "      <th>3</th>\n",
              "      <td>3</td>\n",
              "      <td>VenusaurMega Venusaur</td>\n",
              "      <td>Grass</td>\n",
              "      <td>Poison</td>\n",
              "      <td>625</td>\n",
              "      <td>80</td>\n",
              "      <td>100</td>\n",
              "      <td>123</td>\n",
              "      <td>122</td>\n",
              "      <td>120</td>\n",
              "      <td>80</td>\n",
              "      <td>1</td>\n",
              "      <td>False</td>\n",
              "    </tr>\n",
              "    <tr>\n",
              "      <th>4</th>\n",
              "      <td>4</td>\n",
              "      <td>Charmander</td>\n",
              "      <td>Fire</td>\n",
              "      <td>NaN</td>\n",
              "      <td>309</td>\n",
              "      <td>39</td>\n",
              "      <td>52</td>\n",
              "      <td>43</td>\n",
              "      <td>60</td>\n",
              "      <td>50</td>\n",
              "      <td>65</td>\n",
              "      <td>1</td>\n",
              "      <td>False</td>\n",
              "    </tr>\n",
              "  </tbody>\n",
              "</table>\n",
              "</div>\n",
              "      <button class=\"colab-df-convert\" onclick=\"convertToInteractive('df-75fb5120-e809-43be-af03-db47ca92f75a')\"\n",
              "              title=\"Convert this dataframe to an interactive table.\"\n",
              "              style=\"display:none;\">\n",
              "        \n",
              "  <svg xmlns=\"http://www.w3.org/2000/svg\" height=\"24px\"viewBox=\"0 0 24 24\"\n",
              "       width=\"24px\">\n",
              "    <path d=\"M0 0h24v24H0V0z\" fill=\"none\"/>\n",
              "    <path d=\"M18.56 5.44l.94 2.06.94-2.06 2.06-.94-2.06-.94-.94-2.06-.94 2.06-2.06.94zm-11 1L8.5 8.5l.94-2.06 2.06-.94-2.06-.94L8.5 2.5l-.94 2.06-2.06.94zm10 10l.94 2.06.94-2.06 2.06-.94-2.06-.94-.94-2.06-.94 2.06-2.06.94z\"/><path d=\"M17.41 7.96l-1.37-1.37c-.4-.4-.92-.59-1.43-.59-.52 0-1.04.2-1.43.59L10.3 9.45l-7.72 7.72c-.78.78-.78 2.05 0 2.83L4 21.41c.39.39.9.59 1.41.59.51 0 1.02-.2 1.41-.59l7.78-7.78 2.81-2.81c.8-.78.8-2.07 0-2.86zM5.41 20L4 18.59l7.72-7.72 1.47 1.35L5.41 20z\"/>\n",
              "  </svg>\n",
              "      </button>\n",
              "      \n",
              "  <style>\n",
              "    .colab-df-container {\n",
              "      display:flex;\n",
              "      flex-wrap:wrap;\n",
              "      gap: 12px;\n",
              "    }\n",
              "\n",
              "    .colab-df-convert {\n",
              "      background-color: #E8F0FE;\n",
              "      border: none;\n",
              "      border-radius: 50%;\n",
              "      cursor: pointer;\n",
              "      display: none;\n",
              "      fill: #1967D2;\n",
              "      height: 32px;\n",
              "      padding: 0 0 0 0;\n",
              "      width: 32px;\n",
              "    }\n",
              "\n",
              "    .colab-df-convert:hover {\n",
              "      background-color: #E2EBFA;\n",
              "      box-shadow: 0px 1px 2px rgba(60, 64, 67, 0.3), 0px 1px 3px 1px rgba(60, 64, 67, 0.15);\n",
              "      fill: #174EA6;\n",
              "    }\n",
              "\n",
              "    [theme=dark] .colab-df-convert {\n",
              "      background-color: #3B4455;\n",
              "      fill: #D2E3FC;\n",
              "    }\n",
              "\n",
              "    [theme=dark] .colab-df-convert:hover {\n",
              "      background-color: #434B5C;\n",
              "      box-shadow: 0px 1px 3px 1px rgba(0, 0, 0, 0.15);\n",
              "      filter: drop-shadow(0px 1px 2px rgba(0, 0, 0, 0.3));\n",
              "      fill: #FFFFFF;\n",
              "    }\n",
              "  </style>\n",
              "\n",
              "      <script>\n",
              "        const buttonEl =\n",
              "          document.querySelector('#df-75fb5120-e809-43be-af03-db47ca92f75a button.colab-df-convert');\n",
              "        buttonEl.style.display =\n",
              "          google.colab.kernel.accessAllowed ? 'block' : 'none';\n",
              "\n",
              "        async function convertToInteractive(key) {\n",
              "          const element = document.querySelector('#df-75fb5120-e809-43be-af03-db47ca92f75a');\n",
              "          const dataTable =\n",
              "            await google.colab.kernel.invokeFunction('convertToInteractive',\n",
              "                                                     [key], {});\n",
              "          if (!dataTable) return;\n",
              "\n",
              "          const docLinkHtml = 'Like what you see? Visit the ' +\n",
              "            '<a target=\"_blank\" href=https://colab.research.google.com/notebooks/data_table.ipynb>data table notebook</a>'\n",
              "            + ' to learn more about interactive tables.';\n",
              "          element.innerHTML = '';\n",
              "          dataTable['output_type'] = 'display_data';\n",
              "          await google.colab.output.renderOutput(dataTable, element);\n",
              "          const docLink = document.createElement('div');\n",
              "          docLink.innerHTML = docLinkHtml;\n",
              "          element.appendChild(docLink);\n",
              "        }\n",
              "      </script>\n",
              "    </div>\n",
              "  </div>\n",
              "  "
            ]
          },
          "metadata": {},
          "execution_count": 31
        }
      ],
      "source": [
        "df= pd.read_csv('Pokemon.csv')# Reading the csv file and saving it as a dataframe in df\n",
        "df.head()# Displaying first 5 records"
      ]
    },
    {
      "cell_type": "markdown",
      "id": "e6bdd8a5-516c-4b32-94b6-eb97a283e417",
      "metadata": {
        "id": "e6bdd8a5-516c-4b32-94b6-eb97a283e417"
      },
      "source": [
        "2. List the columns in the dataframe."
      ]
    },
    {
      "cell_type": "code",
      "execution_count": null,
      "id": "e8222a50-ed0c-4c75-b28c-e3761dfe7a48",
      "metadata": {
        "colab": {
          "base_uri": "https://localhost:8080/"
        },
        "id": "e8222a50-ed0c-4c75-b28c-e3761dfe7a48",
        "outputId": "a1f0b778-4cc1-4131-857d-0f574bed650a"
      },
      "outputs": [
        {
          "output_type": "execute_result",
          "data": {
            "text/plain": [
              "Index(['#', 'Name', 'Type 1', 'Type 2', 'Total', 'HP', 'Attack', 'Defense',\n",
              "       'Sp. Atk', 'Sp. Def', 'Speed', 'Generation', 'Legendary'],\n",
              "      dtype='object')"
            ]
          },
          "metadata": {},
          "execution_count": 32
        }
      ],
      "source": [
        "col = df.columns #Listing the columns name present in df dataframe\n",
        "col"
      ]
    },
    {
      "cell_type": "markdown",
      "id": "1a9de62e-754c-4426-ae6e-ef3097b43d6d",
      "metadata": {
        "id": "1a9de62e-754c-4426-ae6e-ef3097b43d6d"
      },
      "source": [
        "3. Drop the column '#'.     [1 mark]"
      ]
    },
    {
      "cell_type": "code",
      "execution_count": null,
      "id": "63db2d7f-c919-4d85-8fb7-61ee6792dde4",
      "metadata": {
        "colab": {
          "base_uri": "https://localhost:8080/",
          "height": 423
        },
        "id": "63db2d7f-c919-4d85-8fb7-61ee6792dde4",
        "outputId": "fdf7174d-bcab-4cc4-ba43-c893c39eef88"
      },
      "outputs": [
        {
          "output_type": "execute_result",
          "data": {
            "text/plain": [
              "                      Name   Type 1  Type 2  Total  HP  Attack  Defense  \\\n",
              "0                Bulbasaur    Grass  Poison    318  45      49       49   \n",
              "1                  Ivysaur    Grass  Poison    405  60      62       63   \n",
              "2                 Venusaur    Grass  Poison    525  80      82       83   \n",
              "3    VenusaurMega Venusaur    Grass  Poison    625  80     100      123   \n",
              "4               Charmander     Fire     NaN    309  39      52       43   \n",
              "..                     ...      ...     ...    ...  ..     ...      ...   \n",
              "795                Diancie     Rock   Fairy    600  50     100      150   \n",
              "796    DiancieMega Diancie     Rock   Fairy    700  50     160      110   \n",
              "797    HoopaHoopa Confined  Psychic   Ghost    600  80     110       60   \n",
              "798     HoopaHoopa Unbound  Psychic    Dark    680  80     160       60   \n",
              "799              Volcanion     Fire   Water    600  80     110      120   \n",
              "\n",
              "     Sp. Atk  Sp. Def  Speed  Generation  Legendary  \n",
              "0         65       65     45           1      False  \n",
              "1         80       80     60           1      False  \n",
              "2        100      100     80           1      False  \n",
              "3        122      120     80           1      False  \n",
              "4         60       50     65           1      False  \n",
              "..       ...      ...    ...         ...        ...  \n",
              "795      100      150     50           6       True  \n",
              "796      160      110    110           6       True  \n",
              "797      150      130     70           6       True  \n",
              "798      170      130     80           6       True  \n",
              "799      130       90     70           6       True  \n",
              "\n",
              "[800 rows x 12 columns]"
            ],
            "text/html": [
              "\n",
              "  <div id=\"df-06e93377-28d1-496f-94aa-648b2e746f98\">\n",
              "    <div class=\"colab-df-container\">\n",
              "      <div>\n",
              "<style scoped>\n",
              "    .dataframe tbody tr th:only-of-type {\n",
              "        vertical-align: middle;\n",
              "    }\n",
              "\n",
              "    .dataframe tbody tr th {\n",
              "        vertical-align: top;\n",
              "    }\n",
              "\n",
              "    .dataframe thead th {\n",
              "        text-align: right;\n",
              "    }\n",
              "</style>\n",
              "<table border=\"1\" class=\"dataframe\">\n",
              "  <thead>\n",
              "    <tr style=\"text-align: right;\">\n",
              "      <th></th>\n",
              "      <th>Name</th>\n",
              "      <th>Type 1</th>\n",
              "      <th>Type 2</th>\n",
              "      <th>Total</th>\n",
              "      <th>HP</th>\n",
              "      <th>Attack</th>\n",
              "      <th>Defense</th>\n",
              "      <th>Sp. Atk</th>\n",
              "      <th>Sp. Def</th>\n",
              "      <th>Speed</th>\n",
              "      <th>Generation</th>\n",
              "      <th>Legendary</th>\n",
              "    </tr>\n",
              "  </thead>\n",
              "  <tbody>\n",
              "    <tr>\n",
              "      <th>0</th>\n",
              "      <td>Bulbasaur</td>\n",
              "      <td>Grass</td>\n",
              "      <td>Poison</td>\n",
              "      <td>318</td>\n",
              "      <td>45</td>\n",
              "      <td>49</td>\n",
              "      <td>49</td>\n",
              "      <td>65</td>\n",
              "      <td>65</td>\n",
              "      <td>45</td>\n",
              "      <td>1</td>\n",
              "      <td>False</td>\n",
              "    </tr>\n",
              "    <tr>\n",
              "      <th>1</th>\n",
              "      <td>Ivysaur</td>\n",
              "      <td>Grass</td>\n",
              "      <td>Poison</td>\n",
              "      <td>405</td>\n",
              "      <td>60</td>\n",
              "      <td>62</td>\n",
              "      <td>63</td>\n",
              "      <td>80</td>\n",
              "      <td>80</td>\n",
              "      <td>60</td>\n",
              "      <td>1</td>\n",
              "      <td>False</td>\n",
              "    </tr>\n",
              "    <tr>\n",
              "      <th>2</th>\n",
              "      <td>Venusaur</td>\n",
              "      <td>Grass</td>\n",
              "      <td>Poison</td>\n",
              "      <td>525</td>\n",
              "      <td>80</td>\n",
              "      <td>82</td>\n",
              "      <td>83</td>\n",
              "      <td>100</td>\n",
              "      <td>100</td>\n",
              "      <td>80</td>\n",
              "      <td>1</td>\n",
              "      <td>False</td>\n",
              "    </tr>\n",
              "    <tr>\n",
              "      <th>3</th>\n",
              "      <td>VenusaurMega Venusaur</td>\n",
              "      <td>Grass</td>\n",
              "      <td>Poison</td>\n",
              "      <td>625</td>\n",
              "      <td>80</td>\n",
              "      <td>100</td>\n",
              "      <td>123</td>\n",
              "      <td>122</td>\n",
              "      <td>120</td>\n",
              "      <td>80</td>\n",
              "      <td>1</td>\n",
              "      <td>False</td>\n",
              "    </tr>\n",
              "    <tr>\n",
              "      <th>4</th>\n",
              "      <td>Charmander</td>\n",
              "      <td>Fire</td>\n",
              "      <td>NaN</td>\n",
              "      <td>309</td>\n",
              "      <td>39</td>\n",
              "      <td>52</td>\n",
              "      <td>43</td>\n",
              "      <td>60</td>\n",
              "      <td>50</td>\n",
              "      <td>65</td>\n",
              "      <td>1</td>\n",
              "      <td>False</td>\n",
              "    </tr>\n",
              "    <tr>\n",
              "      <th>...</th>\n",
              "      <td>...</td>\n",
              "      <td>...</td>\n",
              "      <td>...</td>\n",
              "      <td>...</td>\n",
              "      <td>...</td>\n",
              "      <td>...</td>\n",
              "      <td>...</td>\n",
              "      <td>...</td>\n",
              "      <td>...</td>\n",
              "      <td>...</td>\n",
              "      <td>...</td>\n",
              "      <td>...</td>\n",
              "    </tr>\n",
              "    <tr>\n",
              "      <th>795</th>\n",
              "      <td>Diancie</td>\n",
              "      <td>Rock</td>\n",
              "      <td>Fairy</td>\n",
              "      <td>600</td>\n",
              "      <td>50</td>\n",
              "      <td>100</td>\n",
              "      <td>150</td>\n",
              "      <td>100</td>\n",
              "      <td>150</td>\n",
              "      <td>50</td>\n",
              "      <td>6</td>\n",
              "      <td>True</td>\n",
              "    </tr>\n",
              "    <tr>\n",
              "      <th>796</th>\n",
              "      <td>DiancieMega Diancie</td>\n",
              "      <td>Rock</td>\n",
              "      <td>Fairy</td>\n",
              "      <td>700</td>\n",
              "      <td>50</td>\n",
              "      <td>160</td>\n",
              "      <td>110</td>\n",
              "      <td>160</td>\n",
              "      <td>110</td>\n",
              "      <td>110</td>\n",
              "      <td>6</td>\n",
              "      <td>True</td>\n",
              "    </tr>\n",
              "    <tr>\n",
              "      <th>797</th>\n",
              "      <td>HoopaHoopa Confined</td>\n",
              "      <td>Psychic</td>\n",
              "      <td>Ghost</td>\n",
              "      <td>600</td>\n",
              "      <td>80</td>\n",
              "      <td>110</td>\n",
              "      <td>60</td>\n",
              "      <td>150</td>\n",
              "      <td>130</td>\n",
              "      <td>70</td>\n",
              "      <td>6</td>\n",
              "      <td>True</td>\n",
              "    </tr>\n",
              "    <tr>\n",
              "      <th>798</th>\n",
              "      <td>HoopaHoopa Unbound</td>\n",
              "      <td>Psychic</td>\n",
              "      <td>Dark</td>\n",
              "      <td>680</td>\n",
              "      <td>80</td>\n",
              "      <td>160</td>\n",
              "      <td>60</td>\n",
              "      <td>170</td>\n",
              "      <td>130</td>\n",
              "      <td>80</td>\n",
              "      <td>6</td>\n",
              "      <td>True</td>\n",
              "    </tr>\n",
              "    <tr>\n",
              "      <th>799</th>\n",
              "      <td>Volcanion</td>\n",
              "      <td>Fire</td>\n",
              "      <td>Water</td>\n",
              "      <td>600</td>\n",
              "      <td>80</td>\n",
              "      <td>110</td>\n",
              "      <td>120</td>\n",
              "      <td>130</td>\n",
              "      <td>90</td>\n",
              "      <td>70</td>\n",
              "      <td>6</td>\n",
              "      <td>True</td>\n",
              "    </tr>\n",
              "  </tbody>\n",
              "</table>\n",
              "<p>800 rows × 12 columns</p>\n",
              "</div>\n",
              "      <button class=\"colab-df-convert\" onclick=\"convertToInteractive('df-06e93377-28d1-496f-94aa-648b2e746f98')\"\n",
              "              title=\"Convert this dataframe to an interactive table.\"\n",
              "              style=\"display:none;\">\n",
              "        \n",
              "  <svg xmlns=\"http://www.w3.org/2000/svg\" height=\"24px\"viewBox=\"0 0 24 24\"\n",
              "       width=\"24px\">\n",
              "    <path d=\"M0 0h24v24H0V0z\" fill=\"none\"/>\n",
              "    <path d=\"M18.56 5.44l.94 2.06.94-2.06 2.06-.94-2.06-.94-.94-2.06-.94 2.06-2.06.94zm-11 1L8.5 8.5l.94-2.06 2.06-.94-2.06-.94L8.5 2.5l-.94 2.06-2.06.94zm10 10l.94 2.06.94-2.06 2.06-.94-2.06-.94-.94-2.06-.94 2.06-2.06.94z\"/><path d=\"M17.41 7.96l-1.37-1.37c-.4-.4-.92-.59-1.43-.59-.52 0-1.04.2-1.43.59L10.3 9.45l-7.72 7.72c-.78.78-.78 2.05 0 2.83L4 21.41c.39.39.9.59 1.41.59.51 0 1.02-.2 1.41-.59l7.78-7.78 2.81-2.81c.8-.78.8-2.07 0-2.86zM5.41 20L4 18.59l7.72-7.72 1.47 1.35L5.41 20z\"/>\n",
              "  </svg>\n",
              "      </button>\n",
              "      \n",
              "  <style>\n",
              "    .colab-df-container {\n",
              "      display:flex;\n",
              "      flex-wrap:wrap;\n",
              "      gap: 12px;\n",
              "    }\n",
              "\n",
              "    .colab-df-convert {\n",
              "      background-color: #E8F0FE;\n",
              "      border: none;\n",
              "      border-radius: 50%;\n",
              "      cursor: pointer;\n",
              "      display: none;\n",
              "      fill: #1967D2;\n",
              "      height: 32px;\n",
              "      padding: 0 0 0 0;\n",
              "      width: 32px;\n",
              "    }\n",
              "\n",
              "    .colab-df-convert:hover {\n",
              "      background-color: #E2EBFA;\n",
              "      box-shadow: 0px 1px 2px rgba(60, 64, 67, 0.3), 0px 1px 3px 1px rgba(60, 64, 67, 0.15);\n",
              "      fill: #174EA6;\n",
              "    }\n",
              "\n",
              "    [theme=dark] .colab-df-convert {\n",
              "      background-color: #3B4455;\n",
              "      fill: #D2E3FC;\n",
              "    }\n",
              "\n",
              "    [theme=dark] .colab-df-convert:hover {\n",
              "      background-color: #434B5C;\n",
              "      box-shadow: 0px 1px 3px 1px rgba(0, 0, 0, 0.15);\n",
              "      filter: drop-shadow(0px 1px 2px rgba(0, 0, 0, 0.3));\n",
              "      fill: #FFFFFF;\n",
              "    }\n",
              "  </style>\n",
              "\n",
              "      <script>\n",
              "        const buttonEl =\n",
              "          document.querySelector('#df-06e93377-28d1-496f-94aa-648b2e746f98 button.colab-df-convert');\n",
              "        buttonEl.style.display =\n",
              "          google.colab.kernel.accessAllowed ? 'block' : 'none';\n",
              "\n",
              "        async function convertToInteractive(key) {\n",
              "          const element = document.querySelector('#df-06e93377-28d1-496f-94aa-648b2e746f98');\n",
              "          const dataTable =\n",
              "            await google.colab.kernel.invokeFunction('convertToInteractive',\n",
              "                                                     [key], {});\n",
              "          if (!dataTable) return;\n",
              "\n",
              "          const docLinkHtml = 'Like what you see? Visit the ' +\n",
              "            '<a target=\"_blank\" href=https://colab.research.google.com/notebooks/data_table.ipynb>data table notebook</a>'\n",
              "            + ' to learn more about interactive tables.';\n",
              "          element.innerHTML = '';\n",
              "          dataTable['output_type'] = 'display_data';\n",
              "          await google.colab.output.renderOutput(dataTable, element);\n",
              "          const docLink = document.createElement('div');\n",
              "          docLink.innerHTML = docLinkHtml;\n",
              "          element.appendChild(docLink);\n",
              "        }\n",
              "      </script>\n",
              "    </div>\n",
              "  </div>\n",
              "  "
            ]
          },
          "metadata": {},
          "execution_count": 33
        }
      ],
      "source": [
        "df_h=df.drop(['#'], axis=1)# Dropping the column '#' using drop()\n",
        "df_h#display the balance value"
      ]
    },
    {
      "cell_type": "markdown",
      "id": "0afe32e2-4e0a-48e8-8bec-05bb8d66919c",
      "metadata": {
        "id": "0afe32e2-4e0a-48e8-8bec-05bb8d66919c"
      },
      "source": [
        "4. Check if the dataset has null values."
      ]
    },
    {
      "cell_type": "code",
      "execution_count": null,
      "id": "6c4fb84c-0873-418a-bcf8-808d1262dd36",
      "metadata": {
        "colab": {
          "base_uri": "https://localhost:8080/",
          "height": 423
        },
        "id": "6c4fb84c-0873-418a-bcf8-808d1262dd36",
        "outputId": "3e36cddc-25bf-403d-a82d-a4351ffebf14"
      },
      "outputs": [
        {
          "output_type": "execute_result",
          "data": {
            "text/plain": [
              "      Name  Type 1  Type 2  Total     HP  Attack  Defense  Sp. Atk  Sp. Def  \\\n",
              "0    False   False   False  False  False   False    False    False    False   \n",
              "1    False   False   False  False  False   False    False    False    False   \n",
              "2    False   False   False  False  False   False    False    False    False   \n",
              "3    False   False   False  False  False   False    False    False    False   \n",
              "4    False   False    True  False  False   False    False    False    False   \n",
              "..     ...     ...     ...    ...    ...     ...      ...      ...      ...   \n",
              "795  False   False   False  False  False   False    False    False    False   \n",
              "796  False   False   False  False  False   False    False    False    False   \n",
              "797  False   False   False  False  False   False    False    False    False   \n",
              "798  False   False   False  False  False   False    False    False    False   \n",
              "799  False   False   False  False  False   False    False    False    False   \n",
              "\n",
              "     Speed  Generation  Legendary  \n",
              "0    False       False      False  \n",
              "1    False       False      False  \n",
              "2    False       False      False  \n",
              "3    False       False      False  \n",
              "4    False       False      False  \n",
              "..     ...         ...        ...  \n",
              "795  False       False      False  \n",
              "796  False       False      False  \n",
              "797  False       False      False  \n",
              "798  False       False      False  \n",
              "799  False       False      False  \n",
              "\n",
              "[800 rows x 12 columns]"
            ],
            "text/html": [
              "\n",
              "  <div id=\"df-ca58b5f1-808f-46f7-ad0c-5d7871704cd1\">\n",
              "    <div class=\"colab-df-container\">\n",
              "      <div>\n",
              "<style scoped>\n",
              "    .dataframe tbody tr th:only-of-type {\n",
              "        vertical-align: middle;\n",
              "    }\n",
              "\n",
              "    .dataframe tbody tr th {\n",
              "        vertical-align: top;\n",
              "    }\n",
              "\n",
              "    .dataframe thead th {\n",
              "        text-align: right;\n",
              "    }\n",
              "</style>\n",
              "<table border=\"1\" class=\"dataframe\">\n",
              "  <thead>\n",
              "    <tr style=\"text-align: right;\">\n",
              "      <th></th>\n",
              "      <th>Name</th>\n",
              "      <th>Type 1</th>\n",
              "      <th>Type 2</th>\n",
              "      <th>Total</th>\n",
              "      <th>HP</th>\n",
              "      <th>Attack</th>\n",
              "      <th>Defense</th>\n",
              "      <th>Sp. Atk</th>\n",
              "      <th>Sp. Def</th>\n",
              "      <th>Speed</th>\n",
              "      <th>Generation</th>\n",
              "      <th>Legendary</th>\n",
              "    </tr>\n",
              "  </thead>\n",
              "  <tbody>\n",
              "    <tr>\n",
              "      <th>0</th>\n",
              "      <td>False</td>\n",
              "      <td>False</td>\n",
              "      <td>False</td>\n",
              "      <td>False</td>\n",
              "      <td>False</td>\n",
              "      <td>False</td>\n",
              "      <td>False</td>\n",
              "      <td>False</td>\n",
              "      <td>False</td>\n",
              "      <td>False</td>\n",
              "      <td>False</td>\n",
              "      <td>False</td>\n",
              "    </tr>\n",
              "    <tr>\n",
              "      <th>1</th>\n",
              "      <td>False</td>\n",
              "      <td>False</td>\n",
              "      <td>False</td>\n",
              "      <td>False</td>\n",
              "      <td>False</td>\n",
              "      <td>False</td>\n",
              "      <td>False</td>\n",
              "      <td>False</td>\n",
              "      <td>False</td>\n",
              "      <td>False</td>\n",
              "      <td>False</td>\n",
              "      <td>False</td>\n",
              "    </tr>\n",
              "    <tr>\n",
              "      <th>2</th>\n",
              "      <td>False</td>\n",
              "      <td>False</td>\n",
              "      <td>False</td>\n",
              "      <td>False</td>\n",
              "      <td>False</td>\n",
              "      <td>False</td>\n",
              "      <td>False</td>\n",
              "      <td>False</td>\n",
              "      <td>False</td>\n",
              "      <td>False</td>\n",
              "      <td>False</td>\n",
              "      <td>False</td>\n",
              "    </tr>\n",
              "    <tr>\n",
              "      <th>3</th>\n",
              "      <td>False</td>\n",
              "      <td>False</td>\n",
              "      <td>False</td>\n",
              "      <td>False</td>\n",
              "      <td>False</td>\n",
              "      <td>False</td>\n",
              "      <td>False</td>\n",
              "      <td>False</td>\n",
              "      <td>False</td>\n",
              "      <td>False</td>\n",
              "      <td>False</td>\n",
              "      <td>False</td>\n",
              "    </tr>\n",
              "    <tr>\n",
              "      <th>4</th>\n",
              "      <td>False</td>\n",
              "      <td>False</td>\n",
              "      <td>True</td>\n",
              "      <td>False</td>\n",
              "      <td>False</td>\n",
              "      <td>False</td>\n",
              "      <td>False</td>\n",
              "      <td>False</td>\n",
              "      <td>False</td>\n",
              "      <td>False</td>\n",
              "      <td>False</td>\n",
              "      <td>False</td>\n",
              "    </tr>\n",
              "    <tr>\n",
              "      <th>...</th>\n",
              "      <td>...</td>\n",
              "      <td>...</td>\n",
              "      <td>...</td>\n",
              "      <td>...</td>\n",
              "      <td>...</td>\n",
              "      <td>...</td>\n",
              "      <td>...</td>\n",
              "      <td>...</td>\n",
              "      <td>...</td>\n",
              "      <td>...</td>\n",
              "      <td>...</td>\n",
              "      <td>...</td>\n",
              "    </tr>\n",
              "    <tr>\n",
              "      <th>795</th>\n",
              "      <td>False</td>\n",
              "      <td>False</td>\n",
              "      <td>False</td>\n",
              "      <td>False</td>\n",
              "      <td>False</td>\n",
              "      <td>False</td>\n",
              "      <td>False</td>\n",
              "      <td>False</td>\n",
              "      <td>False</td>\n",
              "      <td>False</td>\n",
              "      <td>False</td>\n",
              "      <td>False</td>\n",
              "    </tr>\n",
              "    <tr>\n",
              "      <th>796</th>\n",
              "      <td>False</td>\n",
              "      <td>False</td>\n",
              "      <td>False</td>\n",
              "      <td>False</td>\n",
              "      <td>False</td>\n",
              "      <td>False</td>\n",
              "      <td>False</td>\n",
              "      <td>False</td>\n",
              "      <td>False</td>\n",
              "      <td>False</td>\n",
              "      <td>False</td>\n",
              "      <td>False</td>\n",
              "    </tr>\n",
              "    <tr>\n",
              "      <th>797</th>\n",
              "      <td>False</td>\n",
              "      <td>False</td>\n",
              "      <td>False</td>\n",
              "      <td>False</td>\n",
              "      <td>False</td>\n",
              "      <td>False</td>\n",
              "      <td>False</td>\n",
              "      <td>False</td>\n",
              "      <td>False</td>\n",
              "      <td>False</td>\n",
              "      <td>False</td>\n",
              "      <td>False</td>\n",
              "    </tr>\n",
              "    <tr>\n",
              "      <th>798</th>\n",
              "      <td>False</td>\n",
              "      <td>False</td>\n",
              "      <td>False</td>\n",
              "      <td>False</td>\n",
              "      <td>False</td>\n",
              "      <td>False</td>\n",
              "      <td>False</td>\n",
              "      <td>False</td>\n",
              "      <td>False</td>\n",
              "      <td>False</td>\n",
              "      <td>False</td>\n",
              "      <td>False</td>\n",
              "    </tr>\n",
              "    <tr>\n",
              "      <th>799</th>\n",
              "      <td>False</td>\n",
              "      <td>False</td>\n",
              "      <td>False</td>\n",
              "      <td>False</td>\n",
              "      <td>False</td>\n",
              "      <td>False</td>\n",
              "      <td>False</td>\n",
              "      <td>False</td>\n",
              "      <td>False</td>\n",
              "      <td>False</td>\n",
              "      <td>False</td>\n",
              "      <td>False</td>\n",
              "    </tr>\n",
              "  </tbody>\n",
              "</table>\n",
              "<p>800 rows × 12 columns</p>\n",
              "</div>\n",
              "      <button class=\"colab-df-convert\" onclick=\"convertToInteractive('df-ca58b5f1-808f-46f7-ad0c-5d7871704cd1')\"\n",
              "              title=\"Convert this dataframe to an interactive table.\"\n",
              "              style=\"display:none;\">\n",
              "        \n",
              "  <svg xmlns=\"http://www.w3.org/2000/svg\" height=\"24px\"viewBox=\"0 0 24 24\"\n",
              "       width=\"24px\">\n",
              "    <path d=\"M0 0h24v24H0V0z\" fill=\"none\"/>\n",
              "    <path d=\"M18.56 5.44l.94 2.06.94-2.06 2.06-.94-2.06-.94-.94-2.06-.94 2.06-2.06.94zm-11 1L8.5 8.5l.94-2.06 2.06-.94-2.06-.94L8.5 2.5l-.94 2.06-2.06.94zm10 10l.94 2.06.94-2.06 2.06-.94-2.06-.94-.94-2.06-.94 2.06-2.06.94z\"/><path d=\"M17.41 7.96l-1.37-1.37c-.4-.4-.92-.59-1.43-.59-.52 0-1.04.2-1.43.59L10.3 9.45l-7.72 7.72c-.78.78-.78 2.05 0 2.83L4 21.41c.39.39.9.59 1.41.59.51 0 1.02-.2 1.41-.59l7.78-7.78 2.81-2.81c.8-.78.8-2.07 0-2.86zM5.41 20L4 18.59l7.72-7.72 1.47 1.35L5.41 20z\"/>\n",
              "  </svg>\n",
              "      </button>\n",
              "      \n",
              "  <style>\n",
              "    .colab-df-container {\n",
              "      display:flex;\n",
              "      flex-wrap:wrap;\n",
              "      gap: 12px;\n",
              "    }\n",
              "\n",
              "    .colab-df-convert {\n",
              "      background-color: #E8F0FE;\n",
              "      border: none;\n",
              "      border-radius: 50%;\n",
              "      cursor: pointer;\n",
              "      display: none;\n",
              "      fill: #1967D2;\n",
              "      height: 32px;\n",
              "      padding: 0 0 0 0;\n",
              "      width: 32px;\n",
              "    }\n",
              "\n",
              "    .colab-df-convert:hover {\n",
              "      background-color: #E2EBFA;\n",
              "      box-shadow: 0px 1px 2px rgba(60, 64, 67, 0.3), 0px 1px 3px 1px rgba(60, 64, 67, 0.15);\n",
              "      fill: #174EA6;\n",
              "    }\n",
              "\n",
              "    [theme=dark] .colab-df-convert {\n",
              "      background-color: #3B4455;\n",
              "      fill: #D2E3FC;\n",
              "    }\n",
              "\n",
              "    [theme=dark] .colab-df-convert:hover {\n",
              "      background-color: #434B5C;\n",
              "      box-shadow: 0px 1px 3px 1px rgba(0, 0, 0, 0.15);\n",
              "      filter: drop-shadow(0px 1px 2px rgba(0, 0, 0, 0.3));\n",
              "      fill: #FFFFFF;\n",
              "    }\n",
              "  </style>\n",
              "\n",
              "      <script>\n",
              "        const buttonEl =\n",
              "          document.querySelector('#df-ca58b5f1-808f-46f7-ad0c-5d7871704cd1 button.colab-df-convert');\n",
              "        buttonEl.style.display =\n",
              "          google.colab.kernel.accessAllowed ? 'block' : 'none';\n",
              "\n",
              "        async function convertToInteractive(key) {\n",
              "          const element = document.querySelector('#df-ca58b5f1-808f-46f7-ad0c-5d7871704cd1');\n",
              "          const dataTable =\n",
              "            await google.colab.kernel.invokeFunction('convertToInteractive',\n",
              "                                                     [key], {});\n",
              "          if (!dataTable) return;\n",
              "\n",
              "          const docLinkHtml = 'Like what you see? Visit the ' +\n",
              "            '<a target=\"_blank\" href=https://colab.research.google.com/notebooks/data_table.ipynb>data table notebook</a>'\n",
              "            + ' to learn more about interactive tables.';\n",
              "          element.innerHTML = '';\n",
              "          dataTable['output_type'] = 'display_data';\n",
              "          await google.colab.output.renderOutput(dataTable, element);\n",
              "          const docLink = document.createElement('div');\n",
              "          docLink.innerHTML = docLinkHtml;\n",
              "          element.appendChild(docLink);\n",
              "        }\n",
              "      </script>\n",
              "    </div>\n",
              "  </div>\n",
              "  "
            ]
          },
          "metadata": {},
          "execution_count": 34
        }
      ],
      "source": [
        "df_h. isnull()# missing  null values"
      ]
    },
    {
      "cell_type": "code",
      "execution_count": null,
      "id": "21QCenAgd2_x",
      "metadata": {
        "colab": {
          "base_uri": "https://localhost:8080/"
        },
        "id": "21QCenAgd2_x",
        "outputId": "c5699a0f-8a93-4716-9c8a-8a1d764d71a9"
      },
      "outputs": [
        {
          "output_type": "execute_result",
          "data": {
            "text/plain": [
              "Name            0\n",
              "Type 1          0\n",
              "Type 2        386\n",
              "Total           0\n",
              "HP              0\n",
              "Attack          0\n",
              "Defense         0\n",
              "Sp. Atk         0\n",
              "Sp. Def         0\n",
              "Speed           0\n",
              "Generation      0\n",
              "Legendary       0\n",
              "dtype: int64"
            ]
          },
          "metadata": {},
          "execution_count": 35
        }
      ],
      "source": [
        "df_h. isnull(). sum()# Total number of missing null values"
      ]
    },
    {
      "cell_type": "markdown",
      "id": "7e09affa-cbde-4457-a834-f6f752d2bf48",
      "metadata": {
        "id": "7e09affa-cbde-4457-a834-f6f752d2bf48"
      },
      "source": [
        "5. Drop the records with null values. Do you think dropping the missing values is a right option here? If not, what can be done?"
      ]
    },
    {
      "cell_type": "code",
      "execution_count": null,
      "id": "545720ec-31d2-4fbb-9a53-54ab5f0ce0ba",
      "metadata": {
        "colab": {
          "base_uri": "https://localhost:8080/",
          "height": 423
        },
        "id": "545720ec-31d2-4fbb-9a53-54ab5f0ce0ba",
        "outputId": "56ef4037-0d57-4d14-e3ba-92b0ced544c8"
      },
      "outputs": [
        {
          "output_type": "execute_result",
          "data": {
            "text/plain": [
              "                      Name   Type 1  Type 2  Total  HP  Attack  Defense  \\\n",
              "0                Bulbasaur    Grass  Poison    318  45      49       49   \n",
              "1                  Ivysaur    Grass  Poison    405  60      62       63   \n",
              "2                 Venusaur    Grass  Poison    525  80      82       83   \n",
              "3    VenusaurMega Venusaur    Grass  Poison    625  80     100      123   \n",
              "6                Charizard     Fire  Flying    534  78      84       78   \n",
              "..                     ...      ...     ...    ...  ..     ...      ...   \n",
              "795                Diancie     Rock   Fairy    600  50     100      150   \n",
              "796    DiancieMega Diancie     Rock   Fairy    700  50     160      110   \n",
              "797    HoopaHoopa Confined  Psychic   Ghost    600  80     110       60   \n",
              "798     HoopaHoopa Unbound  Psychic    Dark    680  80     160       60   \n",
              "799              Volcanion     Fire   Water    600  80     110      120   \n",
              "\n",
              "     Sp. Atk  Sp. Def  Speed  Generation  Legendary  \n",
              "0         65       65     45           1      False  \n",
              "1         80       80     60           1      False  \n",
              "2        100      100     80           1      False  \n",
              "3        122      120     80           1      False  \n",
              "6        109       85    100           1      False  \n",
              "..       ...      ...    ...         ...        ...  \n",
              "795      100      150     50           6       True  \n",
              "796      160      110    110           6       True  \n",
              "797      150      130     70           6       True  \n",
              "798      170      130     80           6       True  \n",
              "799      130       90     70           6       True  \n",
              "\n",
              "[414 rows x 12 columns]"
            ],
            "text/html": [
              "\n",
              "  <div id=\"df-eb6f0437-8d08-4d5c-ad0c-573c3dbe5597\">\n",
              "    <div class=\"colab-df-container\">\n",
              "      <div>\n",
              "<style scoped>\n",
              "    .dataframe tbody tr th:only-of-type {\n",
              "        vertical-align: middle;\n",
              "    }\n",
              "\n",
              "    .dataframe tbody tr th {\n",
              "        vertical-align: top;\n",
              "    }\n",
              "\n",
              "    .dataframe thead th {\n",
              "        text-align: right;\n",
              "    }\n",
              "</style>\n",
              "<table border=\"1\" class=\"dataframe\">\n",
              "  <thead>\n",
              "    <tr style=\"text-align: right;\">\n",
              "      <th></th>\n",
              "      <th>Name</th>\n",
              "      <th>Type 1</th>\n",
              "      <th>Type 2</th>\n",
              "      <th>Total</th>\n",
              "      <th>HP</th>\n",
              "      <th>Attack</th>\n",
              "      <th>Defense</th>\n",
              "      <th>Sp. Atk</th>\n",
              "      <th>Sp. Def</th>\n",
              "      <th>Speed</th>\n",
              "      <th>Generation</th>\n",
              "      <th>Legendary</th>\n",
              "    </tr>\n",
              "  </thead>\n",
              "  <tbody>\n",
              "    <tr>\n",
              "      <th>0</th>\n",
              "      <td>Bulbasaur</td>\n",
              "      <td>Grass</td>\n",
              "      <td>Poison</td>\n",
              "      <td>318</td>\n",
              "      <td>45</td>\n",
              "      <td>49</td>\n",
              "      <td>49</td>\n",
              "      <td>65</td>\n",
              "      <td>65</td>\n",
              "      <td>45</td>\n",
              "      <td>1</td>\n",
              "      <td>False</td>\n",
              "    </tr>\n",
              "    <tr>\n",
              "      <th>1</th>\n",
              "      <td>Ivysaur</td>\n",
              "      <td>Grass</td>\n",
              "      <td>Poison</td>\n",
              "      <td>405</td>\n",
              "      <td>60</td>\n",
              "      <td>62</td>\n",
              "      <td>63</td>\n",
              "      <td>80</td>\n",
              "      <td>80</td>\n",
              "      <td>60</td>\n",
              "      <td>1</td>\n",
              "      <td>False</td>\n",
              "    </tr>\n",
              "    <tr>\n",
              "      <th>2</th>\n",
              "      <td>Venusaur</td>\n",
              "      <td>Grass</td>\n",
              "      <td>Poison</td>\n",
              "      <td>525</td>\n",
              "      <td>80</td>\n",
              "      <td>82</td>\n",
              "      <td>83</td>\n",
              "      <td>100</td>\n",
              "      <td>100</td>\n",
              "      <td>80</td>\n",
              "      <td>1</td>\n",
              "      <td>False</td>\n",
              "    </tr>\n",
              "    <tr>\n",
              "      <th>3</th>\n",
              "      <td>VenusaurMega Venusaur</td>\n",
              "      <td>Grass</td>\n",
              "      <td>Poison</td>\n",
              "      <td>625</td>\n",
              "      <td>80</td>\n",
              "      <td>100</td>\n",
              "      <td>123</td>\n",
              "      <td>122</td>\n",
              "      <td>120</td>\n",
              "      <td>80</td>\n",
              "      <td>1</td>\n",
              "      <td>False</td>\n",
              "    </tr>\n",
              "    <tr>\n",
              "      <th>6</th>\n",
              "      <td>Charizard</td>\n",
              "      <td>Fire</td>\n",
              "      <td>Flying</td>\n",
              "      <td>534</td>\n",
              "      <td>78</td>\n",
              "      <td>84</td>\n",
              "      <td>78</td>\n",
              "      <td>109</td>\n",
              "      <td>85</td>\n",
              "      <td>100</td>\n",
              "      <td>1</td>\n",
              "      <td>False</td>\n",
              "    </tr>\n",
              "    <tr>\n",
              "      <th>...</th>\n",
              "      <td>...</td>\n",
              "      <td>...</td>\n",
              "      <td>...</td>\n",
              "      <td>...</td>\n",
              "      <td>...</td>\n",
              "      <td>...</td>\n",
              "      <td>...</td>\n",
              "      <td>...</td>\n",
              "      <td>...</td>\n",
              "      <td>...</td>\n",
              "      <td>...</td>\n",
              "      <td>...</td>\n",
              "    </tr>\n",
              "    <tr>\n",
              "      <th>795</th>\n",
              "      <td>Diancie</td>\n",
              "      <td>Rock</td>\n",
              "      <td>Fairy</td>\n",
              "      <td>600</td>\n",
              "      <td>50</td>\n",
              "      <td>100</td>\n",
              "      <td>150</td>\n",
              "      <td>100</td>\n",
              "      <td>150</td>\n",
              "      <td>50</td>\n",
              "      <td>6</td>\n",
              "      <td>True</td>\n",
              "    </tr>\n",
              "    <tr>\n",
              "      <th>796</th>\n",
              "      <td>DiancieMega Diancie</td>\n",
              "      <td>Rock</td>\n",
              "      <td>Fairy</td>\n",
              "      <td>700</td>\n",
              "      <td>50</td>\n",
              "      <td>160</td>\n",
              "      <td>110</td>\n",
              "      <td>160</td>\n",
              "      <td>110</td>\n",
              "      <td>110</td>\n",
              "      <td>6</td>\n",
              "      <td>True</td>\n",
              "    </tr>\n",
              "    <tr>\n",
              "      <th>797</th>\n",
              "      <td>HoopaHoopa Confined</td>\n",
              "      <td>Psychic</td>\n",
              "      <td>Ghost</td>\n",
              "      <td>600</td>\n",
              "      <td>80</td>\n",
              "      <td>110</td>\n",
              "      <td>60</td>\n",
              "      <td>150</td>\n",
              "      <td>130</td>\n",
              "      <td>70</td>\n",
              "      <td>6</td>\n",
              "      <td>True</td>\n",
              "    </tr>\n",
              "    <tr>\n",
              "      <th>798</th>\n",
              "      <td>HoopaHoopa Unbound</td>\n",
              "      <td>Psychic</td>\n",
              "      <td>Dark</td>\n",
              "      <td>680</td>\n",
              "      <td>80</td>\n",
              "      <td>160</td>\n",
              "      <td>60</td>\n",
              "      <td>170</td>\n",
              "      <td>130</td>\n",
              "      <td>80</td>\n",
              "      <td>6</td>\n",
              "      <td>True</td>\n",
              "    </tr>\n",
              "    <tr>\n",
              "      <th>799</th>\n",
              "      <td>Volcanion</td>\n",
              "      <td>Fire</td>\n",
              "      <td>Water</td>\n",
              "      <td>600</td>\n",
              "      <td>80</td>\n",
              "      <td>110</td>\n",
              "      <td>120</td>\n",
              "      <td>130</td>\n",
              "      <td>90</td>\n",
              "      <td>70</td>\n",
              "      <td>6</td>\n",
              "      <td>True</td>\n",
              "    </tr>\n",
              "  </tbody>\n",
              "</table>\n",
              "<p>414 rows × 12 columns</p>\n",
              "</div>\n",
              "      <button class=\"colab-df-convert\" onclick=\"convertToInteractive('df-eb6f0437-8d08-4d5c-ad0c-573c3dbe5597')\"\n",
              "              title=\"Convert this dataframe to an interactive table.\"\n",
              "              style=\"display:none;\">\n",
              "        \n",
              "  <svg xmlns=\"http://www.w3.org/2000/svg\" height=\"24px\"viewBox=\"0 0 24 24\"\n",
              "       width=\"24px\">\n",
              "    <path d=\"M0 0h24v24H0V0z\" fill=\"none\"/>\n",
              "    <path d=\"M18.56 5.44l.94 2.06.94-2.06 2.06-.94-2.06-.94-.94-2.06-.94 2.06-2.06.94zm-11 1L8.5 8.5l.94-2.06 2.06-.94-2.06-.94L8.5 2.5l-.94 2.06-2.06.94zm10 10l.94 2.06.94-2.06 2.06-.94-2.06-.94-.94-2.06-.94 2.06-2.06.94z\"/><path d=\"M17.41 7.96l-1.37-1.37c-.4-.4-.92-.59-1.43-.59-.52 0-1.04.2-1.43.59L10.3 9.45l-7.72 7.72c-.78.78-.78 2.05 0 2.83L4 21.41c.39.39.9.59 1.41.59.51 0 1.02-.2 1.41-.59l7.78-7.78 2.81-2.81c.8-.78.8-2.07 0-2.86zM5.41 20L4 18.59l7.72-7.72 1.47 1.35L5.41 20z\"/>\n",
              "  </svg>\n",
              "      </button>\n",
              "      \n",
              "  <style>\n",
              "    .colab-df-container {\n",
              "      display:flex;\n",
              "      flex-wrap:wrap;\n",
              "      gap: 12px;\n",
              "    }\n",
              "\n",
              "    .colab-df-convert {\n",
              "      background-color: #E8F0FE;\n",
              "      border: none;\n",
              "      border-radius: 50%;\n",
              "      cursor: pointer;\n",
              "      display: none;\n",
              "      fill: #1967D2;\n",
              "      height: 32px;\n",
              "      padding: 0 0 0 0;\n",
              "      width: 32px;\n",
              "    }\n",
              "\n",
              "    .colab-df-convert:hover {\n",
              "      background-color: #E2EBFA;\n",
              "      box-shadow: 0px 1px 2px rgba(60, 64, 67, 0.3), 0px 1px 3px 1px rgba(60, 64, 67, 0.15);\n",
              "      fill: #174EA6;\n",
              "    }\n",
              "\n",
              "    [theme=dark] .colab-df-convert {\n",
              "      background-color: #3B4455;\n",
              "      fill: #D2E3FC;\n",
              "    }\n",
              "\n",
              "    [theme=dark] .colab-df-convert:hover {\n",
              "      background-color: #434B5C;\n",
              "      box-shadow: 0px 1px 3px 1px rgba(0, 0, 0, 0.15);\n",
              "      filter: drop-shadow(0px 1px 2px rgba(0, 0, 0, 0.3));\n",
              "      fill: #FFFFFF;\n",
              "    }\n",
              "  </style>\n",
              "\n",
              "      <script>\n",
              "        const buttonEl =\n",
              "          document.querySelector('#df-eb6f0437-8d08-4d5c-ad0c-573c3dbe5597 button.colab-df-convert');\n",
              "        buttonEl.style.display =\n",
              "          google.colab.kernel.accessAllowed ? 'block' : 'none';\n",
              "\n",
              "        async function convertToInteractive(key) {\n",
              "          const element = document.querySelector('#df-eb6f0437-8d08-4d5c-ad0c-573c3dbe5597');\n",
              "          const dataTable =\n",
              "            await google.colab.kernel.invokeFunction('convertToInteractive',\n",
              "                                                     [key], {});\n",
              "          if (!dataTable) return;\n",
              "\n",
              "          const docLinkHtml = 'Like what you see? Visit the ' +\n",
              "            '<a target=\"_blank\" href=https://colab.research.google.com/notebooks/data_table.ipynb>data table notebook</a>'\n",
              "            + ' to learn more about interactive tables.';\n",
              "          element.innerHTML = '';\n",
              "          dataTable['output_type'] = 'display_data';\n",
              "          await google.colab.output.renderOutput(dataTable, element);\n",
              "          const docLink = document.createElement('div');\n",
              "          docLink.innerHTML = docLinkHtml;\n",
              "          element.appendChild(docLink);\n",
              "        }\n",
              "      </script>\n",
              "    </div>\n",
              "  </div>\n",
              "  "
            ]
          },
          "metadata": {},
          "execution_count": 36
        }
      ],
      "source": [
        "df_hi=df_h.dropna() #Now we compare sizes of data frames huge so that we can come\n",
        "                    #to know TYPE 2 many rows had at 368 Null value .\n",
        "df_hi"
      ]
    },
    {
      "cell_type": "markdown",
      "id": "iQitFd4o2M8e",
      "metadata": {
        "id": "iQitFd4o2M8e"
      },
      "source": [
        "**Inferances:-**\n",
        "\n",
        "    If not :- replacing value of null value NaN"
      ]
    },
    {
      "cell_type": "code",
      "execution_count": null,
      "id": "20K9iuxltPtm",
      "metadata": {
        "colab": {
          "base_uri": "https://localhost:8080/"
        },
        "id": "20K9iuxltPtm",
        "outputId": "270bb45b-0dbb-4d73-8295-394380aa7e57"
      },
      "outputs": [
        {
          "output_type": "execute_result",
          "data": {
            "text/plain": [
              "Name          0\n",
              "Type 1        0\n",
              "Type 2        0\n",
              "Total         0\n",
              "HP            0\n",
              "Attack        0\n",
              "Defense       0\n",
              "Sp. Atk       0\n",
              "Sp. Def       0\n",
              "Speed         0\n",
              "Generation    0\n",
              "Legendary     0\n",
              "dtype: int64"
            ]
          },
          "metadata": {},
          "execution_count": 37
        }
      ],
      "source": [
        "df_hi. isnull(). sum()# Total number of missing null values"
      ]
    },
    {
      "cell_type": "markdown",
      "id": "6d8efa0d",
      "metadata": {
        "id": "6d8efa0d"
      },
      "source": [
        "6. Remove duplicate records if any."
      ]
    },
    {
      "cell_type": "code",
      "execution_count": null,
      "id": "455e159e",
      "metadata": {
        "colab": {
          "base_uri": "https://localhost:8080/",
          "height": 363
        },
        "id": "455e159e",
        "outputId": "5dcf9a9a-d003-4e85-9bd8-852c133b8b10"
      },
      "outputs": [
        {
          "output_type": "execute_result",
          "data": {
            "text/plain": [
              "                         Name Type 1  Type 2  Total  HP  Attack  Defense  \\\n",
              "0                   Bulbasaur  Grass  Poison    318  45      49       49   \n",
              "1                     Ivysaur  Grass  Poison    405  60      62       63   \n",
              "2                    Venusaur  Grass  Poison    525  80      82       83   \n",
              "3       VenusaurMega Venusaur  Grass  Poison    625  80     100      123   \n",
              "6                   Charizard   Fire  Flying    534  78      84       78   \n",
              "7   CharizardMega Charizard X   Fire  Dragon    634  78     130      111   \n",
              "8   CharizardMega Charizard Y   Fire  Flying    634  78     104       78   \n",
              "15                 Butterfree    Bug  Flying    395  60      45       50   \n",
              "16                     Weedle    Bug  Poison    195  40      35       30   \n",
              "17                     Kakuna    Bug  Poison    205  45      25       50   \n",
              "\n",
              "    Sp. Atk  Sp. Def  Speed  Generation  Legendary  \n",
              "0        65       65     45           1      False  \n",
              "1        80       80     60           1      False  \n",
              "2       100      100     80           1      False  \n",
              "3       122      120     80           1      False  \n",
              "6       109       85    100           1      False  \n",
              "7       130       85    100           1      False  \n",
              "8       159      115    100           1      False  \n",
              "15       90       80     70           1      False  \n",
              "16       20       20     50           1      False  \n",
              "17       25       25     35           1      False  "
            ],
            "text/html": [
              "\n",
              "  <div id=\"df-9d726614-6279-478c-b703-1e97115b65f4\">\n",
              "    <div class=\"colab-df-container\">\n",
              "      <div>\n",
              "<style scoped>\n",
              "    .dataframe tbody tr th:only-of-type {\n",
              "        vertical-align: middle;\n",
              "    }\n",
              "\n",
              "    .dataframe tbody tr th {\n",
              "        vertical-align: top;\n",
              "    }\n",
              "\n",
              "    .dataframe thead th {\n",
              "        text-align: right;\n",
              "    }\n",
              "</style>\n",
              "<table border=\"1\" class=\"dataframe\">\n",
              "  <thead>\n",
              "    <tr style=\"text-align: right;\">\n",
              "      <th></th>\n",
              "      <th>Name</th>\n",
              "      <th>Type 1</th>\n",
              "      <th>Type 2</th>\n",
              "      <th>Total</th>\n",
              "      <th>HP</th>\n",
              "      <th>Attack</th>\n",
              "      <th>Defense</th>\n",
              "      <th>Sp. Atk</th>\n",
              "      <th>Sp. Def</th>\n",
              "      <th>Speed</th>\n",
              "      <th>Generation</th>\n",
              "      <th>Legendary</th>\n",
              "    </tr>\n",
              "  </thead>\n",
              "  <tbody>\n",
              "    <tr>\n",
              "      <th>0</th>\n",
              "      <td>Bulbasaur</td>\n",
              "      <td>Grass</td>\n",
              "      <td>Poison</td>\n",
              "      <td>318</td>\n",
              "      <td>45</td>\n",
              "      <td>49</td>\n",
              "      <td>49</td>\n",
              "      <td>65</td>\n",
              "      <td>65</td>\n",
              "      <td>45</td>\n",
              "      <td>1</td>\n",
              "      <td>False</td>\n",
              "    </tr>\n",
              "    <tr>\n",
              "      <th>1</th>\n",
              "      <td>Ivysaur</td>\n",
              "      <td>Grass</td>\n",
              "      <td>Poison</td>\n",
              "      <td>405</td>\n",
              "      <td>60</td>\n",
              "      <td>62</td>\n",
              "      <td>63</td>\n",
              "      <td>80</td>\n",
              "      <td>80</td>\n",
              "      <td>60</td>\n",
              "      <td>1</td>\n",
              "      <td>False</td>\n",
              "    </tr>\n",
              "    <tr>\n",
              "      <th>2</th>\n",
              "      <td>Venusaur</td>\n",
              "      <td>Grass</td>\n",
              "      <td>Poison</td>\n",
              "      <td>525</td>\n",
              "      <td>80</td>\n",
              "      <td>82</td>\n",
              "      <td>83</td>\n",
              "      <td>100</td>\n",
              "      <td>100</td>\n",
              "      <td>80</td>\n",
              "      <td>1</td>\n",
              "      <td>False</td>\n",
              "    </tr>\n",
              "    <tr>\n",
              "      <th>3</th>\n",
              "      <td>VenusaurMega Venusaur</td>\n",
              "      <td>Grass</td>\n",
              "      <td>Poison</td>\n",
              "      <td>625</td>\n",
              "      <td>80</td>\n",
              "      <td>100</td>\n",
              "      <td>123</td>\n",
              "      <td>122</td>\n",
              "      <td>120</td>\n",
              "      <td>80</td>\n",
              "      <td>1</td>\n",
              "      <td>False</td>\n",
              "    </tr>\n",
              "    <tr>\n",
              "      <th>6</th>\n",
              "      <td>Charizard</td>\n",
              "      <td>Fire</td>\n",
              "      <td>Flying</td>\n",
              "      <td>534</td>\n",
              "      <td>78</td>\n",
              "      <td>84</td>\n",
              "      <td>78</td>\n",
              "      <td>109</td>\n",
              "      <td>85</td>\n",
              "      <td>100</td>\n",
              "      <td>1</td>\n",
              "      <td>False</td>\n",
              "    </tr>\n",
              "    <tr>\n",
              "      <th>7</th>\n",
              "      <td>CharizardMega Charizard X</td>\n",
              "      <td>Fire</td>\n",
              "      <td>Dragon</td>\n",
              "      <td>634</td>\n",
              "      <td>78</td>\n",
              "      <td>130</td>\n",
              "      <td>111</td>\n",
              "      <td>130</td>\n",
              "      <td>85</td>\n",
              "      <td>100</td>\n",
              "      <td>1</td>\n",
              "      <td>False</td>\n",
              "    </tr>\n",
              "    <tr>\n",
              "      <th>8</th>\n",
              "      <td>CharizardMega Charizard Y</td>\n",
              "      <td>Fire</td>\n",
              "      <td>Flying</td>\n",
              "      <td>634</td>\n",
              "      <td>78</td>\n",
              "      <td>104</td>\n",
              "      <td>78</td>\n",
              "      <td>159</td>\n",
              "      <td>115</td>\n",
              "      <td>100</td>\n",
              "      <td>1</td>\n",
              "      <td>False</td>\n",
              "    </tr>\n",
              "    <tr>\n",
              "      <th>15</th>\n",
              "      <td>Butterfree</td>\n",
              "      <td>Bug</td>\n",
              "      <td>Flying</td>\n",
              "      <td>395</td>\n",
              "      <td>60</td>\n",
              "      <td>45</td>\n",
              "      <td>50</td>\n",
              "      <td>90</td>\n",
              "      <td>80</td>\n",
              "      <td>70</td>\n",
              "      <td>1</td>\n",
              "      <td>False</td>\n",
              "    </tr>\n",
              "    <tr>\n",
              "      <th>16</th>\n",
              "      <td>Weedle</td>\n",
              "      <td>Bug</td>\n",
              "      <td>Poison</td>\n",
              "      <td>195</td>\n",
              "      <td>40</td>\n",
              "      <td>35</td>\n",
              "      <td>30</td>\n",
              "      <td>20</td>\n",
              "      <td>20</td>\n",
              "      <td>50</td>\n",
              "      <td>1</td>\n",
              "      <td>False</td>\n",
              "    </tr>\n",
              "    <tr>\n",
              "      <th>17</th>\n",
              "      <td>Kakuna</td>\n",
              "      <td>Bug</td>\n",
              "      <td>Poison</td>\n",
              "      <td>205</td>\n",
              "      <td>45</td>\n",
              "      <td>25</td>\n",
              "      <td>50</td>\n",
              "      <td>25</td>\n",
              "      <td>25</td>\n",
              "      <td>35</td>\n",
              "      <td>1</td>\n",
              "      <td>False</td>\n",
              "    </tr>\n",
              "  </tbody>\n",
              "</table>\n",
              "</div>\n",
              "      <button class=\"colab-df-convert\" onclick=\"convertToInteractive('df-9d726614-6279-478c-b703-1e97115b65f4')\"\n",
              "              title=\"Convert this dataframe to an interactive table.\"\n",
              "              style=\"display:none;\">\n",
              "        \n",
              "  <svg xmlns=\"http://www.w3.org/2000/svg\" height=\"24px\"viewBox=\"0 0 24 24\"\n",
              "       width=\"24px\">\n",
              "    <path d=\"M0 0h24v24H0V0z\" fill=\"none\"/>\n",
              "    <path d=\"M18.56 5.44l.94 2.06.94-2.06 2.06-.94-2.06-.94-.94-2.06-.94 2.06-2.06.94zm-11 1L8.5 8.5l.94-2.06 2.06-.94-2.06-.94L8.5 2.5l-.94 2.06-2.06.94zm10 10l.94 2.06.94-2.06 2.06-.94-2.06-.94-.94-2.06-.94 2.06-2.06.94z\"/><path d=\"M17.41 7.96l-1.37-1.37c-.4-.4-.92-.59-1.43-.59-.52 0-1.04.2-1.43.59L10.3 9.45l-7.72 7.72c-.78.78-.78 2.05 0 2.83L4 21.41c.39.39.9.59 1.41.59.51 0 1.02-.2 1.41-.59l7.78-7.78 2.81-2.81c.8-.78.8-2.07 0-2.86zM5.41 20L4 18.59l7.72-7.72 1.47 1.35L5.41 20z\"/>\n",
              "  </svg>\n",
              "      </button>\n",
              "      \n",
              "  <style>\n",
              "    .colab-df-container {\n",
              "      display:flex;\n",
              "      flex-wrap:wrap;\n",
              "      gap: 12px;\n",
              "    }\n",
              "\n",
              "    .colab-df-convert {\n",
              "      background-color: #E8F0FE;\n",
              "      border: none;\n",
              "      border-radius: 50%;\n",
              "      cursor: pointer;\n",
              "      display: none;\n",
              "      fill: #1967D2;\n",
              "      height: 32px;\n",
              "      padding: 0 0 0 0;\n",
              "      width: 32px;\n",
              "    }\n",
              "\n",
              "    .colab-df-convert:hover {\n",
              "      background-color: #E2EBFA;\n",
              "      box-shadow: 0px 1px 2px rgba(60, 64, 67, 0.3), 0px 1px 3px 1px rgba(60, 64, 67, 0.15);\n",
              "      fill: #174EA6;\n",
              "    }\n",
              "\n",
              "    [theme=dark] .colab-df-convert {\n",
              "      background-color: #3B4455;\n",
              "      fill: #D2E3FC;\n",
              "    }\n",
              "\n",
              "    [theme=dark] .colab-df-convert:hover {\n",
              "      background-color: #434B5C;\n",
              "      box-shadow: 0px 1px 3px 1px rgba(0, 0, 0, 0.15);\n",
              "      filter: drop-shadow(0px 1px 2px rgba(0, 0, 0, 0.3));\n",
              "      fill: #FFFFFF;\n",
              "    }\n",
              "  </style>\n",
              "\n",
              "      <script>\n",
              "        const buttonEl =\n",
              "          document.querySelector('#df-9d726614-6279-478c-b703-1e97115b65f4 button.colab-df-convert');\n",
              "        buttonEl.style.display =\n",
              "          google.colab.kernel.accessAllowed ? 'block' : 'none';\n",
              "\n",
              "        async function convertToInteractive(key) {\n",
              "          const element = document.querySelector('#df-9d726614-6279-478c-b703-1e97115b65f4');\n",
              "          const dataTable =\n",
              "            await google.colab.kernel.invokeFunction('convertToInteractive',\n",
              "                                                     [key], {});\n",
              "          if (!dataTable) return;\n",
              "\n",
              "          const docLinkHtml = 'Like what you see? Visit the ' +\n",
              "            '<a target=\"_blank\" href=https://colab.research.google.com/notebooks/data_table.ipynb>data table notebook</a>'\n",
              "            + ' to learn more about interactive tables.';\n",
              "          element.innerHTML = '';\n",
              "          dataTable['output_type'] = 'display_data';\n",
              "          await google.colab.output.renderOutput(dataTable, element);\n",
              "          const docLink = document.createElement('div');\n",
              "          docLink.innerHTML = docLinkHtml;\n",
              "          element.appendChild(docLink);\n",
              "        }\n",
              "      </script>\n",
              "    </div>\n",
              "  </div>\n",
              "  "
            ]
          },
          "metadata": {},
          "execution_count": 38
        }
      ],
      "source": [
        "df_hi.drop_duplicates(subset=\"Name\",inplace=True)# dropping ALL duplicate values of Name\n",
        "df_hi.head(10)# Display the 10 value of tabel"
      ]
    },
    {
      "cell_type": "markdown",
      "id": "2ce6038f-ca6f-4b75-be7c-27147ef050eb",
      "metadata": {
        "id": "2ce6038f-ca6f-4b75-be7c-27147ef050eb"
      },
      "source": [
        "7. Which is the most frequent pokemon type (type 2) for every type of pokemon in type 1.\n",
        "\n",
        "Hint: Use groupby.\n",
        "        \n"
      ]
    },
    {
      "cell_type": "code",
      "execution_count": null,
      "id": "80887665-9956-4631-9912-96feb9bfd3a1",
      "metadata": {
        "colab": {
          "base_uri": "https://localhost:8080/"
        },
        "id": "80887665-9956-4631-9912-96feb9bfd3a1",
        "outputId": "f995cdb1-6bab-43d6-a324-e4113e26335a"
      },
      "outputs": [
        {
          "output_type": "execute_result",
          "data": {
            "text/plain": [
              "Type 1\n",
              "Bug                  Flying\n",
              "Dark                 Flying\n",
              "Dragon               Flying\n",
              "Electric             Flying\n",
              "Fairy                Flying\n",
              "Fighting            Psychic\n",
              "Fire               Fighting\n",
              "Flying               Dragon\n",
              "Ghost                 Grass\n",
              "Grass                Poison\n",
              "Ground               Flying\n",
              "Ice         [Ground, Water]\n",
              "Normal               Flying\n",
              "Poison       [Dark, Flying]\n",
              "Psychic     [Fairy, Flying]\n",
              "Rock        [Ground, Water]\n",
              "Steel               Psychic\n",
              "Water                Ground\n",
              "Name: Type 2, dtype: object"
            ]
          },
          "metadata": {},
          "execution_count": 39
        }
      ],
      "source": [
        "df_hi.groupby('Type 1').agg(pd.Series.mode)['Type 2']# Grouping pokemons with respect to their types"
      ]
    },
    {
      "cell_type": "markdown",
      "id": "a036ebf3-402b-4e4b-bd13-8e7536c64297",
      "metadata": {
        "id": "a036ebf3-402b-4e4b-bd13-8e7536c64297"
      },
      "source": [
        "8. Find the average defense value and attack value of the pokemons. How did you choose which measure of central tendency to use?"
      ]
    },
    {
      "cell_type": "code",
      "execution_count": null,
      "id": "90191589-0237-43a5-be74-4703d1a344e8",
      "metadata": {
        "colab": {
          "base_uri": "https://localhost:8080/",
          "height": 300
        },
        "id": "90191589-0237-43a5-be74-4703d1a344e8",
        "outputId": "d14de570-1920-4fef-94b8-5d2532d87280"
      },
      "outputs": [
        {
          "output_type": "execute_result",
          "data": {
            "text/plain": [
              "            Total          HP      Attack     Defense     Sp. Atk     Sp. Def  \\\n",
              "count  414.000000  414.000000  414.000000  414.000000  414.000000  414.000000   \n",
              "mean   456.628019   70.649758   83.173913   79.676329   77.048309   75.565217   \n",
              "std    120.849502   22.896557   33.698473   32.593788   33.805061   27.949961   \n",
              "min    190.000000    1.000000   10.000000   15.000000   10.000000   20.000000   \n",
              "25%    355.000000   55.000000   59.250000   55.000000   50.000000   55.000000   \n",
              "50%    475.000000   70.000000   80.000000   75.500000   70.000000   75.000000   \n",
              "75%    529.500000   85.000000  103.000000  100.000000  100.000000   94.750000   \n",
              "max    780.000000  150.000000  190.000000  230.000000  180.000000  230.000000   \n",
              "\n",
              "            Speed  Generation  \n",
              "count  414.000000  414.000000  \n",
              "mean    70.514493    3.410628  \n",
              "std     28.521408    1.663010  \n",
              "min      5.000000    1.000000  \n",
              "25%     50.000000    2.000000  \n",
              "50%     70.000000    3.000000  \n",
              "75%     91.000000    5.000000  \n",
              "max    160.000000    6.000000  "
            ],
            "text/html": [
              "\n",
              "  <div id=\"df-da2312d9-ef9f-4dde-8e8c-e9708dab22b5\">\n",
              "    <div class=\"colab-df-container\">\n",
              "      <div>\n",
              "<style scoped>\n",
              "    .dataframe tbody tr th:only-of-type {\n",
              "        vertical-align: middle;\n",
              "    }\n",
              "\n",
              "    .dataframe tbody tr th {\n",
              "        vertical-align: top;\n",
              "    }\n",
              "\n",
              "    .dataframe thead th {\n",
              "        text-align: right;\n",
              "    }\n",
              "</style>\n",
              "<table border=\"1\" class=\"dataframe\">\n",
              "  <thead>\n",
              "    <tr style=\"text-align: right;\">\n",
              "      <th></th>\n",
              "      <th>Total</th>\n",
              "      <th>HP</th>\n",
              "      <th>Attack</th>\n",
              "      <th>Defense</th>\n",
              "      <th>Sp. Atk</th>\n",
              "      <th>Sp. Def</th>\n",
              "      <th>Speed</th>\n",
              "      <th>Generation</th>\n",
              "    </tr>\n",
              "  </thead>\n",
              "  <tbody>\n",
              "    <tr>\n",
              "      <th>count</th>\n",
              "      <td>414.000000</td>\n",
              "      <td>414.000000</td>\n",
              "      <td>414.000000</td>\n",
              "      <td>414.000000</td>\n",
              "      <td>414.000000</td>\n",
              "      <td>414.000000</td>\n",
              "      <td>414.000000</td>\n",
              "      <td>414.000000</td>\n",
              "    </tr>\n",
              "    <tr>\n",
              "      <th>mean</th>\n",
              "      <td>456.628019</td>\n",
              "      <td>70.649758</td>\n",
              "      <td>83.173913</td>\n",
              "      <td>79.676329</td>\n",
              "      <td>77.048309</td>\n",
              "      <td>75.565217</td>\n",
              "      <td>70.514493</td>\n",
              "      <td>3.410628</td>\n",
              "    </tr>\n",
              "    <tr>\n",
              "      <th>std</th>\n",
              "      <td>120.849502</td>\n",
              "      <td>22.896557</td>\n",
              "      <td>33.698473</td>\n",
              "      <td>32.593788</td>\n",
              "      <td>33.805061</td>\n",
              "      <td>27.949961</td>\n",
              "      <td>28.521408</td>\n",
              "      <td>1.663010</td>\n",
              "    </tr>\n",
              "    <tr>\n",
              "      <th>min</th>\n",
              "      <td>190.000000</td>\n",
              "      <td>1.000000</td>\n",
              "      <td>10.000000</td>\n",
              "      <td>15.000000</td>\n",
              "      <td>10.000000</td>\n",
              "      <td>20.000000</td>\n",
              "      <td>5.000000</td>\n",
              "      <td>1.000000</td>\n",
              "    </tr>\n",
              "    <tr>\n",
              "      <th>25%</th>\n",
              "      <td>355.000000</td>\n",
              "      <td>55.000000</td>\n",
              "      <td>59.250000</td>\n",
              "      <td>55.000000</td>\n",
              "      <td>50.000000</td>\n",
              "      <td>55.000000</td>\n",
              "      <td>50.000000</td>\n",
              "      <td>2.000000</td>\n",
              "    </tr>\n",
              "    <tr>\n",
              "      <th>50%</th>\n",
              "      <td>475.000000</td>\n",
              "      <td>70.000000</td>\n",
              "      <td>80.000000</td>\n",
              "      <td>75.500000</td>\n",
              "      <td>70.000000</td>\n",
              "      <td>75.000000</td>\n",
              "      <td>70.000000</td>\n",
              "      <td>3.000000</td>\n",
              "    </tr>\n",
              "    <tr>\n",
              "      <th>75%</th>\n",
              "      <td>529.500000</td>\n",
              "      <td>85.000000</td>\n",
              "      <td>103.000000</td>\n",
              "      <td>100.000000</td>\n",
              "      <td>100.000000</td>\n",
              "      <td>94.750000</td>\n",
              "      <td>91.000000</td>\n",
              "      <td>5.000000</td>\n",
              "    </tr>\n",
              "    <tr>\n",
              "      <th>max</th>\n",
              "      <td>780.000000</td>\n",
              "      <td>150.000000</td>\n",
              "      <td>190.000000</td>\n",
              "      <td>230.000000</td>\n",
              "      <td>180.000000</td>\n",
              "      <td>230.000000</td>\n",
              "      <td>160.000000</td>\n",
              "      <td>6.000000</td>\n",
              "    </tr>\n",
              "  </tbody>\n",
              "</table>\n",
              "</div>\n",
              "      <button class=\"colab-df-convert\" onclick=\"convertToInteractive('df-da2312d9-ef9f-4dde-8e8c-e9708dab22b5')\"\n",
              "              title=\"Convert this dataframe to an interactive table.\"\n",
              "              style=\"display:none;\">\n",
              "        \n",
              "  <svg xmlns=\"http://www.w3.org/2000/svg\" height=\"24px\"viewBox=\"0 0 24 24\"\n",
              "       width=\"24px\">\n",
              "    <path d=\"M0 0h24v24H0V0z\" fill=\"none\"/>\n",
              "    <path d=\"M18.56 5.44l.94 2.06.94-2.06 2.06-.94-2.06-.94-.94-2.06-.94 2.06-2.06.94zm-11 1L8.5 8.5l.94-2.06 2.06-.94-2.06-.94L8.5 2.5l-.94 2.06-2.06.94zm10 10l.94 2.06.94-2.06 2.06-.94-2.06-.94-.94-2.06-.94 2.06-2.06.94z\"/><path d=\"M17.41 7.96l-1.37-1.37c-.4-.4-.92-.59-1.43-.59-.52 0-1.04.2-1.43.59L10.3 9.45l-7.72 7.72c-.78.78-.78 2.05 0 2.83L4 21.41c.39.39.9.59 1.41.59.51 0 1.02-.2 1.41-.59l7.78-7.78 2.81-2.81c.8-.78.8-2.07 0-2.86zM5.41 20L4 18.59l7.72-7.72 1.47 1.35L5.41 20z\"/>\n",
              "  </svg>\n",
              "      </button>\n",
              "      \n",
              "  <style>\n",
              "    .colab-df-container {\n",
              "      display:flex;\n",
              "      flex-wrap:wrap;\n",
              "      gap: 12px;\n",
              "    }\n",
              "\n",
              "    .colab-df-convert {\n",
              "      background-color: #E8F0FE;\n",
              "      border: none;\n",
              "      border-radius: 50%;\n",
              "      cursor: pointer;\n",
              "      display: none;\n",
              "      fill: #1967D2;\n",
              "      height: 32px;\n",
              "      padding: 0 0 0 0;\n",
              "      width: 32px;\n",
              "    }\n",
              "\n",
              "    .colab-df-convert:hover {\n",
              "      background-color: #E2EBFA;\n",
              "      box-shadow: 0px 1px 2px rgba(60, 64, 67, 0.3), 0px 1px 3px 1px rgba(60, 64, 67, 0.15);\n",
              "      fill: #174EA6;\n",
              "    }\n",
              "\n",
              "    [theme=dark] .colab-df-convert {\n",
              "      background-color: #3B4455;\n",
              "      fill: #D2E3FC;\n",
              "    }\n",
              "\n",
              "    [theme=dark] .colab-df-convert:hover {\n",
              "      background-color: #434B5C;\n",
              "      box-shadow: 0px 1px 3px 1px rgba(0, 0, 0, 0.15);\n",
              "      filter: drop-shadow(0px 1px 2px rgba(0, 0, 0, 0.3));\n",
              "      fill: #FFFFFF;\n",
              "    }\n",
              "  </style>\n",
              "\n",
              "      <script>\n",
              "        const buttonEl =\n",
              "          document.querySelector('#df-da2312d9-ef9f-4dde-8e8c-e9708dab22b5 button.colab-df-convert');\n",
              "        buttonEl.style.display =\n",
              "          google.colab.kernel.accessAllowed ? 'block' : 'none';\n",
              "\n",
              "        async function convertToInteractive(key) {\n",
              "          const element = document.querySelector('#df-da2312d9-ef9f-4dde-8e8c-e9708dab22b5');\n",
              "          const dataTable =\n",
              "            await google.colab.kernel.invokeFunction('convertToInteractive',\n",
              "                                                     [key], {});\n",
              "          if (!dataTable) return;\n",
              "\n",
              "          const docLinkHtml = 'Like what you see? Visit the ' +\n",
              "            '<a target=\"_blank\" href=https://colab.research.google.com/notebooks/data_table.ipynb>data table notebook</a>'\n",
              "            + ' to learn more about interactive tables.';\n",
              "          element.innerHTML = '';\n",
              "          dataTable['output_type'] = 'display_data';\n",
              "          await google.colab.output.renderOutput(dataTable, element);\n",
              "          const docLink = document.createElement('div');\n",
              "          docLink.innerHTML = docLinkHtml;\n",
              "          element.appendChild(docLink);\n",
              "        }\n",
              "      </script>\n",
              "    </div>\n",
              "  </div>\n",
              "  "
            ]
          },
          "metadata": {},
          "execution_count": 40
        }
      ],
      "source": [
        "df_hi.describe()# using describe() function to find measure of central tendency"
      ]
    },
    {
      "cell_type": "code",
      "execution_count": null,
      "id": "abf4mC0i3vO6",
      "metadata": {
        "colab": {
          "base_uri": "https://localhost:8080/"
        },
        "id": "abf4mC0i3vO6",
        "outputId": "24ed2895-050f-413e-b18e-835b790312a4"
      },
      "outputs": [
        {
          "output_type": "execute_result",
          "data": {
            "text/plain": [
              "83.17391304347827"
            ]
          },
          "metadata": {},
          "execution_count": 41
        }
      ],
      "source": [
        "df_hi.Attack.mean()# Displaying average Attack power of pokemons"
      ]
    },
    {
      "cell_type": "code",
      "execution_count": null,
      "id": "klnVYyFi4BLR",
      "metadata": {
        "colab": {
          "base_uri": "https://localhost:8080/"
        },
        "id": "klnVYyFi4BLR",
        "outputId": "a7ea9e35-5454-47e5-8006-c69cb66ca184"
      },
      "outputs": [
        {
          "output_type": "execute_result",
          "data": {
            "text/plain": [
              "79.67632850241546"
            ]
          },
          "metadata": {},
          "execution_count": 42
        }
      ],
      "source": [
        "df_hi.Defense.mean()# Displaying average defense power of pokemons"
      ]
    },
    {
      "cell_type": "markdown",
      "id": "87fbe6b4",
      "metadata": {
        "id": "87fbe6b4"
      },
      "source": [
        "   **Inferances:-**\n",
        "\n",
        "        * We are using the describe()and mean function as a measure of central tendency to capture the minimum to maximum values in the dataset."
      ]
    },
    {
      "cell_type": "markdown",
      "id": "ca6447a1-ce4a-44c2-bddf-e64af975d4dc",
      "metadata": {
        "id": "ca6447a1-ce4a-44c2-bddf-e64af975d4dc"
      },
      "source": [
        "9. What is the maximum 'total' of the pokemons? List only the name of pokemons with top 5 total values."
      ]
    },
    {
      "cell_type": "code",
      "execution_count": null,
      "id": "07ddbaae-4e79-4007-b833-6d800ab82fa5",
      "metadata": {
        "colab": {
          "base_uri": "https://localhost:8080/",
          "height": 206
        },
        "id": "07ddbaae-4e79-4007-b833-6d800ab82fa5",
        "outputId": "fe7c8e52-36c1-43ed-b6b1-49648c50f463"
      },
      "outputs": [
        {
          "output_type": "execute_result",
          "data": {
            "text/plain": [
              "                        Name   Type 1    Type 2  Total   HP  Attack  Defense  \\\n",
              "426    RayquazaMega Rayquaza   Dragon    Flying    780  105     180      100   \n",
              "163      MewtwoMega Mewtwo X  Psychic  Fighting    780  106     190      100   \n",
              "424    GroudonPrimal Groudon   Ground      Fire    770  100     180      160   \n",
              "494    GarchompMega Garchomp   Dragon    Ground    700  108     170      115   \n",
              "413  MetagrossMega Metagross    Steel   Psychic    700   80     145      150   \n",
              "\n",
              "     Sp. Atk  Sp. Def  Speed  Generation  Legendary  \n",
              "426      180      100    115           3       True  \n",
              "163      154      100    130           1       True  \n",
              "424      150       90     90           3       True  \n",
              "494      120       95     92           4      False  \n",
              "413      105      110    110           3      False  "
            ],
            "text/html": [
              "\n",
              "  <div id=\"df-ef772231-6366-4281-b097-ab1059ac3e7b\">\n",
              "    <div class=\"colab-df-container\">\n",
              "      <div>\n",
              "<style scoped>\n",
              "    .dataframe tbody tr th:only-of-type {\n",
              "        vertical-align: middle;\n",
              "    }\n",
              "\n",
              "    .dataframe tbody tr th {\n",
              "        vertical-align: top;\n",
              "    }\n",
              "\n",
              "    .dataframe thead th {\n",
              "        text-align: right;\n",
              "    }\n",
              "</style>\n",
              "<table border=\"1\" class=\"dataframe\">\n",
              "  <thead>\n",
              "    <tr style=\"text-align: right;\">\n",
              "      <th></th>\n",
              "      <th>Name</th>\n",
              "      <th>Type 1</th>\n",
              "      <th>Type 2</th>\n",
              "      <th>Total</th>\n",
              "      <th>HP</th>\n",
              "      <th>Attack</th>\n",
              "      <th>Defense</th>\n",
              "      <th>Sp. Atk</th>\n",
              "      <th>Sp. Def</th>\n",
              "      <th>Speed</th>\n",
              "      <th>Generation</th>\n",
              "      <th>Legendary</th>\n",
              "    </tr>\n",
              "  </thead>\n",
              "  <tbody>\n",
              "    <tr>\n",
              "      <th>426</th>\n",
              "      <td>RayquazaMega Rayquaza</td>\n",
              "      <td>Dragon</td>\n",
              "      <td>Flying</td>\n",
              "      <td>780</td>\n",
              "      <td>105</td>\n",
              "      <td>180</td>\n",
              "      <td>100</td>\n",
              "      <td>180</td>\n",
              "      <td>100</td>\n",
              "      <td>115</td>\n",
              "      <td>3</td>\n",
              "      <td>True</td>\n",
              "    </tr>\n",
              "    <tr>\n",
              "      <th>163</th>\n",
              "      <td>MewtwoMega Mewtwo X</td>\n",
              "      <td>Psychic</td>\n",
              "      <td>Fighting</td>\n",
              "      <td>780</td>\n",
              "      <td>106</td>\n",
              "      <td>190</td>\n",
              "      <td>100</td>\n",
              "      <td>154</td>\n",
              "      <td>100</td>\n",
              "      <td>130</td>\n",
              "      <td>1</td>\n",
              "      <td>True</td>\n",
              "    </tr>\n",
              "    <tr>\n",
              "      <th>424</th>\n",
              "      <td>GroudonPrimal Groudon</td>\n",
              "      <td>Ground</td>\n",
              "      <td>Fire</td>\n",
              "      <td>770</td>\n",
              "      <td>100</td>\n",
              "      <td>180</td>\n",
              "      <td>160</td>\n",
              "      <td>150</td>\n",
              "      <td>90</td>\n",
              "      <td>90</td>\n",
              "      <td>3</td>\n",
              "      <td>True</td>\n",
              "    </tr>\n",
              "    <tr>\n",
              "      <th>494</th>\n",
              "      <td>GarchompMega Garchomp</td>\n",
              "      <td>Dragon</td>\n",
              "      <td>Ground</td>\n",
              "      <td>700</td>\n",
              "      <td>108</td>\n",
              "      <td>170</td>\n",
              "      <td>115</td>\n",
              "      <td>120</td>\n",
              "      <td>95</td>\n",
              "      <td>92</td>\n",
              "      <td>4</td>\n",
              "      <td>False</td>\n",
              "    </tr>\n",
              "    <tr>\n",
              "      <th>413</th>\n",
              "      <td>MetagrossMega Metagross</td>\n",
              "      <td>Steel</td>\n",
              "      <td>Psychic</td>\n",
              "      <td>700</td>\n",
              "      <td>80</td>\n",
              "      <td>145</td>\n",
              "      <td>150</td>\n",
              "      <td>105</td>\n",
              "      <td>110</td>\n",
              "      <td>110</td>\n",
              "      <td>3</td>\n",
              "      <td>False</td>\n",
              "    </tr>\n",
              "  </tbody>\n",
              "</table>\n",
              "</div>\n",
              "      <button class=\"colab-df-convert\" onclick=\"convertToInteractive('df-ef772231-6366-4281-b097-ab1059ac3e7b')\"\n",
              "              title=\"Convert this dataframe to an interactive table.\"\n",
              "              style=\"display:none;\">\n",
              "        \n",
              "  <svg xmlns=\"http://www.w3.org/2000/svg\" height=\"24px\"viewBox=\"0 0 24 24\"\n",
              "       width=\"24px\">\n",
              "    <path d=\"M0 0h24v24H0V0z\" fill=\"none\"/>\n",
              "    <path d=\"M18.56 5.44l.94 2.06.94-2.06 2.06-.94-2.06-.94-.94-2.06-.94 2.06-2.06.94zm-11 1L8.5 8.5l.94-2.06 2.06-.94-2.06-.94L8.5 2.5l-.94 2.06-2.06.94zm10 10l.94 2.06.94-2.06 2.06-.94-2.06-.94-.94-2.06-.94 2.06-2.06.94z\"/><path d=\"M17.41 7.96l-1.37-1.37c-.4-.4-.92-.59-1.43-.59-.52 0-1.04.2-1.43.59L10.3 9.45l-7.72 7.72c-.78.78-.78 2.05 0 2.83L4 21.41c.39.39.9.59 1.41.59.51 0 1.02-.2 1.41-.59l7.78-7.78 2.81-2.81c.8-.78.8-2.07 0-2.86zM5.41 20L4 18.59l7.72-7.72 1.47 1.35L5.41 20z\"/>\n",
              "  </svg>\n",
              "      </button>\n",
              "      \n",
              "  <style>\n",
              "    .colab-df-container {\n",
              "      display:flex;\n",
              "      flex-wrap:wrap;\n",
              "      gap: 12px;\n",
              "    }\n",
              "\n",
              "    .colab-df-convert {\n",
              "      background-color: #E8F0FE;\n",
              "      border: none;\n",
              "      border-radius: 50%;\n",
              "      cursor: pointer;\n",
              "      display: none;\n",
              "      fill: #1967D2;\n",
              "      height: 32px;\n",
              "      padding: 0 0 0 0;\n",
              "      width: 32px;\n",
              "    }\n",
              "\n",
              "    .colab-df-convert:hover {\n",
              "      background-color: #E2EBFA;\n",
              "      box-shadow: 0px 1px 2px rgba(60, 64, 67, 0.3), 0px 1px 3px 1px rgba(60, 64, 67, 0.15);\n",
              "      fill: #174EA6;\n",
              "    }\n",
              "\n",
              "    [theme=dark] .colab-df-convert {\n",
              "      background-color: #3B4455;\n",
              "      fill: #D2E3FC;\n",
              "    }\n",
              "\n",
              "    [theme=dark] .colab-df-convert:hover {\n",
              "      background-color: #434B5C;\n",
              "      box-shadow: 0px 1px 3px 1px rgba(0, 0, 0, 0.15);\n",
              "      filter: drop-shadow(0px 1px 2px rgba(0, 0, 0, 0.3));\n",
              "      fill: #FFFFFF;\n",
              "    }\n",
              "  </style>\n",
              "\n",
              "      <script>\n",
              "        const buttonEl =\n",
              "          document.querySelector('#df-ef772231-6366-4281-b097-ab1059ac3e7b button.colab-df-convert');\n",
              "        buttonEl.style.display =\n",
              "          google.colab.kernel.accessAllowed ? 'block' : 'none';\n",
              "\n",
              "        async function convertToInteractive(key) {\n",
              "          const element = document.querySelector('#df-ef772231-6366-4281-b097-ab1059ac3e7b');\n",
              "          const dataTable =\n",
              "            await google.colab.kernel.invokeFunction('convertToInteractive',\n",
              "                                                     [key], {});\n",
              "          if (!dataTable) return;\n",
              "\n",
              "          const docLinkHtml = 'Like what you see? Visit the ' +\n",
              "            '<a target=\"_blank\" href=https://colab.research.google.com/notebooks/data_table.ipynb>data table notebook</a>'\n",
              "            + ' to learn more about interactive tables.';\n",
              "          element.innerHTML = '';\n",
              "          dataTable['output_type'] = 'display_data';\n",
              "          await google.colab.output.renderOutput(dataTable, element);\n",
              "          const docLink = document.createElement('div');\n",
              "          docLink.innerHTML = docLinkHtml;\n",
              "          element.appendChild(docLink);\n",
              "        }\n",
              "      </script>\n",
              "    </div>\n",
              "  </div>\n",
              "  "
            ]
          },
          "metadata": {},
          "execution_count": 43
        }
      ],
      "source": [
        "df_hi.sort_values('Total',ascending=False).head()# Sort the Tabel, and ascending the total values."
      ]
    },
    {
      "cell_type": "markdown",
      "id": "29909e13-1a82-4f2b-a2a2-f2eb4f70c455",
      "metadata": {
        "id": "29909e13-1a82-4f2b-a2a2-f2eb4f70c455"
      },
      "source": [
        "10. Create a pivot table of your choice and explain why did you choose this. What do you infer from the pivot table?"
      ]
    },
    {
      "cell_type": "code",
      "execution_count": null,
      "id": "e40f73ed-8ce4-439d-b6ef-20579e8aca6f",
      "metadata": {
        "colab": {
          "base_uri": "https://localhost:8080/",
          "height": 645
        },
        "id": "e40f73ed-8ce4-439d-b6ef-20579e8aca6f",
        "outputId": "8650f63d-2b83-4e96-9ddb-39aebbbe365b"
      },
      "outputs": [
        {
          "output_type": "execute_result",
          "data": {
            "text/plain": [
              "Legendary      False        True\n",
              "Type 1                          \n",
              "Bug        66.173077         NaN\n",
              "Dark       71.750000   99.000000\n",
              "Dragon     86.444444  100.833333\n",
              "Electric   80.285714  104.000000\n",
              "Fairy      60.000000         NaN\n",
              "Fighting   88.285714         NaN\n",
              "Fire       75.800000   81.750000\n",
              "Flying     89.000000         NaN\n",
              "Ghost      67.450000   90.000000\n",
              "Grass      58.942857  117.500000\n",
              "Ground     64.125000   94.000000\n",
              "Ice        66.000000   85.000000\n",
              "Normal     75.000000         NaN\n",
              "Poison     74.076923         NaN\n",
              "Psychic    82.714286   98.000000\n",
              "Rock       59.250000   89.333333\n",
              "Steel      48.631579   99.333333\n",
              "Water      63.134615  100.000000"
            ],
            "text/html": [
              "\n",
              "  <div id=\"df-92772ebb-2fe9-4e90-ab62-af8ba8387770\">\n",
              "    <div class=\"colab-df-container\">\n",
              "      <div>\n",
              "<style scoped>\n",
              "    .dataframe tbody tr th:only-of-type {\n",
              "        vertical-align: middle;\n",
              "    }\n",
              "\n",
              "    .dataframe tbody tr th {\n",
              "        vertical-align: top;\n",
              "    }\n",
              "\n",
              "    .dataframe thead th {\n",
              "        text-align: right;\n",
              "    }\n",
              "</style>\n",
              "<table border=\"1\" class=\"dataframe\">\n",
              "  <thead>\n",
              "    <tr style=\"text-align: right;\">\n",
              "      <th>Legendary</th>\n",
              "      <th>False</th>\n",
              "      <th>True</th>\n",
              "    </tr>\n",
              "    <tr>\n",
              "      <th>Type 1</th>\n",
              "      <th></th>\n",
              "      <th></th>\n",
              "    </tr>\n",
              "  </thead>\n",
              "  <tbody>\n",
              "    <tr>\n",
              "      <th>Bug</th>\n",
              "      <td>66.173077</td>\n",
              "      <td>NaN</td>\n",
              "    </tr>\n",
              "    <tr>\n",
              "      <th>Dark</th>\n",
              "      <td>71.750000</td>\n",
              "      <td>99.000000</td>\n",
              "    </tr>\n",
              "    <tr>\n",
              "      <th>Dragon</th>\n",
              "      <td>86.444444</td>\n",
              "      <td>100.833333</td>\n",
              "    </tr>\n",
              "    <tr>\n",
              "      <th>Electric</th>\n",
              "      <td>80.285714</td>\n",
              "      <td>104.000000</td>\n",
              "    </tr>\n",
              "    <tr>\n",
              "      <th>Fairy</th>\n",
              "      <td>60.000000</td>\n",
              "      <td>NaN</td>\n",
              "    </tr>\n",
              "    <tr>\n",
              "      <th>Fighting</th>\n",
              "      <td>88.285714</td>\n",
              "      <td>NaN</td>\n",
              "    </tr>\n",
              "    <tr>\n",
              "      <th>Fire</th>\n",
              "      <td>75.800000</td>\n",
              "      <td>81.750000</td>\n",
              "    </tr>\n",
              "    <tr>\n",
              "      <th>Flying</th>\n",
              "      <td>89.000000</td>\n",
              "      <td>NaN</td>\n",
              "    </tr>\n",
              "    <tr>\n",
              "      <th>Ghost</th>\n",
              "      <td>67.450000</td>\n",
              "      <td>90.000000</td>\n",
              "    </tr>\n",
              "    <tr>\n",
              "      <th>Grass</th>\n",
              "      <td>58.942857</td>\n",
              "      <td>117.500000</td>\n",
              "    </tr>\n",
              "    <tr>\n",
              "      <th>Ground</th>\n",
              "      <td>64.125000</td>\n",
              "      <td>94.000000</td>\n",
              "    </tr>\n",
              "    <tr>\n",
              "      <th>Ice</th>\n",
              "      <td>66.000000</td>\n",
              "      <td>85.000000</td>\n",
              "    </tr>\n",
              "    <tr>\n",
              "      <th>Normal</th>\n",
              "      <td>75.000000</td>\n",
              "      <td>NaN</td>\n",
              "    </tr>\n",
              "    <tr>\n",
              "      <th>Poison</th>\n",
              "      <td>74.076923</td>\n",
              "      <td>NaN</td>\n",
              "    </tr>\n",
              "    <tr>\n",
              "      <th>Psychic</th>\n",
              "      <td>82.714286</td>\n",
              "      <td>98.000000</td>\n",
              "    </tr>\n",
              "    <tr>\n",
              "      <th>Rock</th>\n",
              "      <td>59.250000</td>\n",
              "      <td>89.333333</td>\n",
              "    </tr>\n",
              "    <tr>\n",
              "      <th>Steel</th>\n",
              "      <td>48.631579</td>\n",
              "      <td>99.333333</td>\n",
              "    </tr>\n",
              "    <tr>\n",
              "      <th>Water</th>\n",
              "      <td>63.134615</td>\n",
              "      <td>100.000000</td>\n",
              "    </tr>\n",
              "  </tbody>\n",
              "</table>\n",
              "</div>\n",
              "      <button class=\"colab-df-convert\" onclick=\"convertToInteractive('df-92772ebb-2fe9-4e90-ab62-af8ba8387770')\"\n",
              "              title=\"Convert this dataframe to an interactive table.\"\n",
              "              style=\"display:none;\">\n",
              "        \n",
              "  <svg xmlns=\"http://www.w3.org/2000/svg\" height=\"24px\"viewBox=\"0 0 24 24\"\n",
              "       width=\"24px\">\n",
              "    <path d=\"M0 0h24v24H0V0z\" fill=\"none\"/>\n",
              "    <path d=\"M18.56 5.44l.94 2.06.94-2.06 2.06-.94-2.06-.94-.94-2.06-.94 2.06-2.06.94zm-11 1L8.5 8.5l.94-2.06 2.06-.94-2.06-.94L8.5 2.5l-.94 2.06-2.06.94zm10 10l.94 2.06.94-2.06 2.06-.94-2.06-.94-.94-2.06-.94 2.06-2.06.94z\"/><path d=\"M17.41 7.96l-1.37-1.37c-.4-.4-.92-.59-1.43-.59-.52 0-1.04.2-1.43.59L10.3 9.45l-7.72 7.72c-.78.78-.78 2.05 0 2.83L4 21.41c.39.39.9.59 1.41.59.51 0 1.02-.2 1.41-.59l7.78-7.78 2.81-2.81c.8-.78.8-2.07 0-2.86zM5.41 20L4 18.59l7.72-7.72 1.47 1.35L5.41 20z\"/>\n",
              "  </svg>\n",
              "      </button>\n",
              "      \n",
              "  <style>\n",
              "    .colab-df-container {\n",
              "      display:flex;\n",
              "      flex-wrap:wrap;\n",
              "      gap: 12px;\n",
              "    }\n",
              "\n",
              "    .colab-df-convert {\n",
              "      background-color: #E8F0FE;\n",
              "      border: none;\n",
              "      border-radius: 50%;\n",
              "      cursor: pointer;\n",
              "      display: none;\n",
              "      fill: #1967D2;\n",
              "      height: 32px;\n",
              "      padding: 0 0 0 0;\n",
              "      width: 32px;\n",
              "    }\n",
              "\n",
              "    .colab-df-convert:hover {\n",
              "      background-color: #E2EBFA;\n",
              "      box-shadow: 0px 1px 2px rgba(60, 64, 67, 0.3), 0px 1px 3px 1px rgba(60, 64, 67, 0.15);\n",
              "      fill: #174EA6;\n",
              "    }\n",
              "\n",
              "    [theme=dark] .colab-df-convert {\n",
              "      background-color: #3B4455;\n",
              "      fill: #D2E3FC;\n",
              "    }\n",
              "\n",
              "    [theme=dark] .colab-df-convert:hover {\n",
              "      background-color: #434B5C;\n",
              "      box-shadow: 0px 1px 3px 1px rgba(0, 0, 0, 0.15);\n",
              "      filter: drop-shadow(0px 1px 2px rgba(0, 0, 0, 0.3));\n",
              "      fill: #FFFFFF;\n",
              "    }\n",
              "  </style>\n",
              "\n",
              "      <script>\n",
              "        const buttonEl =\n",
              "          document.querySelector('#df-92772ebb-2fe9-4e90-ab62-af8ba8387770 button.colab-df-convert');\n",
              "        buttonEl.style.display =\n",
              "          google.colab.kernel.accessAllowed ? 'block' : 'none';\n",
              "\n",
              "        async function convertToInteractive(key) {\n",
              "          const element = document.querySelector('#df-92772ebb-2fe9-4e90-ab62-af8ba8387770');\n",
              "          const dataTable =\n",
              "            await google.colab.kernel.invokeFunction('convertToInteractive',\n",
              "                                                     [key], {});\n",
              "          if (!dataTable) return;\n",
              "\n",
              "          const docLinkHtml = 'Like what you see? Visit the ' +\n",
              "            '<a target=\"_blank\" href=https://colab.research.google.com/notebooks/data_table.ipynb>data table notebook</a>'\n",
              "            + ' to learn more about interactive tables.';\n",
              "          element.innerHTML = '';\n",
              "          dataTable['output_type'] = 'display_data';\n",
              "          await google.colab.output.renderOutput(dataTable, element);\n",
              "          const docLink = document.createElement('div');\n",
              "          docLink.innerHTML = docLinkHtml;\n",
              "          element.appendChild(docLink);\n",
              "        }\n",
              "      </script>\n",
              "    </div>\n",
              "  </div>\n",
              "  "
            ]
          },
          "metadata": {},
          "execution_count": 44
        }
      ],
      "source": [
        "df_hi.pivot_table('Speed',index=['Type 1'],columns=['Legendary'], aggfunc='mean').head(20)# we using\n",
        "                                                   # pivot_table function inside index and column"
      ]
    },
    {
      "cell_type": "markdown",
      "id": "jGDLRTEe64L4",
      "metadata": {
        "id": "jGDLRTEe64L4"
      },
      "source": [
        "   **Inferances:-**\n",
        "\n",
        "      *Here we calaculating the average speed of each Type 1 pokemon along with isolating\n",
        "       them into legendaary and non legendary"
      ]
    },
    {
      "cell_type": "markdown",
      "id": "04baf927-b537-4d32-ad87-82f59788f1e5",
      "metadata": {
        "id": "04baf927-b537-4d32-ad87-82f59788f1e5"
      },
      "source": [
        "11. Plot a histogram for the feature 'Speed'. Which plot type do you think would be suitable for this feature?"
      ]
    },
    {
      "cell_type": "code",
      "execution_count": null,
      "id": "e9516802-7da0-4bbd-b83e-443e3fbb7fe5",
      "metadata": {
        "colab": {
          "base_uri": "https://localhost:8080/",
          "height": 279
        },
        "id": "e9516802-7da0-4bbd-b83e-443e3fbb7fe5",
        "outputId": "c156075d-2600-44a8-eeb3-7df3400c41f1"
      },
      "outputs": [
        {
          "output_type": "display_data",
          "data": {
            "text/plain": [
              "<Figure size 432x288 with 1 Axes>"
            ],
            "image/png": "[encoded data removed]"
          },
          "metadata": {
            "needs_background": "light"
          }
        }
      ],
      "source": [
        "plt.hist(df_hi['Generation'],histtype=\"bar\",rwidth=2)\n",
        "plt.xlabel('Generation')\n",
        "plt.ylabel('Speed')\n",
        "plt.plot()\n",
        "plt.axvline(df_hi['Generation'].mean(),linestyle=':',c='r')\n",
        "plt.show()"
      ]
    },
    {
      "cell_type": "code",
      "execution_count": null,
      "id": "0f813abd",
      "metadata": {
        "colab": {
          "base_uri": "https://localhost:8080/",
          "height": 297
        },
        "id": "0f813abd",
        "outputId": "c6572add-f016-41ac-9dee-634ba85c74b5"
      },
      "outputs": [
        {
          "output_type": "execute_result",
          "data": {
            "text/plain": [
              "<matplotlib.axes._subplots.AxesSubplot at 0x7f3f8a1bde50>"
            ]
          },
          "metadata": {},
          "execution_count": 46
        },
        {
          "output_type": "display_data",
          "data": {
            "text/plain": [
              "<Figure size 432x288 with 1 Axes>"
            ],
            "image/png": "[encoded data removed]"
          },
          "metadata": {
            "needs_background": "light"
          }
        }
      ],
      "source": [
        "sns.lineplot(df_hi['Generation'],df_hi['Speed'])"
      ]
    },
    {
      "cell_type": "markdown",
      "id": "75fad1a1",
      "metadata": {
        "id": "75fad1a1"
      },
      "source": [
        "   **Inferances:-**\n",
        "\n",
        "    *Speed vs Generation line plot provides more insights and clear\n",
        "     understanding about the dataset that Changes continuosly over a\n",
        "     period of time while compared the histogram plot."
      ]
    },
    {
      "cell_type": "markdown",
      "id": "6f20746f",
      "metadata": {
        "id": "6f20746f"
      },
      "source": [
        "12. Without removing null values, which type of pokemon would be most common in Type 1. Is it different from the data removing null values?"
      ]
    },
    {
      "cell_type": "code",
      "execution_count": null,
      "id": "e34bad4a",
      "metadata": {
        "colab": {
          "base_uri": "https://localhost:8080/"
        },
        "id": "e34bad4a",
        "outputId": "ee2b156e-a04f-47c4-ddd8-9d77c88ea12e"
      },
      "outputs": [
        {
          "output_type": "execute_result",
          "data": {
            "text/plain": [
              "Water       14.000\n",
              "Normal      12.250\n",
              "Grass        8.750\n",
              "Bug          8.625\n",
              "Psychic      7.125\n",
              "Fire         6.500\n",
              "Electric     5.500\n",
              "Rock         5.500\n",
              "Dragon       4.000\n",
              "Ground       4.000\n",
              "Ghost        4.000\n",
              "Dark         3.875\n",
              "Poison       3.500\n",
              "Steel        3.375\n",
              "Fighting     3.375\n",
              "Ice          3.000\n",
              "Fairy        2.125\n",
              "Flying       0.500\n",
              "Name: Type 1, dtype: float64"
            ]
          },
          "metadata": {},
          "execution_count": 47
        }
      ],
      "source": [
        "df_h['Type 1'].value_counts(normalize = True)*100 # Without removing the null values"
      ]
    },
    {
      "cell_type": "code",
      "execution_count": null,
      "id": "1d975d0d",
      "metadata": {
        "colab": {
          "base_uri": "https://localhost:8080/"
        },
        "id": "1d975d0d",
        "outputId": "73dd359f-b61a-4576-f447-0a2e20fcaf0b"
      },
      "outputs": [
        {
          "output_type": "execute_result",
          "data": {
            "text/plain": [
              "Water       12.801932\n",
              "Bug         12.560386\n",
              "Grass        8.937198\n",
              "Normal       8.937198\n",
              "Rock         8.454106\n",
              "Fire         5.797101\n",
              "Steel        5.314010\n",
              "Ghost        5.314010\n",
              "Dragon       5.072464\n",
              "Dark         5.072464\n",
              "Ground       4.589372\n",
              "Psychic      4.589372\n",
              "Electric     4.106280\n",
              "Poison       3.140097\n",
              "Ice          2.657005\n",
              "Fighting     1.690821\n",
              "Fairy        0.483092\n",
              "Flying       0.483092\n",
              "Name: Type 1, dtype: float64"
            ]
          },
          "metadata": {},
          "execution_count": 48
        }
      ],
      "source": [
        "df_hi['Type 1'].value_counts(normalize = True)*100# After removing the null values"
      ]
    },
    {
      "cell_type": "markdown",
      "id": "d7337656",
      "metadata": {
        "id": "d7337656"
      },
      "source": [
        "   **Inferences**\n",
        "\n",
        "    -Removing the null values in the records are different from the record\n",
        "     without droping the null values,\n",
        "        *Type 1 feature records without droping all NULL values in Type 2.\n",
        "        *Type 1 feature records dropping NULL values in Type 2"
      ]
    },
    {
      "cell_type": "markdown",
      "id": "9f0effbb",
      "metadata": {
        "id": "9f0effbb"
      },
      "source": [
        "13. Plot a boxplot for the feature 'total' with respect to the feature 'Type 1'. What do you infer from the plot?"
      ]
    },
    {
      "cell_type": "code",
      "execution_count": null,
      "id": "449fd755",
      "metadata": {
        "colab": {
          "base_uri": "https://localhost:8080/",
          "height": 460
        },
        "id": "449fd755",
        "outputId": "0a826a8c-316a-44bf-9b55-9bc42bef83ab"
      },
      "outputs": [
        {
          "output_type": "execute_result",
          "data": {
            "text/plain": [
              "<matplotlib.axes._subplots.AxesSubplot at 0x7f3f8a187490>"
            ]
          },
          "metadata": {},
          "execution_count": 49
        },
        {
          "output_type": "display_data",
          "data": {
            "text/plain": [
              "<Figure size 1080x504 with 1 Axes>"
            ],
            "image/png": "[encoded data removed]"
          },
          "metadata": {
            "needs_background": "light"
          }
        }
      ],
      "source": [
        "fig = plt.figure(figsize =(15, 7))\n",
        "sns.boxplot(x=df_hi['Type 1'],y=df_hi['Total'])"
      ]
    },
    {
      "cell_type": "markdown",
      "id": "e5f18340",
      "metadata": {
        "id": "e5f18340"
      },
      "source": [
        "   **Inferences**\n",
        "\n",
        "    *Box plot clearly shows the how each data in type1 is distributed within quartiles.\n",
        "    *Ground,Psychic have maximum Total Value & psychic,Bug,Normal have a minimum toal value.\n",
        "    *We found outliers in the Dragon,fighting and Electric with respect to the total value."
      ]
    },
    {
      "cell_type": "markdown",
      "id": "96eb6e4e",
      "metadata": {
        "id": "96eb6e4e"
      },
      "source": [
        "14. Plot a scatter plot for the feature attack value and defense value, with respect to 'Type 2'. What are your observations?"
      ]
    },
    {
      "cell_type": "code",
      "execution_count": null,
      "id": "ed2d4f2d",
      "metadata": {
        "colab": {
          "base_uri": "https://localhost:8080/",
          "height": 542
        },
        "id": "ed2d4f2d",
        "outputId": "097ec97c-1f7f-401c-b41f-3c9e08e4282f"
      },
      "outputs": [
        {
          "output_type": "display_data",
          "data": {
            "text/html": [
              "<html>\n",
              "<head><meta charset=\"utf-8\" /></head>\n",
              "<body>\n",
              "    <div>            <script src=\"https://cdnjs.cloudflare.com/ajax/libs/mathjax/2.7.5/MathJax.js?config=TeX-AMS-MML_SVG\"></script><script type=\"text/javascript\">if (window.MathJax) {MathJax.Hub.Config({SVG: {font: \"STIX-Web\"}});}</script>                <script type=\"text/javascript\">window.PlotlyConfig = {MathJaxConfig: 'local'};</script>\n",
              "        <script src=\"https://cdn.plot.ly/plotly-2.8.3.min.js\"></script>                <div id=\"15706bd9-a0c8-437e-8280-1fed22e4b92d\" class=\"plotly-graph-div\" style=\"height:525px; width:100%;\"></div>            <script type=\"text/javascript\">                                    window.PLOTLYENV=window.PLOTLYENV || {};                                    if (document.getElementById(\"15706bd9-a0c8-437e-8280-1fed22e4b92d\")) {                    Plotly.newPlot(                        \"15706bd9-a0c8-437e-8280-1fed22e4b92d\",                        [{\"mode\":\"markers+text\",\"name\":\"Attack\",\"x\":[49,62,82,100,84,130,104,45,35,25,90,150,45,60,80,80,60,90,92,102,45,70,45,80,50,65,80,70,95,55,65,95,75,90,105,40,70,80,95,120,65,75,75,35,60,65,85,110,70,95,35,50,65,65,45,40,95,85,130,75,45,110,50,155,125,155,85,40,60,80,115,105,135,85,90,100,134,190,30,50,20,35,60,90,90,38,58,30,40,50,75,95,20,50,35,45,55,65,45,85,85,75,80,90,75,85,125,95,130,150,10,125,185,95,50,50,100,55,55,40,80,60,90,90,95,30,64,84,134,164,90,130,100,110,85,120,160,85,110,150,70,50,30,50,70,70,100,55,85,30,50,25,35,65,85,30,60,130,45,90,90,20,75,85,85,105,70,90,110,40,60,100,60,90,120,140,60,100,120,70,100,115,40,70,110,55,95,48,78,120,40,70,41,81,95,125,68,40,60,80,90,135,145,55,75,135,145,80,100,90,130,180,150,180,100,109,78,104,86,55,75,120,85,30,70,42,52,59,79,69,94,30,80,83,50,80,136,125,63,93,24,89,25,65,92,70,90,130,170,110,145,50,90,61,106,20,62,92,132,120,70,140,50,76,95,130,125,165,55,80,50,65,65,65,65,65,120,120,90,100,120,103,100,93,123,55,77,115,45,57,135,60,65,95,53,63,103,45,55,100,27,67,72,82,117,30,65,95,75,90,58,78,108,112,140,44,87,60,100,75,135,55,85,40,60,47,77,50,94,30,40,55,66,74,124,85,125,83,123,55,65,109,65,85,105,85,60,90,129,90,115,105,120,150,125,145,130,170,120,72,72,77,128,120,107,69,95,56,50,73,81,52,50,68,124,80,110,150,50,54,92,52,105,60,75,38,55,89,121,59,77,92,58,50,80,70,110,66,66,66,66,90,85,95,100,30,70,131,100,100,160,110,160,110],\"y\":[\"Poison\",\"Poison\",\"Poison\",\"Poison\",\"Flying\",\"Dragon\",\"Flying\",\"Flying\",\"Poison\",\"Poison\",\"Poison\",\"Poison\",\"Flying\",\"Flying\",\"Flying\",\"Flying\",\"Flying\",\"Flying\",\"Ground\",\"Ground\",\"Fairy\",\"Fairy\",\"Flying\",\"Flying\",\"Poison\",\"Poison\",\"Poison\",\"Grass\",\"Grass\",\"Poison\",\"Poison\",\"Fighting\",\"Poison\",\"Poison\",\"Poison\",\"Poison\",\"Poison\",\"Ground\",\"Ground\",\"Ground\",\"Psychic\",\"Psychic\",\"Psychic\",\"Steel\",\"Steel\",\"Flying\",\"Flying\",\"Flying\",\"Ice\",\"Ice\",\"Poison\",\"Poison\",\"Poison\",\"Poison\",\"Ground\",\"Psychic\",\"Psychic\",\"Rock\",\"Rock\",\"Psychic\",\"Fairy\",\"Flying\",\"Psychic\",\"Flying\",\"Flying\",\"Dark\",\"Ice\",\"Water\",\"Water\",\"Water\",\"Water\",\"Flying\",\"Flying\",\"Flying\",\"Flying\",\"Flying\",\"Flying\",\"Fighting\",\"Flying\",\"Flying\",\"Flying\",\"Flying\",\"Poison\",\"Poison\",\"Flying\",\"Electric\",\"Electric\",\"Fairy\",\"Flying\",\"Flying\",\"Flying\",\"Dragon\",\"Fairy\",\"Fairy\",\"Flying\",\"Flying\",\"Flying\",\"Flying\",\"Ground\",\"Ground\",\"Flying\",\"Psychic\",\"Psychic\",\"Steel\",\"Flying\",\"Ground\",\"Ground\",\"Poison\",\"Steel\",\"Steel\",\"Rock\",\"Fighting\",\"Fighting\",\"Ice\",\"Rock\",\"Ground\",\"Ground\",\"Rock\",\"Flying\",\"Flying\",\"Flying\",\"Fire\",\"Fire\",\"Fire\",\"Dragon\",\"Psychic\",\"Ground\",\"Ground\",\"Dark\",\"Dark\",\"Flying\",\"Flying\",\"Grass\",\"Dragon\",\"Fighting\",\"Fighting\",\"Fighting\",\"Ground\",\"Ground\",\"Ground\",\"Flying\",\"Poison\",\"Grass\",\"Grass\",\"Grass\",\"Dark\",\"Dark\",\"Flying\",\"Flying\",\"Flying\",\"Flying\",\"Fairy\",\"Fairy\",\"Fairy\",\"Fairy\",\"Water\",\"Flying\",\"Fighting\",\"Ground\",\"Flying\",\"Ghost\",\"Fairy\",\"Ghost\",\"Ghost\",\"Fairy\",\"Fairy\",\"Rock\",\"Rock\",\"Rock\",\"Psychic\",\"Psychic\",\"Psychic\",\"Poison\",\"Dark\",\"Dark\",\"Dark\",\"Ground\",\"Ground\",\"Ground\",\"Dragon\",\"Dragon\",\"Dark\",\"Flying\",\"Flying\",\"Fairy\",\"Psychic\",\"Psychic\",\"Ground\",\"Ground\",\"Dark\",\"Psychic\",\"Psychic\",\"Grass\",\"Grass\",\"Bug\",\"Bug\",\"Flying\",\"Water\",\"Water\",\"Water\",\"Rock\",\"Flying\",\"Flying\",\"Psychic\",\"Psychic\",\"Psychic\",\"Psychic\",\"Psychic\",\"Psychic\",\"Psychic\",\"Psychic\",\"Fire\",\"Flying\",\"Flying\",\"Psychic\",\"Ground\",\"Fighting\",\"Fighting\",\"Steel\",\"Flying\",\"Flying\",\"Flying\",\"Water\",\"Poison\",\"Poison\",\"Steel\",\"Steel\",\"Grass\",\"Ground\",\"Steel\",\"Flying\",\"Flying\",\"Flying\",\"Ground\",\"Flying\",\"Flying\",\"Fighting\",\"Flying\",\"Dark\",\"Dark\",\"Psychic\",\"Psychic\",\"Fairy\",\"Flying\",\"Dark\",\"Ground\",\"Ground\",\"Ground\",\"Ground\",\"Steel\",\"Steel\",\"Bug\",\"Dark\",\"Fighting\",\"Fighting\",\"Flying\",\"Ice\",\"Ice\",\"Ice\",\"Ice\",\"Steel\",\"Rock\",\"Flying\",\"Flying\",\"Flying\",\"Ground\",\"Fighting\",\"Fighting\",\"Steel\",\"Ghost\",\"Ghost\",\"Fire\",\"Water\",\"Ice\",\"Flying\",\"Grass\",\"Dragon\",\"Dragon\",\"Steel\",\"Dragon\",\"Dragon\",\"Flying\",\"Fire\",\"Fighting\",\"Fighting\",\"Flying\",\"Flying\",\"Flying\",\"Flying\",\"Flying\",\"Steel\",\"Fairy\",\"Ground\",\"Ground\",\"Grass\",\"Grass\",\"Grass\",\"Poison\",\"Poison\",\"Poison\",\"Fairy\",\"Fairy\",\"Dark\",\"Dark\",\"Dark\",\"Psychic\",\"Rock\",\"Rock\",\"Fighting\",\"Fighting\",\"Flying\",\"Rock\",\"Rock\",\"Flying\",\"Flying\",\"Flying\",\"Flying\",\"Grass\",\"Grass\",\"Flying\",\"Steel\",\"Poison\",\"Poison\",\"Ghost\",\"Ghost\",\"Electric\",\"Electric\",\"Steel\",\"Steel\",\"Fire\",\"Fire\",\"Fire\",\"Electric\",\"Ghost\",\"Ghost\",\"Steel\",\"Steel\",\"Flying\",\"Flying\",\"Flying\",\"Flying\",\"Steel\",\"Dragon\",\"Dragon\",\"Dragon\",\"Fire\",\"Fire\",\"Fighting\",\"Fighting\",\"Fighting\",\"Flying\",\"Flying\",\"Fire\",\"Electric\",\"Flying\",\"Flying\",\"Ice\",\"Ice\",\"Ice\",\"Fighting\",\"Fighting\",\"Psychic\",\"Fighting\",\"Steel\",\"Fighting\",\"Psychic\",\"Dark\",\"Ground\",\"Flying\",\"Flying\",\"Flying\",\"Flying\",\"Normal\",\"Normal\",\"Dark\",\"Ghost\",\"Ghost\",\"Ghost\",\"Ghost\",\"Psychic\",\"Psychic\",\"Water\",\"Water\",\"Water\",\"Dragon\",\"Normal\",\"Normal\",\"Dragon\",\"Dragon\",\"Ice\",\"Ice\",\"Flying\",\"Fairy\",\"Fairy\",\"Fairy\",\"Grass\",\"Grass\",\"Grass\",\"Grass\",\"Grass\",\"Grass\",\"Grass\",\"Grass\",\"Grass\",\"Grass\",\"Dragon\",\"Dragon\",\"Flying\",\"Ground\",\"Fairy\",\"Fairy\",\"Ghost\",\"Dark\",\"Water\"],\"type\":\"scatter\"},{\"mode\":\"markers+text\",\"name\":\"Defense\",\"x\":[49,63,83,123,78,111,78,50,30,50,40,40,40,55,75,80,30,65,87,77,20,45,35,70,55,70,85,55,80,50,60,95,35,50,65,35,65,100,115,130,65,110,180,70,95,55,45,70,80,180,30,45,60,80,160,80,85,95,120,85,65,80,35,120,79,109,80,100,125,90,105,65,85,100,85,90,95,100,30,50,30,50,40,70,80,38,58,15,85,45,70,105,50,80,40,50,70,45,45,85,42,80,65,140,105,200,230,75,100,140,230,75,115,55,120,40,80,85,45,70,140,30,50,90,95,15,50,70,110,150,130,90,100,75,60,70,80,70,90,110,50,70,30,50,70,40,60,30,60,30,100,25,35,65,65,32,62,80,90,45,45,40,75,125,85,125,100,140,180,55,75,85,45,20,40,70,40,70,100,50,80,60,60,90,110,65,85,43,73,85,55,105,77,97,50,100,83,50,70,90,130,80,130,80,100,130,150,90,120,80,100,160,90,100,100,105,52,71,88,30,50,70,60,35,65,118,168,85,105,95,50,42,102,68,34,44,94,52,47,67,86,116,45,45,108,45,65,95,115,70,88,90,110,40,65,50,50,75,105,65,115,130,95,86,125,80,65,95,145,70,77,107,107,107,107,107,120,100,106,120,100,75,100,55,65,50,62,80,43,55,60,126,55,75,70,90,80,59,99,89,60,85,35,45,80,105,85,125,70,115,80,103,133,45,65,50,63,50,70,60,105,45,70,50,70,50,60,91,131,55,60,90,84,50,80,70,100,50,75,75,105,112,50,70,90,55,65,129,90,72,70,70,100,120,90,90,90,100,90,90,90,77,90,95,122,72,67,77,43,55,71,50,58,72,78,100,150,50,150,53,88,67,115,60,90,33,52,77,119,50,72,75,57,150,91,48,76,70,70,70,70,122,122,122,122,35,80,95,121,150,110,60,60,120],\"y\":[\"Poison\",\"Poison\",\"Poison\",\"Poison\",\"Flying\",\"Dragon\",\"Flying\",\"Flying\",\"Poison\",\"Poison\",\"Poison\",\"Poison\",\"Flying\",\"Flying\",\"Flying\",\"Flying\",\"Flying\",\"Flying\",\"Ground\",\"Ground\",\"Fairy\",\"Fairy\",\"Flying\",\"Flying\",\"Poison\",\"Poison\",\"Poison\",\"Grass\",\"Grass\",\"Poison\",\"Poison\",\"Fighting\",\"Poison\",\"Poison\",\"Poison\",\"Poison\",\"Poison\",\"Ground\",\"Ground\",\"Ground\",\"Psychic\",\"Psychic\",\"Psychic\",\"Steel\",\"Steel\",\"Flying\",\"Flying\",\"Flying\",\"Ice\",\"Ice\",\"Poison\",\"Poison\",\"Poison\",\"Poison\",\"Ground\",\"Psychic\",\"Psychic\",\"Rock\",\"Rock\",\"Psychic\",\"Fairy\",\"Flying\",\"Psychic\",\"Flying\",\"Flying\",\"Dark\",\"Ice\",\"Water\",\"Water\",\"Water\",\"Water\",\"Flying\",\"Flying\",\"Flying\",\"Flying\",\"Flying\",\"Flying\",\"Fighting\",\"Flying\",\"Flying\",\"Flying\",\"Flying\",\"Poison\",\"Poison\",\"Flying\",\"Electric\",\"Electric\",\"Fairy\",\"Flying\",\"Flying\",\"Flying\",\"Dragon\",\"Fairy\",\"Fairy\",\"Flying\",\"Flying\",\"Flying\",\"Flying\",\"Ground\",\"Ground\",\"Flying\",\"Psychic\",\"Psychic\",\"Steel\",\"Flying\",\"Ground\",\"Ground\",\"Poison\",\"Steel\",\"Steel\",\"Rock\",\"Fighting\",\"Fighting\",\"Ice\",\"Rock\",\"Ground\",\"Ground\",\"Rock\",\"Flying\",\"Flying\",\"Flying\",\"Fire\",\"Fire\",\"Fire\",\"Dragon\",\"Psychic\",\"Ground\",\"Ground\",\"Dark\",\"Dark\",\"Flying\",\"Flying\",\"Grass\",\"Dragon\",\"Fighting\",\"Fighting\",\"Fighting\",\"Ground\",\"Ground\",\"Ground\",\"Flying\",\"Poison\",\"Grass\",\"Grass\",\"Grass\",\"Dark\",\"Dark\",\"Flying\",\"Flying\",\"Flying\",\"Flying\",\"Fairy\",\"Fairy\",\"Fairy\",\"Fairy\",\"Water\",\"Flying\",\"Fighting\",\"Ground\",\"Flying\",\"Ghost\",\"Fairy\",\"Ghost\",\"Ghost\",\"Fairy\",\"Fairy\",\"Rock\",\"Rock\",\"Rock\",\"Psychic\",\"Psychic\",\"Psychic\",\"Poison\",\"Dark\",\"Dark\",\"Dark\",\"Ground\",\"Ground\",\"Ground\",\"Dragon\",\"Dragon\",\"Dark\",\"Flying\",\"Flying\",\"Fairy\",\"Psychic\",\"Psychic\",\"Ground\",\"Ground\",\"Dark\",\"Psychic\",\"Psychic\",\"Grass\",\"Grass\",\"Bug\",\"Bug\",\"Flying\",\"Water\",\"Water\",\"Water\",\"Rock\",\"Flying\",\"Flying\",\"Psychic\",\"Psychic\",\"Psychic\",\"Psychic\",\"Psychic\",\"Psychic\",\"Psychic\",\"Psychic\",\"Fire\",\"Flying\",\"Flying\",\"Psychic\",\"Ground\",\"Fighting\",\"Fighting\",\"Steel\",\"Flying\",\"Flying\",\"Flying\",\"Water\",\"Poison\",\"Poison\",\"Steel\",\"Steel\",\"Grass\",\"Ground\",\"Steel\",\"Flying\",\"Flying\",\"Flying\",\"Ground\",\"Flying\",\"Flying\",\"Fighting\",\"Flying\",\"Dark\",\"Dark\",\"Psychic\",\"Psychic\",\"Fairy\",\"Flying\",\"Dark\",\"Ground\",\"Ground\",\"Ground\",\"Ground\",\"Steel\",\"Steel\",\"Bug\",\"Dark\",\"Fighting\",\"Fighting\",\"Flying\",\"Ice\",\"Ice\",\"Ice\",\"Ice\",\"Steel\",\"Rock\",\"Flying\",\"Flying\",\"Flying\",\"Ground\",\"Fighting\",\"Fighting\",\"Steel\",\"Ghost\",\"Ghost\",\"Fire\",\"Water\",\"Ice\",\"Flying\",\"Grass\",\"Dragon\",\"Dragon\",\"Steel\",\"Dragon\",\"Dragon\",\"Flying\",\"Fire\",\"Fighting\",\"Fighting\",\"Flying\",\"Flying\",\"Flying\",\"Flying\",\"Flying\",\"Steel\",\"Fairy\",\"Ground\",\"Ground\",\"Grass\",\"Grass\",\"Grass\",\"Poison\",\"Poison\",\"Poison\",\"Fairy\",\"Fairy\",\"Dark\",\"Dark\",\"Dark\",\"Psychic\",\"Rock\",\"Rock\",\"Fighting\",\"Fighting\",\"Flying\",\"Rock\",\"Rock\",\"Flying\",\"Flying\",\"Flying\",\"Flying\",\"Grass\",\"Grass\",\"Flying\",\"Steel\",\"Poison\",\"Poison\",\"Ghost\",\"Ghost\",\"Electric\",\"Electric\",\"Steel\",\"Steel\",\"Fire\",\"Fire\",\"Fire\",\"Electric\",\"Ghost\",\"Ghost\",\"Steel\",\"Steel\",\"Flying\",\"Flying\",\"Flying\",\"Flying\",\"Steel\",\"Dragon\",\"Dragon\",\"Dragon\",\"Fire\",\"Fire\",\"Fighting\",\"Fighting\",\"Fighting\",\"Flying\",\"Flying\",\"Fire\",\"Electric\",\"Flying\",\"Flying\",\"Ice\",\"Ice\",\"Ice\",\"Fighting\",\"Fighting\",\"Psychic\",\"Fighting\",\"Steel\",\"Fighting\",\"Psychic\",\"Dark\",\"Ground\",\"Flying\",\"Flying\",\"Flying\",\"Flying\",\"Normal\",\"Normal\",\"Dark\",\"Ghost\",\"Ghost\",\"Ghost\",\"Ghost\",\"Psychic\",\"Psychic\",\"Water\",\"Water\",\"Water\",\"Dragon\",\"Normal\",\"Normal\",\"Dragon\",\"Dragon\",\"Ice\",\"Ice\",\"Flying\",\"Fairy\",\"Fairy\",\"Fairy\",\"Grass\",\"Grass\",\"Grass\",\"Grass\",\"Grass\",\"Grass\",\"Grass\",\"Grass\",\"Grass\",\"Grass\",\"Dragon\",\"Dragon\",\"Flying\",\"Ground\",\"Fairy\",\"Fairy\",\"Ghost\",\"Dark\",\"Water\"],\"type\":\"scatter\"}],                        {\"template\":{\"data\":{\"bar\":[{\"error_x\":{\"color\":\"#2a3f5f\"},\"error_y\":{\"color\":\"#2a3f5f\"},\"marker\":{\"line\":{\"color\":\"#E5ECF6\",\"width\":0.5},\"pattern\":{\"fillmode\":\"overlay\",\"size\":10,\"solidity\":0.2}},\"type\":\"bar\"}],\"barpolar\":[{\"marker\":{\"line\":{\"color\":\"#E5ECF6\",\"width\":0.5},\"pattern\":{\"fillmode\":\"overlay\",\"size\":10,\"solidity\":0.2}},\"type\":\"barpolar\"}],\"carpet\":[{\"aaxis\":{\"endlinecolor\":\"#2a3f5f\",\"gridcolor\":\"white\",\"linecolor\":\"white\",\"minorgridcolor\":\"white\",\"startlinecolor\":\"#2a3f5f\"},\"baxis\":{\"endlinecolor\":\"#2a3f5f\",\"gridcolor\":\"white\",\"linecolor\":\"white\",\"minorgridcolor\":\"white\",\"startlinecolor\":\"#2a3f5f\"},\"type\":\"carpet\"}],\"choropleth\":[{\"colorbar\":{\"outlinewidth\":0,\"ticks\":\"\"},\"type\":\"choropleth\"}],\"contour\":[{\"colorbar\":{\"outlinewidth\":0,\"ticks\":\"\"},\"colorscale\":[[0.0,\"#0d0887\"],[0.1111111111111111,\"#46039f\"],[0.2222222222222222,\"#7201a8\"],[0.3333333333333333,\"#9c179e\"],[0.4444444444444444,\"#bd3786\"],[0.5555555555555556,\"#d8576b\"],[0.6666666666666666,\"#ed7953\"],[0.7777777777777778,\"#fb9f3a\"],[0.8888888888888888,\"#fdca26\"],[1.0,\"#f0f921\"]],\"type\":\"contour\"}],\"contourcarpet\":[{\"colorbar\":{\"outlinewidth\":0,\"ticks\":\"\"},\"type\":\"contourcarpet\"}],\"heatmap\":[{\"colorbar\":{\"outlinewidth\":0,\"ticks\":\"\"},\"colorscale\":[[0.0,\"#0d0887\"],[0.1111111111111111,\"#46039f\"],[0.2222222222222222,\"#7201a8\"],[0.3333333333333333,\"#9c179e\"],[0.4444444444444444,\"#bd3786\"],[0.5555555555555556,\"#d8576b\"],[0.6666666666666666,\"#ed7953\"],[0.7777777777777778,\"#fb9f3a\"],[0.8888888888888888,\"#fdca26\"],[1.0,\"#f0f921\"]],\"type\":\"heatmap\"}],\"heatmapgl\":[{\"colorbar\":{\"outlinewidth\":0,\"ticks\":\"\"},\"colorscale\":[[0.0,\"#0d0887\"],[0.1111111111111111,\"#46039f\"],[0.2222222222222222,\"#7201a8\"],[0.3333333333333333,\"#9c179e\"],[0.4444444444444444,\"#bd3786\"],[0.5555555555555556,\"#d8576b\"],[0.6666666666666666,\"#ed7953\"],[0.7777777777777778,\"#fb9f3a\"],[0.8888888888888888,\"#fdca26\"],[1.0,\"#f0f921\"]],\"type\":\"heatmapgl\"}],\"histogram\":[{\"marker\":{\"pattern\":{\"fillmode\":\"overlay\",\"size\":10,\"solidity\":0.2}},\"type\":\"histogram\"}],\"histogram2d\":[{\"colorbar\":{\"outlinewidth\":0,\"ticks\":\"\"},\"colorscale\":[[0.0,\"#0d0887\"],[0.1111111111111111,\"#46039f\"],[0.2222222222222222,\"#7201a8\"],[0.3333333333333333,\"#9c179e\"],[0.4444444444444444,\"#bd3786\"],[0.5555555555555556,\"#d8576b\"],[0.6666666666666666,\"#ed7953\"],[0.7777777777777778,\"#fb9f3a\"],[0.8888888888888888,\"#fdca26\"],[1.0,\"#f0f921\"]],\"type\":\"histogram2d\"}],\"histogram2dcontour\":[{\"colorbar\":{\"outlinewidth\":0,\"ticks\":\"\"},\"colorscale\":[[0.0,\"#0d0887\"],[0.1111111111111111,\"#46039f\"],[0.2222222222222222,\"#7201a8\"],[0.3333333333333333,\"#9c179e\"],[0.4444444444444444,\"#bd3786\"],[0.5555555555555556,\"#d8576b\"],[0.6666666666666666,\"#ed7953\"],[0.7777777777777778,\"#fb9f3a\"],[0.8888888888888888,\"#fdca26\"],[1.0,\"#f0f921\"]],\"type\":\"histogram2dcontour\"}],\"mesh3d\":[{\"colorbar\":{\"outlinewidth\":0,\"ticks\":\"\"},\"type\":\"mesh3d\"}],\"parcoords\":[{\"line\":{\"colorbar\":{\"outlinewidth\":0,\"ticks\":\"\"}},\"type\":\"parcoords\"}],\"pie\":[{\"automargin\":true,\"type\":\"pie\"}],\"scatter\":[{\"marker\":{\"colorbar\":{\"outlinewidth\":0,\"ticks\":\"\"}},\"type\":\"scatter\"}],\"scatter3d\":[{\"line\":{\"colorbar\":{\"outlinewidth\":0,\"ticks\":\"\"}},\"marker\":{\"colorbar\":{\"outlinewidth\":0,\"ticks\":\"\"}},\"type\":\"scatter3d\"}],\"scattercarpet\":[{\"marker\":{\"colorbar\":{\"outlinewidth\":0,\"ticks\":\"\"}},\"type\":\"scattercarpet\"}],\"scattergeo\":[{\"marker\":{\"colorbar\":{\"outlinewidth\":0,\"ticks\":\"\"}},\"type\":\"scattergeo\"}],\"scattergl\":[{\"marker\":{\"colorbar\":{\"outlinewidth\":0,\"ticks\":\"\"}},\"type\":\"scattergl\"}],\"scattermapbox\":[{\"marker\":{\"colorbar\":{\"outlinewidth\":0,\"ticks\":\"\"}},\"type\":\"scattermapbox\"}],\"scatterpolar\":[{\"marker\":{\"colorbar\":{\"outlinewidth\":0,\"ticks\":\"\"}},\"type\":\"scatterpolar\"}],\"scatterpolargl\":[{\"marker\":{\"colorbar\":{\"outlinewidth\":0,\"ticks\":\"\"}},\"type\":\"scatterpolargl\"}],\"scatterternary\":[{\"marker\":{\"colorbar\":{\"outlinewidth\":0,\"ticks\":\"\"}},\"type\":\"scatterternary\"}],\"surface\":[{\"colorbar\":{\"outlinewidth\":0,\"ticks\":\"\"},\"colorscale\":[[0.0,\"#0d0887\"],[0.1111111111111111,\"#46039f\"],[0.2222222222222222,\"#7201a8\"],[0.3333333333333333,\"#9c179e\"],[0.4444444444444444,\"#bd3786\"],[0.5555555555555556,\"#d8576b\"],[0.6666666666666666,\"#ed7953\"],[0.7777777777777778,\"#fb9f3a\"],[0.8888888888888888,\"#fdca26\"],[1.0,\"#f0f921\"]],\"type\":\"surface\"}],\"table\":[{\"cells\":{\"fill\":{\"color\":\"#EBF0F8\"},\"line\":{\"color\":\"white\"}},\"header\":{\"fill\":{\"color\":\"#C8D4E3\"},\"line\":{\"color\":\"white\"}},\"type\":\"table\"}]},\"layout\":{\"annotationdefaults\":{\"arrowcolor\":\"#2a3f5f\",\"arrowhead\":0,\"arrowwidth\":1},\"autotypenumbers\":\"strict\",\"coloraxis\":{\"colorbar\":{\"outlinewidth\":0,\"ticks\":\"\"}},\"colorscale\":{\"diverging\":[[0,\"#8e0152\"],[0.1,\"#c51b7d\"],[0.2,\"#de77ae\"],[0.3,\"#f1b6da\"],[0.4,\"#fde0ef\"],[0.5,\"#f7f7f7\"],[0.6,\"#e6f5d0\"],[0.7,\"#b8e186\"],[0.8,\"#7fbc41\"],[0.9,\"#4d9221\"],[1,\"#276419\"]],\"sequential\":[[0.0,\"#0d0887\"],[0.1111111111111111,\"#46039f\"],[0.2222222222222222,\"#7201a8\"],[0.3333333333333333,\"#9c179e\"],[0.4444444444444444,\"#bd3786\"],[0.5555555555555556,\"#d8576b\"],[0.6666666666666666,\"#ed7953\"],[0.7777777777777778,\"#fb9f3a\"],[0.8888888888888888,\"#fdca26\"],[1.0,\"#f0f921\"]],\"sequentialminus\":[[0.0,\"#0d0887\"],[0.1111111111111111,\"#46039f\"],[0.2222222222222222,\"#7201a8\"],[0.3333333333333333,\"#9c179e\"],[0.4444444444444444,\"#bd3786\"],[0.5555555555555556,\"#d8576b\"],[0.6666666666666666,\"#ed7953\"],[0.7777777777777778,\"#fb9f3a\"],[0.8888888888888888,\"#fdca26\"],[1.0,\"#f0f921\"]]},\"colorway\":[\"#636efa\",\"#EF553B\",\"#00cc96\",\"#ab63fa\",\"#FFA15A\",\"#19d3f3\",\"#FF6692\",\"#B6E880\",\"#FF97FF\",\"#FECB52\"],\"font\":{\"color\":\"#2a3f5f\"},\"geo\":{\"bgcolor\":\"white\",\"lakecolor\":\"white\",\"landcolor\":\"#E5ECF6\",\"showlakes\":true,\"showland\":true,\"subunitcolor\":\"white\"},\"hoverlabel\":{\"align\":\"left\"},\"hovermode\":\"closest\",\"mapbox\":{\"style\":\"light\"},\"paper_bgcolor\":\"white\",\"plot_bgcolor\":\"#E5ECF6\",\"polar\":{\"angularaxis\":{\"gridcolor\":\"white\",\"linecolor\":\"white\",\"ticks\":\"\"},\"bgcolor\":\"#E5ECF6\",\"radialaxis\":{\"gridcolor\":\"white\",\"linecolor\":\"white\",\"ticks\":\"\"}},\"scene\":{\"xaxis\":{\"backgroundcolor\":\"#E5ECF6\",\"gridcolor\":\"white\",\"gridwidth\":2,\"linecolor\":\"white\",\"showbackground\":true,\"ticks\":\"\",\"zerolinecolor\":\"white\"},\"yaxis\":{\"backgroundcolor\":\"#E5ECF6\",\"gridcolor\":\"white\",\"gridwidth\":2,\"linecolor\":\"white\",\"showbackground\":true,\"ticks\":\"\",\"zerolinecolor\":\"white\"},\"zaxis\":{\"backgroundcolor\":\"#E5ECF6\",\"gridcolor\":\"white\",\"gridwidth\":2,\"linecolor\":\"white\",\"showbackground\":true,\"ticks\":\"\",\"zerolinecolor\":\"white\"}},\"shapedefaults\":{\"line\":{\"color\":\"#2a3f5f\"}},\"ternary\":{\"aaxis\":{\"gridcolor\":\"white\",\"linecolor\":\"white\",\"ticks\":\"\"},\"baxis\":{\"gridcolor\":\"white\",\"linecolor\":\"white\",\"ticks\":\"\"},\"bgcolor\":\"#E5ECF6\",\"caxis\":{\"gridcolor\":\"white\",\"linecolor\":\"white\",\"ticks\":\"\"}},\"title\":{\"x\":0.05},\"xaxis\":{\"automargin\":true,\"gridcolor\":\"white\",\"linecolor\":\"white\",\"ticks\":\"\",\"title\":{\"standoff\":15},\"zerolinecolor\":\"white\",\"zerolinewidth\":2},\"yaxis\":{\"automargin\":true,\"gridcolor\":\"white\",\"linecolor\":\"white\",\"ticks\":\"\",\"title\":{\"standoff\":15},\"zerolinecolor\":\"white\",\"zerolinewidth\":2}}},\"xaxis\":{\"anchor\":\"y\",\"domain\":[0.0,1.0],\"title\":{\"text\":\"<b>Attack & Defense</b>\"}},\"yaxis\":{\"anchor\":\"x\",\"domain\":[0.0,1.0],\"title\":{\"text\":\"<b>Type 2</b>\"}},\"plot_bgcolor\":\"rgba(0, 0, 0, 0)\",\"paper_bgcolor\":\"rgba(0, 0, 0, 0)\"},                        {\"responsive\": true}                    ).then(function(){\n",
              "                            \n",
              "var gd = document.getElementById('15706bd9-a0c8-437e-8280-1fed22e4b92d');\n",
              "var x = new MutationObserver(function (mutations, observer) {{\n",
              "        var display = window.getComputedStyle(gd).display;\n",
              "        if (!display || display === 'none') {{\n",
              "            console.log([gd, 'removed!']);\n",
              "            Plotly.purge(gd);\n",
              "            observer.disconnect();\n",
              "        }}\n",
              "}});\n",
              "\n",
              "// Listen for the removal of the full notebook cells\n",
              "var notebookContainer = gd.closest('#notebook-container');\n",
              "if (notebookContainer) {{\n",
              "    x.observe(notebookContainer, {childList: true});\n",
              "}}\n",
              "\n",
              "// Listen for the clearing of the current output cell\n",
              "var outputEl = gd.closest('.output');\n",
              "if (outputEl) {{\n",
              "    x.observe(outputEl, {childList: true});\n",
              "}}\n",
              "\n",
              "                        })                };                            </script>        </div>\n",
              "</body>\n",
              "</html>"
            ]
          },
          "metadata": {}
        }
      ],
      "source": [
        "from plotly.subplots import make_subplots#import the subplot propert of make_subplot\n",
        "import plotly.graph_objects as go#import the graph_objects and assign go variabel\n",
        "fig = make_subplots()# Create fig using make_subplots()\n",
        "fig.add_trace(go.Scatter(name = \"Attack\", y = df_hi['Type 2'],# Adding traces\n",
        "                         x = df_hi['Attack'], mode = \"markers+text\",),)\n",
        "fig.add_trace(go.Scatter(name = \"Defense\", y = df_hi['Type 2'],\n",
        "                         x = df_hi['Defense'],mode = \"markers+text\",),)\n",
        "fig.update_yaxes(title_text = \"<b>Type 2</b>\")# Setting y-axis title\n",
        "fig.update_xaxes(title_text = \"<b>Attack & Defense</b>\")# Setting x-axes title\n",
        "fig.update_layout({'plot_bgcolor': 'rgba(0, 0, 0, 0)',\n",
        "                   'paper_bgcolor': 'rgba(0, 0, 0, 0)'},)\n",
        "fig# Displaying the plot\n"
      ]
    },
    {
      "cell_type": "markdown",
      "id": "HDyFbokpAn7W",
      "metadata": {
        "id": "HDyFbokpAn7W"
      },
      "source": [
        "   **Inferences**\n",
        "\n",
        "      *scatter plot with Attack as x-axis, Defense as y-axis & Color / hue as Type 2\n",
        "      *This plot shows the relationship between the two numberical data with Type 2.\n",
        "      *We can find the how the datapoints are closley scattered."
      ]
    },
    {
      "cell_type": "markdown",
      "id": "c4d9fe5e",
      "metadata": {
        "id": "c4d9fe5e"
      },
      "source": [
        "16. Create subplots (at least 4) with different plots [lineplot, swarmplot, violinplot, barchart, etc.] of your choice. State the reasoning behind your choice."
      ]
    },
    {
      "cell_type": "code",
      "execution_count": null,
      "id": "418af97e",
      "metadata": {
        "colab": {
          "base_uri": "https://localhost:8080/",
          "height": 542
        },
        "id": "418af97e",
        "outputId": "54b23ac7-f6ce-43a1-e31e-51d268036c89"
      },
      "outputs": [
        {
          "output_type": "display_data",
          "data": {
            "text/html": [
              "<html>\n",
              "<head><meta charset=\"utf-8\" /></head>\n",
              "<body>\n",
              "    <div>            <script src=\"https://cdnjs.cloudflare.com/ajax/libs/mathjax/2.7.5/MathJax.js?config=TeX-AMS-MML_SVG\"></script><script type=\"text/javascript\">if (window.MathJax) {MathJax.Hub.Config({SVG: {font: \"STIX-Web\"}});}</script>                <script type=\"text/javascript\">window.PlotlyConfig = {MathJaxConfig: 'local'};</script>\n",
              "        <script src=\"https://cdn.plot.ly/plotly-2.8.3.min.js\"></script>                <div id=\"3e67cf14-3994-4d0e-9809-8c1744cc878b\" class=\"plotly-graph-div\" style=\"height:525px; width:100%;\"></div>            <script type=\"text/javascript\">                                    window.PLOTLYENV=window.PLOTLYENV || {};                                    if (document.getElementById(\"3e67cf14-3994-4d0e-9809-8c1744cc878b\")) {                    Plotly.newPlot(                        \"3e67cf14-3994-4d0e-9809-8c1744cc878b\",                        [{\"mode\":\"markers+text\",\"name\":\"Generation\",\"y\":[1,1,1,1,1,1,1,1,1,1,1,1,1,1,1,1,1,1,1,1,1,1,1,1,1,1,1,1,1,1,1,1,1,1,1,1,1,1,1,1,1,1,1,1,1,1,1,1,1,1,1,1,1,1,1,1,1,1,1,1,1,1,1,1,1,1,1,1,1,1,1,1,1,1,1,1,1,1,2,2,2,2,2,2,2,2,2,2,2,2,2,2,2,2,2,2,2,2,2,2,2,2,2,2,2,2,2,2,2,2,2,2,2,2,2,2,2,2,2,2,2,2,2,2,2,2,2,2,2,2,2,2,2,3,3,3,3,3,3,3,3,3,3,3,3,3,3,3,3,3,3,3,3,3,3,3,3,3,3,3,3,3,3,3,3,3,3,3,3,3,3,3,3,3,3,3,3,3,3,3,3,3,3,3,3,3,3,3,3,3,3,3,3,3,3,3,3,3,3,3,3,3,3,3,3,3,3,3,3,3,3,3,3,3,3,4,4,4,4,4,4,4,4,4,4,4,4,4,4,4,4,4,4,4,4,4,4,4,4,4,4,4,4,4,4,4,4,4,4,4,4,4,4,4,4,4,4,4,4,4,4,4,4,4,4,4,4,4,4,4,4,4,4,4,4,4,4,4,4,4,4,4,5,5,5,5,5,5,5,5,5,5,5,5,5,5,5,5,5,5,5,5,5,5,5,5,5,5,5,5,5,5,5,5,5,5,5,5,5,5,5,5,5,5,5,5,5,5,5,5,5,5,5,5,5,5,5,5,5,5,5,5,5,5,5,5,5,5,5,5,5,5,5,5,5,5,5,5,5,5,5,5,5,5,6,6,6,6,6,6,6,6,6,6,6,6,6,6,6,6,6,6,6,6,6,6,6,6,6,6,6,6,6,6,6,6,6,6,6,6,6,6,6,6,6,6,6,6,6,6,6,6,6,6],\"type\":\"scatter\",\"xaxis\":\"x\",\"yaxis\":\"y\"},{\"mode\":\"markers+text\",\"name\":\"Speed\",\"y\":[45,60,80,80,100,100,100,70,50,35,75,145,56,71,101,121,70,100,76,85,20,45,55,90,30,40,50,25,30,45,90,70,40,55,70,70,100,20,35,45,15,30,30,45,70,60,75,100,70,70,80,95,110,130,70,40,55,25,40,115,90,105,95,105,81,81,60,35,55,55,80,130,150,85,100,90,80,130,50,70,55,85,30,40,130,67,67,15,40,70,95,45,40,50,50,80,110,95,15,35,91,30,85,40,85,30,30,85,65,75,5,85,75,115,30,50,50,35,75,70,70,65,95,115,85,65,41,51,61,71,110,90,100,145,55,80,100,50,60,70,65,65,30,50,70,60,80,85,125,85,65,40,50,80,100,65,60,70,40,160,40,20,50,20,50,50,30,40,50,60,80,100,65,65,95,105,35,40,20,70,100,55,50,80,80,70,70,60,60,55,55,75,23,43,75,45,51,25,45,65,55,100,120,30,50,70,110,110,110,110,110,90,95,115,100,56,81,108,60,60,80,100,71,55,90,30,30,36,36,36,66,70,40,39,70,80,135,71,74,84,23,33,60,91,35,42,82,102,92,90,112,65,95,50,85,50,40,60,30,125,60,40,80,95,95,80,80,110,40,110,91,86,86,86,86,86,90,100,77,90,90,127,100,55,65,43,65,93,72,114,88,50,69,74,42,42,92,57,47,112,66,116,65,74,92,55,55,45,48,58,97,22,32,70,110,55,98,75,95,103,20,15,30,40,60,65,108,10,20,20,55,80,32,35,55,60,70,60,80,60,80,109,38,58,98,60,100,108,108,108,111,101,90,90,101,91,95,95,95,108,108,90,128,99,64,104,122,78,62,84,126,89,72,106,58,28,35,60,60,45,73,50,68,30,44,70,109,48,71,46,58,118,101,50,75,38,56,51,56,46,41,84,99,69,54,55,123,99,95,50,110,70,80,70],\"type\":\"scatter\",\"xaxis\":\"x2\",\"yaxis\":\"y2\"},{\"name\":\"Legendary\",\"x\":[1,1,1,1,1,1,1,1,1,1,1,1,1,1,1,1,1,1,1,1,1,1,1,1,1,1,1,1,1,1,1,1,1,1,1,1,1,1,1,1,1,1,1,1,1,1,1,1,1,1,1,1,1,1,1,1,1,1,1,1,1,1,1,1,1,1,1,1,1,1,1,1,1,1,1,1,1,1,2,2,2,2,2,2,2,2,2,2,2,2,2,2,2,2,2,2,2,2,2,2,2,2,2,2,2,2,2,2,2,2,2,2,2,2,2,2,2,2,2,2,2,2,2,2,2,2,2,2,2,2,2,2,2,3,3,3,3,3,3,3,3,3,3,3,3,3,3,3,3,3,3,3,3,3,3,3,3,3,3,3,3,3,3,3,3,3,3,3,3,3,3,3,3,3,3,3,3,3,3,3,3,3,3,3,3,3,3,3,3,3,3,3,3,3,3,3,3,3,3,3,3,3,3,3,3,3,3,3,3,3,3,3,3,3,3,4,4,4,4,4,4,4,4,4,4,4,4,4,4,4,4,4,4,4,4,4,4,4,4,4,4,4,4,4,4,4,4,4,4,4,4,4,4,4,4,4,4,4,4,4,4,4,4,4,4,4,4,4,4,4,4,4,4,4,4,4,4,4,4,4,4,4,5,5,5,5,5,5,5,5,5,5,5,5,5,5,5,5,5,5,5,5,5,5,5,5,5,5,5,5,5,5,5,5,5,5,5,5,5,5,5,5,5,5,5,5,5,5,5,5,5,5,5,5,5,5,5,5,5,5,5,5,5,5,5,5,5,5,5,5,5,5,5,5,5,5,5,5,5,5,5,5,5,5,6,6,6,6,6,6,6,6,6,6,6,6,6,6,6,6,6,6,6,6,6,6,6,6,6,6,6,6,6,6,6,6,6,6,6,6,6,6,6,6,6,6,6,6,6,6,6,6,6,6],\"y\":[false,false,false,false,false,false,false,false,false,false,false,false,false,false,false,false,false,false,false,false,false,false,false,false,false,false,false,false,false,false,false,false,false,false,false,false,false,false,false,false,false,false,false,false,false,false,false,false,false,false,false,false,false,false,false,false,false,false,false,false,false,false,false,false,false,false,false,false,false,false,false,false,false,true,true,true,false,true,false,false,false,false,false,false,false,false,false,false,false,false,false,false,false,false,false,false,false,false,false,false,false,false,false,false,false,false,false,false,false,false,false,false,false,false,false,false,false,false,false,false,false,false,false,false,false,false,false,false,false,false,true,true,false,false,false,false,false,false,false,false,false,false,false,false,false,false,false,false,false,false,false,false,false,false,false,false,false,false,false,false,false,false,false,false,false,false,false,false,false,false,false,false,false,false,false,false,false,false,false,false,false,false,false,false,false,false,false,false,false,false,false,false,false,false,false,false,false,false,false,false,false,false,false,false,false,false,false,true,true,true,true,true,true,true,true,false,false,false,false,false,false,false,false,false,false,false,false,false,false,false,false,false,false,false,false,false,false,false,false,false,false,false,false,false,false,false,false,false,false,false,false,false,false,false,false,false,false,false,false,false,false,false,false,false,false,false,false,false,false,false,false,false,false,false,false,false,true,true,true,true,true,true,true,false,false,false,false,false,false,false,false,false,false,false,false,false,false,false,false,false,false,false,false,false,false,false,false,false,false,false,false,false,false,false,false,false,false,false,false,false,false,false,false,false,false,false,false,false,false,false,false,false,false,false,false,false,false,false,false,false,false,false,false,false,false,false,false,true,true,true,true,true,true,true,true,true,true,true,true,false,false,false,false,false,false,false,false,false,false,false,false,false,false,false,false,false,false,false,false,false,false,false,false,false,false,false,false,false,false,false,false,false,false,false,false,false,false,false,false,false,false,false,false,false,false,false,false,true,true,true,true,true,true,true],\"type\":\"bar\",\"xaxis\":\"x3\",\"yaxis\":\"y3\"},{\"mode\":\"markers+text\",\"name\":\"Attack\",\"x\":[49,62,82,100,84,130,104,45,35,25,90,150,45,60,80,80,60,90,92,102,45,70,45,80,50,65,80,70,95,55,65,95,75,90,105,40,70,80,95,120,65,75,75,35,60,65,85,110,70,95,35,50,65,65,45,40,95,85,130,75,45,110,50,155,125,155,85,40,60,80,115,105,135,85,90,100,134,190,30,50,20,35,60,90,90,38,58,30,40,50,75,95,20,50,35,45,55,65,45,85,85,75,80,90,75,85,125,95,130,150,10,125,185,95,50,50,100,55,55,40,80,60,90,90,95,30,64,84,134,164,90,130,100,110,85,120,160,85,110,150,70,50,30,50,70,70,100,55,85,30,50,25,35,65,85,30,60,130,45,90,90,20,75,85,85,105,70,90,110,40,60,100,60,90,120,140,60,100,120,70,100,115,40,70,110,55,95,48,78,120,40,70,41,81,95,125,68,40,60,80,90,135,145,55,75,135,145,80,100,90,130,180,150,180,100,109,78,104,86,55,75,120,85,30,70,42,52,59,79,69,94,30,80,83,50,80,136,125,63,93,24,89,25,65,92,70,90,130,170,110,145,50,90,61,106,20,62,92,132,120,70,140,50,76,95,130,125,165,55,80,50,65,65,65,65,65,120,120,90,100,120,103,100,93,123,55,77,115,45,57,135,60,65,95,53,63,103,45,55,100,27,67,72,82,117,30,65,95,75,90,58,78,108,112,140,44,87,60,100,75,135,55,85,40,60,47,77,50,94,30,40,55,66,74,124,85,125,83,123,55,65,109,65,85,105,85,60,90,129,90,115,105,120,150,125,145,130,170,120,72,72,77,128,120,107,69,95,56,50,73,81,52,50,68,124,80,110,150,50,54,92,52,105,60,75,38,55,89,121,59,77,92,58,50,80,70,110,66,66,66,66,90,85,95,100,30,70,131,100,100,160,110,160,110],\"y\":[\"Grass\",\"Grass\",\"Grass\",\"Grass\",\"Fire\",\"Fire\",\"Fire\",\"Bug\",\"Bug\",\"Bug\",\"Bug\",\"Bug\",\"Normal\",\"Normal\",\"Normal\",\"Normal\",\"Normal\",\"Normal\",\"Poison\",\"Poison\",\"Normal\",\"Normal\",\"Poison\",\"Poison\",\"Grass\",\"Grass\",\"Grass\",\"Bug\",\"Bug\",\"Bug\",\"Bug\",\"Water\",\"Grass\",\"Grass\",\"Grass\",\"Water\",\"Water\",\"Rock\",\"Rock\",\"Rock\",\"Water\",\"Water\",\"Water\",\"Electric\",\"Electric\",\"Normal\",\"Normal\",\"Normal\",\"Water\",\"Water\",\"Ghost\",\"Ghost\",\"Ghost\",\"Ghost\",\"Rock\",\"Grass\",\"Grass\",\"Ground\",\"Ground\",\"Water\",\"Psychic\",\"Bug\",\"Ice\",\"Bug\",\"Water\",\"Water\",\"Water\",\"Rock\",\"Rock\",\"Rock\",\"Rock\",\"Rock\",\"Rock\",\"Ice\",\"Electric\",\"Fire\",\"Dragon\",\"Psychic\",\"Normal\",\"Normal\",\"Bug\",\"Bug\",\"Bug\",\"Bug\",\"Poison\",\"Water\",\"Water\",\"Normal\",\"Fairy\",\"Psychic\",\"Psychic\",\"Electric\",\"Water\",\"Water\",\"Grass\",\"Grass\",\"Grass\",\"Bug\",\"Water\",\"Water\",\"Dark\",\"Water\",\"Normal\",\"Bug\",\"Ground\",\"Steel\",\"Steel\",\"Water\",\"Bug\",\"Bug\",\"Bug\",\"Bug\",\"Bug\",\"Dark\",\"Fire\",\"Ice\",\"Ice\",\"Water\",\"Ice\",\"Water\",\"Steel\",\"Dark\",\"Dark\",\"Dark\",\"Water\",\"Ice\",\"Rock\",\"Rock\",\"Rock\",\"Rock\",\"Psychic\",\"Fire\",\"Psychic\",\"Grass\",\"Fire\",\"Fire\",\"Fire\",\"Water\",\"Water\",\"Water\",\"Bug\",\"Bug\",\"Water\",\"Water\",\"Water\",\"Grass\",\"Grass\",\"Normal\",\"Normal\",\"Water\",\"Water\",\"Psychic\",\"Psychic\",\"Psychic\",\"Psychic\",\"Bug\",\"Bug\",\"Grass\",\"Bug\",\"Bug\",\"Bug\",\"Normal\",\"Dark\",\"Dark\",\"Steel\",\"Steel\",\"Steel\",\"Steel\",\"Steel\",\"Fighting\",\"Fighting\",\"Fighting\",\"Grass\",\"Water\",\"Water\",\"Water\",\"Fire\",\"Fire\",\"Fire\",\"Ground\",\"Ground\",\"Grass\",\"Normal\",\"Dragon\",\"Dragon\",\"Rock\",\"Rock\",\"Water\",\"Water\",\"Water\",\"Ground\",\"Ground\",\"Rock\",\"Rock\",\"Rock\",\"Rock\",\"Grass\",\"Ice\",\"Ice\",\"Ice\",\"Water\",\"Dragon\",\"Dragon\",\"Steel\",\"Steel\",\"Steel\",\"Steel\",\"Dragon\",\"Dragon\",\"Dragon\",\"Dragon\",\"Ground\",\"Dragon\",\"Dragon\",\"Steel\",\"Grass\",\"Fire\",\"Fire\",\"Water\",\"Normal\",\"Normal\",\"Normal\",\"Normal\",\"Grass\",\"Grass\",\"Rock\",\"Rock\",\"Bug\",\"Bug\",\"Bug\",\"Bug\",\"Bug\",\"Bug\",\"Water\",\"Ghost\",\"Ghost\",\"Normal\",\"Dark\",\"Poison\",\"Poison\",\"Steel\",\"Steel\",\"Psychic\",\"Normal\",\"Ghost\",\"Dragon\",\"Dragon\",\"Dragon\",\"Dragon\",\"Fighting\",\"Fighting\",\"Poison\",\"Poison\",\"Poison\",\"Poison\",\"Water\",\"Grass\",\"Grass\",\"Grass\",\"Dark\",\"Electric\",\"Ground\",\"Fairy\",\"Bug\",\"Ground\",\"Ice\",\"Psychic\",\"Psychic\",\"Rock\",\"Ice\",\"Electric\",\"Electric\",\"Electric\",\"Electric\",\"Electric\",\"Electric\",\"Steel\",\"Water\",\"Fire\",\"Ghost\",\"Ghost\",\"Grass\",\"Psychic\",\"Fire\",\"Fire\",\"Normal\",\"Normal\",\"Normal\",\"Psychic\",\"Psychic\",\"Ground\",\"Normal\",\"Water\",\"Water\",\"Bug\",\"Bug\",\"Bug\",\"Bug\",\"Bug\",\"Bug\",\"Grass\",\"Grass\",\"Ground\",\"Ground\",\"Ground\",\"Fire\",\"Bug\",\"Bug\",\"Dark\",\"Dark\",\"Psychic\",\"Water\",\"Water\",\"Rock\",\"Rock\",\"Water\",\"Water\",\"Normal\",\"Normal\",\"Electric\",\"Bug\",\"Grass\",\"Grass\",\"Water\",\"Water\",\"Bug\",\"Bug\",\"Grass\",\"Grass\",\"Ghost\",\"Ghost\",\"Ghost\",\"Ground\",\"Ground\",\"Ground\",\"Dark\",\"Dark\",\"Normal\",\"Normal\",\"Dark\",\"Dark\",\"Bug\",\"Dark\",\"Dark\",\"Dark\",\"Bug\",\"Bug\",\"Steel\",\"Rock\",\"Grass\",\"Electric\",\"Electric\",\"Dragon\",\"Dragon\",\"Ground\",\"Ground\",\"Dragon\",\"Dragon\",\"Dragon\",\"Water\",\"Water\",\"Normal\",\"Normal\",\"Bug\",\"Grass\",\"Fire\",\"Water\",\"Normal\",\"Normal\",\"Fire\",\"Fire\",\"Bug\",\"Fire\",\"Fire\",\"Fighting\",\"Steel\",\"Steel\",\"Steel\",\"Steel\",\"Dark\",\"Dark\",\"Rock\",\"Rock\",\"Poison\",\"Poison\",\"Electric\",\"Electric\",\"Rock\",\"Rock\",\"Rock\",\"Rock\",\"Fighting\",\"Electric\",\"Rock\",\"Steel\",\"Ghost\",\"Ghost\",\"Ghost\",\"Ghost\",\"Ghost\",\"Ghost\",\"Ghost\",\"Ghost\",\"Ghost\",\"Ghost\",\"Flying\",\"Flying\",\"Dark\",\"Dragon\",\"Rock\",\"Rock\",\"Psychic\",\"Psychic\",\"Fire\"],\"type\":\"scatter\",\"xaxis\":\"x4\",\"yaxis\":\"y4\"},{\"line\":{\"color\":\"olive\"},\"name\":\"Type 1\",\"x\":[\"Grass\",\"Grass\",\"Grass\",\"Grass\",\"Fire\",\"Fire\",\"Fire\",\"Bug\",\"Bug\",\"Bug\",\"Bug\",\"Bug\",\"Normal\",\"Normal\",\"Normal\",\"Normal\",\"Normal\",\"Normal\",\"Poison\",\"Poison\",\"Normal\",\"Normal\",\"Poison\",\"Poison\",\"Grass\",\"Grass\",\"Grass\",\"Bug\",\"Bug\",\"Bug\",\"Bug\",\"Water\",\"Grass\",\"Grass\",\"Grass\",\"Water\",\"Water\",\"Rock\",\"Rock\",\"Rock\",\"Water\",\"Water\",\"Water\",\"Electric\",\"Electric\",\"Normal\",\"Normal\",\"Normal\",\"Water\",\"Water\",\"Ghost\",\"Ghost\",\"Ghost\",\"Ghost\",\"Rock\",\"Grass\",\"Grass\",\"Ground\",\"Ground\",\"Water\",\"Psychic\",\"Bug\",\"Ice\",\"Bug\",\"Water\",\"Water\",\"Water\",\"Rock\",\"Rock\",\"Rock\",\"Rock\",\"Rock\",\"Rock\",\"Ice\",\"Electric\",\"Fire\",\"Dragon\",\"Psychic\",\"Normal\",\"Normal\",\"Bug\",\"Bug\",\"Bug\",\"Bug\",\"Poison\",\"Water\",\"Water\",\"Normal\",\"Fairy\",\"Psychic\",\"Psychic\",\"Electric\",\"Water\",\"Water\",\"Grass\",\"Grass\",\"Grass\",\"Bug\",\"Water\",\"Water\",\"Dark\",\"Water\",\"Normal\",\"Bug\",\"Ground\",\"Steel\",\"Steel\",\"Water\",\"Bug\",\"Bug\",\"Bug\",\"Bug\",\"Bug\",\"Dark\",\"Fire\",\"Ice\",\"Ice\",\"Water\",\"Ice\",\"Water\",\"Steel\",\"Dark\",\"Dark\",\"Dark\",\"Water\",\"Ice\",\"Rock\",\"Rock\",\"Rock\",\"Rock\",\"Psychic\",\"Fire\",\"Psychic\",\"Grass\",\"Fire\",\"Fire\",\"Fire\",\"Water\",\"Water\",\"Water\",\"Bug\",\"Bug\",\"Water\",\"Water\",\"Water\",\"Grass\",\"Grass\",\"Normal\",\"Normal\",\"Water\",\"Water\",\"Psychic\",\"Psychic\",\"Psychic\",\"Psychic\",\"Bug\",\"Bug\",\"Grass\",\"Bug\",\"Bug\",\"Bug\",\"Normal\",\"Dark\",\"Dark\",\"Steel\",\"Steel\",\"Steel\",\"Steel\",\"Steel\",\"Fighting\",\"Fighting\",\"Fighting\",\"Grass\",\"Water\",\"Water\",\"Water\",\"Fire\",\"Fire\",\"Fire\",\"Ground\",\"Ground\",\"Grass\",\"Normal\",\"Dragon\",\"Dragon\",\"Rock\",\"Rock\",\"Water\",\"Water\",\"Water\",\"Ground\",\"Ground\",\"Rock\",\"Rock\",\"Rock\",\"Rock\",\"Grass\",\"Ice\",\"Ice\",\"Ice\",\"Water\",\"Dragon\",\"Dragon\",\"Steel\",\"Steel\",\"Steel\",\"Steel\",\"Dragon\",\"Dragon\",\"Dragon\",\"Dragon\",\"Ground\",\"Dragon\",\"Dragon\",\"Steel\",\"Grass\",\"Fire\",\"Fire\",\"Water\",\"Normal\",\"Normal\",\"Normal\",\"Normal\",\"Grass\",\"Grass\",\"Rock\",\"Rock\",\"Bug\",\"Bug\",\"Bug\",\"Bug\",\"Bug\",\"Bug\",\"Water\",\"Ghost\",\"Ghost\",\"Normal\",\"Dark\",\"Poison\",\"Poison\",\"Steel\",\"Steel\",\"Psychic\",\"Normal\",\"Ghost\",\"Dragon\",\"Dragon\",\"Dragon\",\"Dragon\",\"Fighting\",\"Fighting\",\"Poison\",\"Poison\",\"Poison\",\"Poison\",\"Water\",\"Grass\",\"Grass\",\"Grass\",\"Dark\",\"Electric\",\"Ground\",\"Fairy\",\"Bug\",\"Ground\",\"Ice\",\"Psychic\",\"Psychic\",\"Rock\",\"Ice\",\"Electric\",\"Electric\",\"Electric\",\"Electric\",\"Electric\",\"Electric\",\"Steel\",\"Water\",\"Fire\",\"Ghost\",\"Ghost\",\"Grass\",\"Psychic\",\"Fire\",\"Fire\",\"Normal\",\"Normal\",\"Normal\",\"Psychic\",\"Psychic\",\"Ground\",\"Normal\",\"Water\",\"Water\",\"Bug\",\"Bug\",\"Bug\",\"Bug\",\"Bug\",\"Bug\",\"Grass\",\"Grass\",\"Ground\",\"Ground\",\"Ground\",\"Fire\",\"Bug\",\"Bug\",\"Dark\",\"Dark\",\"Psychic\",\"Water\",\"Water\",\"Rock\",\"Rock\",\"Water\",\"Water\",\"Normal\",\"Normal\",\"Electric\",\"Bug\",\"Grass\",\"Grass\",\"Water\",\"Water\",\"Bug\",\"Bug\",\"Grass\",\"Grass\",\"Ghost\",\"Ghost\",\"Ghost\",\"Ground\",\"Ground\",\"Ground\",\"Dark\",\"Dark\",\"Normal\",\"Normal\",\"Dark\",\"Dark\",\"Bug\",\"Dark\",\"Dark\",\"Dark\",\"Bug\",\"Bug\",\"Steel\",\"Rock\",\"Grass\",\"Electric\",\"Electric\",\"Dragon\",\"Dragon\",\"Ground\",\"Ground\",\"Dragon\",\"Dragon\",\"Dragon\",\"Water\",\"Water\",\"Normal\",\"Normal\",\"Bug\",\"Grass\",\"Fire\",\"Water\",\"Normal\",\"Normal\",\"Fire\",\"Fire\",\"Bug\",\"Fire\",\"Fire\",\"Fighting\",\"Steel\",\"Steel\",\"Steel\",\"Steel\",\"Dark\",\"Dark\",\"Rock\",\"Rock\",\"Poison\",\"Poison\",\"Electric\",\"Electric\",\"Rock\",\"Rock\",\"Rock\",\"Rock\",\"Fighting\",\"Electric\",\"Rock\",\"Steel\",\"Ghost\",\"Ghost\",\"Ghost\",\"Ghost\",\"Ghost\",\"Ghost\",\"Ghost\",\"Ghost\",\"Ghost\",\"Ghost\",\"Flying\",\"Flying\",\"Dark\",\"Dragon\",\"Rock\",\"Rock\",\"Psychic\",\"Psychic\",\"Fire\"],\"type\":\"violin\",\"xaxis\":\"x5\",\"yaxis\":\"y5\"},{\"line\":{\"color\":\"lightpink\"},\"name\":\"Type 2\",\"x\":[\"Poison\",\"Poison\",\"Poison\",\"Poison\",\"Flying\",\"Dragon\",\"Flying\",\"Flying\",\"Poison\",\"Poison\",\"Poison\",\"Poison\",\"Flying\",\"Flying\",\"Flying\",\"Flying\",\"Flying\",\"Flying\",\"Ground\",\"Ground\",\"Fairy\",\"Fairy\",\"Flying\",\"Flying\",\"Poison\",\"Poison\",\"Poison\",\"Grass\",\"Grass\",\"Poison\",\"Poison\",\"Fighting\",\"Poison\",\"Poison\",\"Poison\",\"Poison\",\"Poison\",\"Ground\",\"Ground\",\"Ground\",\"Psychic\",\"Psychic\",\"Psychic\",\"Steel\",\"Steel\",\"Flying\",\"Flying\",\"Flying\",\"Ice\",\"Ice\",\"Poison\",\"Poison\",\"Poison\",\"Poison\",\"Ground\",\"Psychic\",\"Psychic\",\"Rock\",\"Rock\",\"Psychic\",\"Fairy\",\"Flying\",\"Psychic\",\"Flying\",\"Flying\",\"Dark\",\"Ice\",\"Water\",\"Water\",\"Water\",\"Water\",\"Flying\",\"Flying\",\"Flying\",\"Flying\",\"Flying\",\"Flying\",\"Fighting\",\"Flying\",\"Flying\",\"Flying\",\"Flying\",\"Poison\",\"Poison\",\"Flying\",\"Electric\",\"Electric\",\"Fairy\",\"Flying\",\"Flying\",\"Flying\",\"Dragon\",\"Fairy\",\"Fairy\",\"Flying\",\"Flying\",\"Flying\",\"Flying\",\"Ground\",\"Ground\",\"Flying\",\"Psychic\",\"Psychic\",\"Steel\",\"Flying\",\"Ground\",\"Ground\",\"Poison\",\"Steel\",\"Steel\",\"Rock\",\"Fighting\",\"Fighting\",\"Ice\",\"Rock\",\"Ground\",\"Ground\",\"Rock\",\"Flying\",\"Flying\",\"Flying\",\"Fire\",\"Fire\",\"Fire\",\"Dragon\",\"Psychic\",\"Ground\",\"Ground\",\"Dark\",\"Dark\",\"Flying\",\"Flying\",\"Grass\",\"Dragon\",\"Fighting\",\"Fighting\",\"Fighting\",\"Ground\",\"Ground\",\"Ground\",\"Flying\",\"Poison\",\"Grass\",\"Grass\",\"Grass\",\"Dark\",\"Dark\",\"Flying\",\"Flying\",\"Flying\",\"Flying\",\"Fairy\",\"Fairy\",\"Fairy\",\"Fairy\",\"Water\",\"Flying\",\"Fighting\",\"Ground\",\"Flying\",\"Ghost\",\"Fairy\",\"Ghost\",\"Ghost\",\"Fairy\",\"Fairy\",\"Rock\",\"Rock\",\"Rock\",\"Psychic\",\"Psychic\",\"Psychic\",\"Poison\",\"Dark\",\"Dark\",\"Dark\",\"Ground\",\"Ground\",\"Ground\",\"Dragon\",\"Dragon\",\"Dark\",\"Flying\",\"Flying\",\"Fairy\",\"Psychic\",\"Psychic\",\"Ground\",\"Ground\",\"Dark\",\"Psychic\",\"Psychic\",\"Grass\",\"Grass\",\"Bug\",\"Bug\",\"Flying\",\"Water\",\"Water\",\"Water\",\"Rock\",\"Flying\",\"Flying\",\"Psychic\",\"Psychic\",\"Psychic\",\"Psychic\",\"Psychic\",\"Psychic\",\"Psychic\",\"Psychic\",\"Fire\",\"Flying\",\"Flying\",\"Psychic\",\"Ground\",\"Fighting\",\"Fighting\",\"Steel\",\"Flying\",\"Flying\",\"Flying\",\"Water\",\"Poison\",\"Poison\",\"Steel\",\"Steel\",\"Grass\",\"Ground\",\"Steel\",\"Flying\",\"Flying\",\"Flying\",\"Ground\",\"Flying\",\"Flying\",\"Fighting\",\"Flying\",\"Dark\",\"Dark\",\"Psychic\",\"Psychic\",\"Fairy\",\"Flying\",\"Dark\",\"Ground\",\"Ground\",\"Ground\",\"Ground\",\"Steel\",\"Steel\",\"Bug\",\"Dark\",\"Fighting\",\"Fighting\",\"Flying\",\"Ice\",\"Ice\",\"Ice\",\"Ice\",\"Steel\",\"Rock\",\"Flying\",\"Flying\",\"Flying\",\"Ground\",\"Fighting\",\"Fighting\",\"Steel\",\"Ghost\",\"Ghost\",\"Fire\",\"Water\",\"Ice\",\"Flying\",\"Grass\",\"Dragon\",\"Dragon\",\"Steel\",\"Dragon\",\"Dragon\",\"Flying\",\"Fire\",\"Fighting\",\"Fighting\",\"Flying\",\"Flying\",\"Flying\",\"Flying\",\"Flying\",\"Steel\",\"Fairy\",\"Ground\",\"Ground\",\"Grass\",\"Grass\",\"Grass\",\"Poison\",\"Poison\",\"Poison\",\"Fairy\",\"Fairy\",\"Dark\",\"Dark\",\"Dark\",\"Psychic\",\"Rock\",\"Rock\",\"Fighting\",\"Fighting\",\"Flying\",\"Rock\",\"Rock\",\"Flying\",\"Flying\",\"Flying\",\"Flying\",\"Grass\",\"Grass\",\"Flying\",\"Steel\",\"Poison\",\"Poison\",\"Ghost\",\"Ghost\",\"Electric\",\"Electric\",\"Steel\",\"Steel\",\"Fire\",\"Fire\",\"Fire\",\"Electric\",\"Ghost\",\"Ghost\",\"Steel\",\"Steel\",\"Flying\",\"Flying\",\"Flying\",\"Flying\",\"Steel\",\"Dragon\",\"Dragon\",\"Dragon\",\"Fire\",\"Fire\",\"Fighting\",\"Fighting\",\"Fighting\",\"Flying\",\"Flying\",\"Fire\",\"Electric\",\"Flying\",\"Flying\",\"Ice\",\"Ice\",\"Ice\",\"Fighting\",\"Fighting\",\"Psychic\",\"Fighting\",\"Steel\",\"Fighting\",\"Psychic\",\"Dark\",\"Ground\",\"Flying\",\"Flying\",\"Flying\",\"Flying\",\"Normal\",\"Normal\",\"Dark\",\"Ghost\",\"Ghost\",\"Ghost\",\"Ghost\",\"Psychic\",\"Psychic\",\"Water\",\"Water\",\"Water\",\"Dragon\",\"Normal\",\"Normal\",\"Dragon\",\"Dragon\",\"Ice\",\"Ice\",\"Flying\",\"Fairy\",\"Fairy\",\"Fairy\",\"Grass\",\"Grass\",\"Grass\",\"Grass\",\"Grass\",\"Grass\",\"Grass\",\"Grass\",\"Grass\",\"Grass\",\"Dragon\",\"Dragon\",\"Flying\",\"Ground\",\"Fairy\",\"Fairy\",\"Ghost\",\"Dark\",\"Water\"],\"type\":\"violin\",\"xaxis\":\"x6\",\"yaxis\":\"y6\"}],                        {\"template\":{\"data\":{\"bar\":[{\"error_x\":{\"color\":\"#2a3f5f\"},\"error_y\":{\"color\":\"#2a3f5f\"},\"marker\":{\"line\":{\"color\":\"#E5ECF6\",\"width\":0.5},\"pattern\":{\"fillmode\":\"overlay\",\"size\":10,\"solidity\":0.2}},\"type\":\"bar\"}],\"barpolar\":[{\"marker\":{\"line\":{\"color\":\"#E5ECF6\",\"width\":0.5},\"pattern\":{\"fillmode\":\"overlay\",\"size\":10,\"solidity\":0.2}},\"type\":\"barpolar\"}],\"carpet\":[{\"aaxis\":{\"endlinecolor\":\"#2a3f5f\",\"gridcolor\":\"white\",\"linecolor\":\"white\",\"minorgridcolor\":\"white\",\"startlinecolor\":\"#2a3f5f\"},\"baxis\":{\"endlinecolor\":\"#2a3f5f\",\"gridcolor\":\"white\",\"linecolor\":\"white\",\"minorgridcolor\":\"white\",\"startlinecolor\":\"#2a3f5f\"},\"type\":\"carpet\"}],\"choropleth\":[{\"colorbar\":{\"outlinewidth\":0,\"ticks\":\"\"},\"type\":\"choropleth\"}],\"contour\":[{\"colorbar\":{\"outlinewidth\":0,\"ticks\":\"\"},\"colorscale\":[[0.0,\"#0d0887\"],[0.1111111111111111,\"#46039f\"],[0.2222222222222222,\"#7201a8\"],[0.3333333333333333,\"#9c179e\"],[0.4444444444444444,\"#bd3786\"],[0.5555555555555556,\"#d8576b\"],[0.6666666666666666,\"#ed7953\"],[0.7777777777777778,\"#fb9f3a\"],[0.8888888888888888,\"#fdca26\"],[1.0,\"#f0f921\"]],\"type\":\"contour\"}],\"contourcarpet\":[{\"colorbar\":{\"outlinewidth\":0,\"ticks\":\"\"},\"type\":\"contourcarpet\"}],\"heatmap\":[{\"colorbar\":{\"outlinewidth\":0,\"ticks\":\"\"},\"colorscale\":[[0.0,\"#0d0887\"],[0.1111111111111111,\"#46039f\"],[0.2222222222222222,\"#7201a8\"],[0.3333333333333333,\"#9c179e\"],[0.4444444444444444,\"#bd3786\"],[0.5555555555555556,\"#d8576b\"],[0.6666666666666666,\"#ed7953\"],[0.7777777777777778,\"#fb9f3a\"],[0.8888888888888888,\"#fdca26\"],[1.0,\"#f0f921\"]],\"type\":\"heatmap\"}],\"heatmapgl\":[{\"colorbar\":{\"outlinewidth\":0,\"ticks\":\"\"},\"colorscale\":[[0.0,\"#0d0887\"],[0.1111111111111111,\"#46039f\"],[0.2222222222222222,\"#7201a8\"],[0.3333333333333333,\"#9c179e\"],[0.4444444444444444,\"#bd3786\"],[0.5555555555555556,\"#d8576b\"],[0.6666666666666666,\"#ed7953\"],[0.7777777777777778,\"#fb9f3a\"],[0.8888888888888888,\"#fdca26\"],[1.0,\"#f0f921\"]],\"type\":\"heatmapgl\"}],\"histogram\":[{\"marker\":{\"pattern\":{\"fillmode\":\"overlay\",\"size\":10,\"solidity\":0.2}},\"type\":\"histogram\"}],\"histogram2d\":[{\"colorbar\":{\"outlinewidth\":0,\"ticks\":\"\"},\"colorscale\":[[0.0,\"#0d0887\"],[0.1111111111111111,\"#46039f\"],[0.2222222222222222,\"#7201a8\"],[0.3333333333333333,\"#9c179e\"],[0.4444444444444444,\"#bd3786\"],[0.5555555555555556,\"#d8576b\"],[0.6666666666666666,\"#ed7953\"],[0.7777777777777778,\"#fb9f3a\"],[0.8888888888888888,\"#fdca26\"],[1.0,\"#f0f921\"]],\"type\":\"histogram2d\"}],\"histogram2dcontour\":[{\"colorbar\":{\"outlinewidth\":0,\"ticks\":\"\"},\"colorscale\":[[0.0,\"#0d0887\"],[0.1111111111111111,\"#46039f\"],[0.2222222222222222,\"#7201a8\"],[0.3333333333333333,\"#9c179e\"],[0.4444444444444444,\"#bd3786\"],[0.5555555555555556,\"#d8576b\"],[0.6666666666666666,\"#ed7953\"],[0.7777777777777778,\"#fb9f3a\"],[0.8888888888888888,\"#fdca26\"],[1.0,\"#f0f921\"]],\"type\":\"histogram2dcontour\"}],\"mesh3d\":[{\"colorbar\":{\"outlinewidth\":0,\"ticks\":\"\"},\"type\":\"mesh3d\"}],\"parcoords\":[{\"line\":{\"colorbar\":{\"outlinewidth\":0,\"ticks\":\"\"}},\"type\":\"parcoords\"}],\"pie\":[{\"automargin\":true,\"type\":\"pie\"}],\"scatter\":[{\"marker\":{\"colorbar\":{\"outlinewidth\":0,\"ticks\":\"\"}},\"type\":\"scatter\"}],\"scatter3d\":[{\"line\":{\"colorbar\":{\"outlinewidth\":0,\"ticks\":\"\"}},\"marker\":{\"colorbar\":{\"outlinewidth\":0,\"ticks\":\"\"}},\"type\":\"scatter3d\"}],\"scattercarpet\":[{\"marker\":{\"colorbar\":{\"outlinewidth\":0,\"ticks\":\"\"}},\"type\":\"scattercarpet\"}],\"scattergeo\":[{\"marker\":{\"colorbar\":{\"outlinewidth\":0,\"ticks\":\"\"}},\"type\":\"scattergeo\"}],\"scattergl\":[{\"marker\":{\"colorbar\":{\"outlinewidth\":0,\"ticks\":\"\"}},\"type\":\"scattergl\"}],\"scattermapbox\":[{\"marker\":{\"colorbar\":{\"outlinewidth\":0,\"ticks\":\"\"}},\"type\":\"scattermapbox\"}],\"scatterpolar\":[{\"marker\":{\"colorbar\":{\"outlinewidth\":0,\"ticks\":\"\"}},\"type\":\"scatterpolar\"}],\"scatterpolargl\":[{\"marker\":{\"colorbar\":{\"outlinewidth\":0,\"ticks\":\"\"}},\"type\":\"scatterpolargl\"}],\"scatterternary\":[{\"marker\":{\"colorbar\":{\"outlinewidth\":0,\"ticks\":\"\"}},\"type\":\"scatterternary\"}],\"surface\":[{\"colorbar\":{\"outlinewidth\":0,\"ticks\":\"\"},\"colorscale\":[[0.0,\"#0d0887\"],[0.1111111111111111,\"#46039f\"],[0.2222222222222222,\"#7201a8\"],[0.3333333333333333,\"#9c179e\"],[0.4444444444444444,\"#bd3786\"],[0.5555555555555556,\"#d8576b\"],[0.6666666666666666,\"#ed7953\"],[0.7777777777777778,\"#fb9f3a\"],[0.8888888888888888,\"#fdca26\"],[1.0,\"#f0f921\"]],\"type\":\"surface\"}],\"table\":[{\"cells\":{\"fill\":{\"color\":\"#EBF0F8\"},\"line\":{\"color\":\"white\"}},\"header\":{\"fill\":{\"color\":\"#C8D4E3\"},\"line\":{\"color\":\"white\"}},\"type\":\"table\"}]},\"layout\":{\"annotationdefaults\":{\"arrowcolor\":\"#2a3f5f\",\"arrowhead\":0,\"arrowwidth\":1},\"autotypenumbers\":\"strict\",\"coloraxis\":{\"colorbar\":{\"outlinewidth\":0,\"ticks\":\"\"}},\"colorscale\":{\"diverging\":[[0,\"#8e0152\"],[0.1,\"#c51b7d\"],[0.2,\"#de77ae\"],[0.3,\"#f1b6da\"],[0.4,\"#fde0ef\"],[0.5,\"#f7f7f7\"],[0.6,\"#e6f5d0\"],[0.7,\"#b8e186\"],[0.8,\"#7fbc41\"],[0.9,\"#4d9221\"],[1,\"#276419\"]],\"sequential\":[[0.0,\"#0d0887\"],[0.1111111111111111,\"#46039f\"],[0.2222222222222222,\"#7201a8\"],[0.3333333333333333,\"#9c179e\"],[0.4444444444444444,\"#bd3786\"],[0.5555555555555556,\"#d8576b\"],[0.6666666666666666,\"#ed7953\"],[0.7777777777777778,\"#fb9f3a\"],[0.8888888888888888,\"#fdca26\"],[1.0,\"#f0f921\"]],\"sequentialminus\":[[0.0,\"#0d0887\"],[0.1111111111111111,\"#46039f\"],[0.2222222222222222,\"#7201a8\"],[0.3333333333333333,\"#9c179e\"],[0.4444444444444444,\"#bd3786\"],[0.5555555555555556,\"#d8576b\"],[0.6666666666666666,\"#ed7953\"],[0.7777777777777778,\"#fb9f3a\"],[0.8888888888888888,\"#fdca26\"],[1.0,\"#f0f921\"]]},\"colorway\":[\"#636efa\",\"#EF553B\",\"#00cc96\",\"#ab63fa\",\"#FFA15A\",\"#19d3f3\",\"#FF6692\",\"#B6E880\",\"#FF97FF\",\"#FECB52\"],\"font\":{\"color\":\"#2a3f5f\"},\"geo\":{\"bgcolor\":\"white\",\"lakecolor\":\"white\",\"landcolor\":\"#E5ECF6\",\"showlakes\":true,\"showland\":true,\"subunitcolor\":\"white\"},\"hoverlabel\":{\"align\":\"left\"},\"hovermode\":\"closest\",\"mapbox\":{\"style\":\"light\"},\"paper_bgcolor\":\"white\",\"plot_bgcolor\":\"#E5ECF6\",\"polar\":{\"angularaxis\":{\"gridcolor\":\"white\",\"linecolor\":\"white\",\"ticks\":\"\"},\"bgcolor\":\"#E5ECF6\",\"radialaxis\":{\"gridcolor\":\"white\",\"linecolor\":\"white\",\"ticks\":\"\"}},\"scene\":{\"xaxis\":{\"backgroundcolor\":\"#E5ECF6\",\"gridcolor\":\"white\",\"gridwidth\":2,\"linecolor\":\"white\",\"showbackground\":true,\"ticks\":\"\",\"zerolinecolor\":\"white\"},\"yaxis\":{\"backgroundcolor\":\"#E5ECF6\",\"gridcolor\":\"white\",\"gridwidth\":2,\"linecolor\":\"white\",\"showbackground\":true,\"ticks\":\"\",\"zerolinecolor\":\"white\"},\"zaxis\":{\"backgroundcolor\":\"#E5ECF6\",\"gridcolor\":\"white\",\"gridwidth\":2,\"linecolor\":\"white\",\"showbackground\":true,\"ticks\":\"\",\"zerolinecolor\":\"white\"}},\"shapedefaults\":{\"line\":{\"color\":\"#2a3f5f\"}},\"ternary\":{\"aaxis\":{\"gridcolor\":\"white\",\"linecolor\":\"white\",\"ticks\":\"\"},\"baxis\":{\"gridcolor\":\"white\",\"linecolor\":\"white\",\"ticks\":\"\"},\"bgcolor\":\"#E5ECF6\",\"caxis\":{\"gridcolor\":\"white\",\"linecolor\":\"white\",\"ticks\":\"\"}},\"title\":{\"x\":0.05},\"xaxis\":{\"automargin\":true,\"gridcolor\":\"white\",\"linecolor\":\"white\",\"ticks\":\"\",\"title\":{\"standoff\":15},\"zerolinecolor\":\"white\",\"zerolinewidth\":2},\"yaxis\":{\"automargin\":true,\"gridcolor\":\"white\",\"linecolor\":\"white\",\"ticks\":\"\",\"title\":{\"standoff\":15},\"zerolinecolor\":\"white\",\"zerolinewidth\":2}}},\"xaxis\":{\"anchor\":\"y\",\"domain\":[0.0,0.45]},\"yaxis\":{\"anchor\":\"x\",\"domain\":[0.7777777777777778,1.0]},\"xaxis2\":{\"anchor\":\"y2\",\"domain\":[0.55,1.0]},\"yaxis2\":{\"anchor\":\"x2\",\"domain\":[0.7777777777777778,1.0]},\"xaxis3\":{\"anchor\":\"y3\",\"domain\":[0.0,0.45]},\"yaxis3\":{\"anchor\":\"x3\",\"domain\":[0.3888888888888889,0.6111111111111112]},\"xaxis4\":{\"anchor\":\"y4\",\"domain\":[0.55,1.0]},\"yaxis4\":{\"anchor\":\"x4\",\"domain\":[0.3888888888888889,0.6111111111111112]},\"xaxis5\":{\"anchor\":\"y5\",\"domain\":[0.0,0.45]},\"yaxis5\":{\"anchor\":\"x5\",\"domain\":[0.0,0.22222222222222224]},\"xaxis6\":{\"anchor\":\"y6\",\"domain\":[0.55,1.0]},\"yaxis6\":{\"anchor\":\"x6\",\"domain\":[0.0,0.22222222222222224]},\"annotations\":[{\"font\":{\"size\":16},\"showarrow\":false,\"text\":\"<b>Generation</b>\",\"x\":0.225,\"xanchor\":\"center\",\"xref\":\"paper\",\"y\":1.0,\"yanchor\":\"bottom\",\"yref\":\"paper\"},{\"font\":{\"size\":16},\"showarrow\":false,\"text\":\"<b>Speed</b>\",\"x\":0.775,\"xanchor\":\"center\",\"xref\":\"paper\",\"y\":1.0,\"yanchor\":\"bottom\",\"yref\":\"paper\"},{\"font\":{\"size\":16},\"showarrow\":false,\"text\":\"<b>Legendary</b>\",\"x\":0.225,\"xanchor\":\"center\",\"xref\":\"paper\",\"y\":0.6111111111111112,\"yanchor\":\"bottom\",\"yref\":\"paper\"},{\"font\":{\"size\":16},\"showarrow\":false,\"text\":\"<b>Attack</b>\",\"x\":0.775,\"xanchor\":\"center\",\"xref\":\"paper\",\"y\":0.6111111111111112,\"yanchor\":\"bottom\",\"yref\":\"paper\"},{\"font\":{\"size\":16},\"showarrow\":false,\"text\":\"<b>Type 1</b>\",\"x\":0.225,\"xanchor\":\"center\",\"xref\":\"paper\",\"y\":0.22222222222222224,\"yanchor\":\"bottom\",\"yref\":\"paper\"},{\"font\":{\"size\":16},\"showarrow\":false,\"text\":\"<b>Type 2</b>\",\"x\":0.775,\"xanchor\":\"center\",\"xref\":\"paper\",\"y\":0.22222222222222224,\"yanchor\":\"bottom\",\"yref\":\"paper\"}],\"plot_bgcolor\":\"rgba(0, 0, 0, 0)\",\"paper_bgcolor\":\"rgba(0, 0, 0, 0)\"},                        {\"responsive\": true}                    ).then(function(){\n",
              "                            \n",
              "var gd = document.getElementById('3e67cf14-3994-4d0e-9809-8c1744cc878b');\n",
              "var x = new MutationObserver(function (mutations, observer) {{\n",
              "        var display = window.getComputedStyle(gd).display;\n",
              "        if (!display || display === 'none') {{\n",
              "            console.log([gd, 'removed!']);\n",
              "            Plotly.purge(gd);\n",
              "            observer.disconnect();\n",
              "        }}\n",
              "}});\n",
              "\n",
              "// Listen for the removal of the full notebook cells\n",
              "var notebookContainer = gd.closest('#notebook-container');\n",
              "if (notebookContainer) {{\n",
              "    x.observe(notebookContainer, {childList: true});\n",
              "}}\n",
              "\n",
              "// Listen for the clearing of the current output cell\n",
              "var outputEl = gd.closest('.output');\n",
              "if (outputEl) {{\n",
              "    x.observe(outputEl, {childList: true});\n",
              "}}\n",
              "\n",
              "                        })                };                            </script>        </div>\n",
              "</body>\n",
              "</html>"
            ]
          },
          "metadata": {}
        }
      ],
      "source": [
        "hi = make_subplots(rows = 3, cols = 2, specs = [[{'type': 'xy'}, {'type': 'xy'}],\n",
        "                                                 [{'type': 'xy'}, {'type': 'xy'}],\n",
        "                                                 [{'type': 'xy'}, {'type': 'xy'}]],\n",
        "                    subplot_titles=(\"<b>Generation</b>\", \"<b>Speed</b>\", \"<b>Legendary</b>\",\n",
        "                                    \"<b>Attack</b>\", \"<b>Type 1</b>\", \"<b>Type 2</b>\"))\n",
        "hi.add_traces([go.Scatter(name = 'Generation', y = df_hi['Generation'], mode = \"markers+text\"),\n",
        "                go.Scatter(name = 'Speed', y = df_hi['Speed'], mode = \"markers+text\"),\n",
        "                go.Bar(name = 'Legendary', x = df_hi['Generation'], y = df_hi['Legendary']),\n",
        "                go.Scatter(name = 'Attack', x = df_hi['Attack'], y = df_hi['Type 1'], mode = \"markers+text\"),\n",
        "                go.Violin(name = 'Type 1', x = df_hi['Type 1'], line_color = 'olive'),\n",
        "                go.Violin(name = 'Type 2', x = df_hi['Type 2'], line_color = 'lightpink')],\n",
        "               rows=[1, 1, 2, 2, 3, 3], cols=[1, 2, 1, 2, 1, 2])\n",
        "hi.update_layout({'plot_bgcolor': 'rgba(0, 0, 0, 0)', 'paper_bgcolor': 'rgba(0, 0, 0, 0)'},)\n",
        "hi# Displaying the plot"
      ]
    },
    {
      "cell_type": "markdown",
      "id": "3GZltxn7EKLo",
      "metadata": {
        "id": "3GZltxn7EKLo"
      },
      "source": [
        "   **Inferences:-**\n",
        "\n",
        "        * Scatter plots are used to show the relation/correlation between two features.\n",
        "        * Violin plot is used to find the distribution of the data in given dataset\n",
        "        * Bar plot is used to visualize two or more set of data present in dataset"
      ]
    },
    {
      "cell_type": "markdown",
      "id": "8bf9348b",
      "metadata": {
        "id": "8bf9348b"
      },
      "source": [
        "17. Perform any two univariate, bivariate and multivariate Analysis on this dataset."
      ]
    },
    {
      "cell_type": "code",
      "execution_count": null,
      "id": "357afe31",
      "metadata": {
        "colab": {
          "base_uri": "https://localhost:8080/",
          "height": 313
        },
        "id": "357afe31",
        "outputId": "de9bc6ac-187d-4677-ac07-02e4f45326b3"
      },
      "outputs": [
        {
          "output_type": "execute_result",
          "data": {
            "text/plain": [
              "<matplotlib.axes._subplots.AxesSubplot at 0x7f3f8a8e8650>"
            ]
          },
          "metadata": {},
          "execution_count": 52
        },
        {
          "output_type": "display_data",
          "data": {
            "text/plain": [
              "<Figure size 432x288 with 1 Axes>"
            ],
            "image/png": "[encoded data removed]"
          },
          "metadata": {
            "needs_background": "light"
          }
        }
      ],
      "source": [
        "df_hi['Type 1'].value_counts().plot.bar()# Univariate analysis on categorical feature"
      ]
    },
    {
      "cell_type": "markdown",
      "id": "8a773ea6",
      "metadata": {
        "id": "8a773ea6"
      },
      "source": [
        "   **Inferences:-**\n",
        "\n",
        "    * From the above plot we will observe that frquency of each types\n",
        "      present in Type 1 pokemon."
      ]
    },
    {
      "cell_type": "code",
      "execution_count": null,
      "id": "o3HJakrwFb4n",
      "metadata": {
        "colab": {
          "base_uri": "https://localhost:8080/",
          "height": 313
        },
        "id": "o3HJakrwFb4n",
        "outputId": "ca89fb12-a1ea-4c39-be1a-68de7e68762f"
      },
      "outputs": [
        {
          "output_type": "execute_result",
          "data": {
            "text/plain": [
              "<matplotlib.axes._subplots.AxesSubplot at 0x7f3f8a297410>"
            ]
          },
          "metadata": {},
          "execution_count": 53
        },
        {
          "output_type": "display_data",
          "data": {
            "text/plain": [
              "<Figure size 432x288 with 1 Axes>"
            ],
            "image/png": "[encoded data removed]"
          },
          "metadata": {
            "needs_background": "light"
          }
        }
      ],
      "source": [
        "((df_hi['Type 1'].value_counts() / len(df_hi))*100).plot.bar()"
      ]
    },
    {
      "cell_type": "markdown",
      "id": "397153e7",
      "metadata": {
        "id": "397153e7"
      },
      "source": [
        "   **Inferences:-**\n",
        "\n",
        "    *From below plot we find that Water type occupies 14% and Normal\n",
        "    type occupies 12% of dataset"
      ]
    },
    {
      "cell_type": "code",
      "execution_count": null,
      "id": "V4qCjbI1Gbq8",
      "metadata": {
        "colab": {
          "base_uri": "https://localhost:8080/",
          "height": 283
        },
        "id": "V4qCjbI1Gbq8",
        "outputId": "1afd5d7b-c2c7-49f9-d7e8-10c892255e08"
      },
      "outputs": [
        {
          "output_type": "execute_result",
          "data": {
            "text/plain": [
              "<matplotlib.axes._subplots.AxesSubplot at 0x7f3f8e244c10>"
            ]
          },
          "metadata": {},
          "execution_count": 54
        },
        {
          "output_type": "display_data",
          "data": {
            "text/plain": [
              "<Figure size 432x288 with 1 Axes>"
            ],
            "image/png": "[encoded data removed]"
          },
          "metadata": {
            "needs_background": "light"
          }
        }
      ],
      "source": [
        "df_hi['Generation'].value_counts().sort_index().plot.line()#analysis on numerical feature"
      ]
    },
    {
      "cell_type": "markdown",
      "id": "e8c59d4d",
      "metadata": {
        "id": "e8c59d4d"
      },
      "source": [
        "   **Inferances:-**\n",
        "\n",
        "       *From the above plot we can see that there are more number of pokemons\n",
        "       in Generation 1, 3, 5 than 2, 4, 6\n",
        "       *Most number of pokemon is in Generation 1 & least number of pokemon is\n",
        "       in Generation 6"
      ]
    },
    {
      "cell_type": "code",
      "execution_count": null,
      "id": "E2jB2eQvGe9s",
      "metadata": {
        "colab": {
          "base_uri": "https://localhost:8080/",
          "height": 297
        },
        "id": "E2jB2eQvGe9s",
        "outputId": "7792b2a6-a9b6-4401-84e6-7b9048dbda87",
        "scrolled": true
      },
      "outputs": [
        {
          "output_type": "execute_result",
          "data": {
            "text/plain": [
              "<matplotlib.axes._subplots.AxesSubplot at 0x7f3f89ee3190>"
            ]
          },
          "metadata": {},
          "execution_count": 55
        },
        {
          "output_type": "display_data",
          "data": {
            "text/plain": [
              "<Figure size 432x288 with 1 Axes>"
            ],
            "image/png": "[encoded data removed]"
          },
          "metadata": {
            "needs_background": "light"
          }
        }
      ],
      "source": [
        "df_hi.plot.scatter(x='Total', y='Speed')# Bivariate analysis on numerical feature"
      ]
    },
    {
      "cell_type": "markdown",
      "id": "955ae58d",
      "metadata": {
        "id": "955ae58d"
      },
      "source": [
        "   **inferances:-**\n",
        "\n",
        "    *We have plotted scatter plot for Speed and Total\n",
        "    *This scatter plots do not effectively treat points which map to the same place\n",
        "    *So, we go for the below plot, the hex plot"
      ]
    },
    {
      "cell_type": "code",
      "execution_count": null,
      "id": "a8rx9WOmG75q",
      "metadata": {
        "colab": {
          "base_uri": "https://localhost:8080/",
          "height": 333
        },
        "id": "a8rx9WOmG75q",
        "outputId": "bf4e75ac-4659-4945-b125-84af0d69de52"
      },
      "outputs": [
        {
          "output_type": "execute_result",
          "data": {
            "text/plain": [
              "<matplotlib.axes._subplots.AxesSubplot at 0x7f3f89eb67d0>"
            ]
          },
          "metadata": {},
          "execution_count": 56
        },
        {
          "output_type": "display_data",
          "data": {
            "text/plain": [
              "<Figure size 432x288 with 1 Axes>"
            ],
            "image/png": "[encoded data removed]"
          },
          "metadata": {
            "needs_background": "light"
          }
        }
      ],
      "source": [
        "pok_gen_leg = df_hi.groupby(['Generation', 'Legendary']).mean()[['Attack', 'Defense']]\n",
        "pok_gen_leg.plot.bar(stacked = True)"
      ]
    },
    {
      "cell_type": "markdown",
      "id": "7c394023",
      "metadata": {
        "id": "7c394023"
      },
      "source": [
        "   **Inferances:-**\n",
        "\n",
        "    *Here 4 features are represented below Generation, Legendary, Attack, Defense\n",
        "    *In general the Defense value is higher than Attack for all pokemons\n",
        "    *Pokemons that aree Legendary has more Attack and Defense powers\n",
        "    *Generations 3 & 6 have more powers than other Generations even if they are Legendary\n",
        "    "
      ]
    },
    {
      "cell_type": "code",
      "execution_count": null,
      "id": "EA68lB6MHAPz",
      "metadata": {
        "colab": {
          "base_uri": "https://localhost:8080/",
          "height": 261
        },
        "id": "EA68lB6MHAPz",
        "outputId": "00788a98-3938-4ac4-9b95-2040778690b7"
      },
      "outputs": [
        {
          "output_type": "display_data",
          "data": {
            "text/plain": [
              "<Figure size 360x216 with 2 Axes>"
            ],
            "image/png": "[encoded data removed]"
          },
          "metadata": {
            "needs_background": "light"
          }
        }
      ],
      "source": [
        "# Multivariate analysis on numerical variable\n",
        "cor_pokemon = df_hi.drop(['Type 1','Type 2','Name','Legendary'], axis = 1)\n",
        "corr_pokemon = cor_pokemon.corr()\n",
        "plt.figure(figsize = (5,3))\n",
        "sns.heatmap(corr_pokemon, annot = True, cmap='Reds')\n",
        "plt.show()"
      ]
    },
    {
      "cell_type": "markdown",
      "id": "17162969",
      "metadata": {
        "id": "17162969"
      },
      "source": [
        "   **Inferances:-**\n",
        "\n",
        "        * Total is highly corelated with Attack, Defense, Sp.Atk, Sp.Def\n",
        "        * Speed & Generation is least corelated with other features"
      ]
    },
    {
      "cell_type": "code",
      "execution_count": null,
      "id": "7hI0ALLiHIuy",
      "metadata": {
        "colab": {
          "base_uri": "https://localhost:8080/",
          "height": 298
        },
        "id": "7hI0ALLiHIuy",
        "outputId": "5a00a0ee-2e99-42bd-98e6-4a0a6ccce7df"
      },
      "outputs": [
        {
          "output_type": "execute_result",
          "data": {
            "text/plain": [
              "<matplotlib.axes._subplots.AxesSubplot at 0x7f3f89cc2690>"
            ]
          },
          "metadata": {},
          "execution_count": 58
        },
        {
          "output_type": "display_data",
          "data": {
            "text/plain": [
              "<Figure size 432x288 with 1 Axes>"
            ],
            "image/png": "[encoded data removed]"
          },
          "metadata": {
            "needs_background": "light"
          }
        }
      ],
      "source": [
        "# Multivariate analysis on categorical variable\n",
        "sns.boxplot(x=\"Generation\", y=\"Total\", hue='Legendary', data=df_hi)"
      ]
    },
    {
      "cell_type": "markdown",
      "id": "39b65e48",
      "metadata": {
        "id": "39b65e48"
      },
      "source": [
        "   **Inferances:-**\n",
        "\n",
        "    *Plotting Box plot for Total and Generation with respect to Legendary.\n",
        "    *If a pokemon is Legendary Total value is always higher than non Legendary pokemons.\n",
        "    *In non Legendary pokemons there were many outliers in Total when compared to\n",
        "     Legendary pokemons"
      ]
    }
  ],
  "metadata": {
    "colab": {
      "provenance": []
    },
    "kernelspec": {
      "display_name": "Python 3 (ipykernel)",
      "language": "python",
      "name": "python3"
    },
    "language_info": {
      "codemirror_mode": {
        "name": "ipython",
        "version": 3
      },
      "file_extension": ".py",
      "mimetype": "text/x-python",
      "name": "python",
      "nbconvert_exporter": "python",
      "pygments_lexer": "ipython3",
      "version": "3.9.12"
    },
    "vscode": {
      "interpreter": {
        "hash": "87518857a17028379713cbbfbde12f7a99c4f6ee2815df97e98a1b938e4bb640"
      }
    }
  },
  "nbformat": 4,
  "nbformat_minor": 5
}